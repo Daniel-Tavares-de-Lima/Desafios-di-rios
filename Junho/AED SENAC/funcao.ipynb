{
 "cells": [
  {
   "cell_type": "markdown",
   "metadata": {},
   "source": [
    "## Funções"
   ]
  },
  {
   "cell_type": "code",
   "execution_count": 6,
   "metadata": {},
   "outputs": [
    {
     "name": "stdout",
     "output_type": "stream",
     "text": [
      "Número  1\n",
      "Número  2\n",
      "Número  3\n",
      "Número  4\n",
      "Número  5\n"
     ]
    }
   ],
   "source": [
    "def funcaoLeitura():\n",
    "    for num in [1,2,3,4,5]:\n",
    "        print(\"Número \", num)\n",
    "\n",
    "\n",
    "funcaoLeitura()"
   ]
  },
  {
   "cell_type": "code",
   "execution_count": 12,
   "metadata": {},
   "outputs": [
    {
     "name": "stdout",
     "output_type": "stream",
     "text": [
      "Número  0\n",
      "Número  1\n",
      "Número  2\n",
      "Número  3\n",
      "Número  4\n"
     ]
    }
   ],
   "source": [
    "def funcaoLeitura2():\n",
    "    for num in range(5):\n",
    "        print(\"Número \", num)\n",
    "\n",
    "\n",
    "funcaoLeitura2()"
   ]
  },
  {
   "cell_type": "code",
   "execution_count": 17,
   "metadata": {},
   "outputs": [
    {
     "name": "stdout",
     "output_type": "stream",
     "text": [
      "O primeiro número é: 2\n",
      "O segundo número é: 3\n",
      "A soma número é: 5\n",
      "O primeiro número é: 5\n",
      "O segundo número é: 4\n",
      "A soma número é: 9\n"
     ]
    }
   ],
   "source": [
    "def addNum(n1,n2):\n",
    "    print(\"O primeiro número é:\", n1)\n",
    "    print(\"O segundo número é:\", n2)\n",
    "    print(\"A soma número é:\", n1 + n2)\n",
    "\n",
    "addNum(2,3)\n",
    "addNum(5,4)\n"
   ]
  },
  {
   "cell_type": "code",
   "execution_count": 22,
   "metadata": {},
   "outputs": [
    {
     "name": "stdout",
     "output_type": "stream",
     "text": [
      "Variavel da função multiplica:  1000\n",
      "1000\n",
      "10\n"
     ]
    }
   ],
   "source": [
    "varGlobal = 10\n",
    "\n",
    "def multiplica(n1,n2):\n",
    "    varLocal = n1 * n2\n",
    "    print(\"Variavel da função multiplica: \", varLocal)\n",
    "    print(varLocal)\n",
    "    \n",
    "\n",
    "multiplica(20,50)\n",
    "print(varGlobal)"
   ]
  },
  {
   "cell_type": "code",
   "execution_count": 27,
   "metadata": {},
   "outputs": [
    {
     "name": "stdout",
     "output_type": "stream",
     "text": [
      "Variável da função Multiplica:  20\n",
      "10\n"
     ]
    }
   ],
   "source": [
    "varGlobal = 10\n",
    "def multiplicacao(num1,num2):\n",
    "    varGlobal = (num1 * num2)\n",
    "    print(\"Variável da função Multiplica: \", varGlobal)\n",
    "    \n",
    "\n",
    "multiplicacao(5,4)\n",
    "print(varGlobal)\n",
    "\n"
   ]
  },
  {
   "cell_type": "markdown",
   "metadata": {},
   "source": [
    "### Explicando a diferença entre Variável Global e Variável Local\n",
    "Variável global você pode acessa-lá em qualquer lugar do código. Varíavel Local você pode acessa-lá apenas no escopo da estrutura, inclusíve é a melhor opção quando se trata de CleanCode e segurança do código"
   ]
  },
  {
   "cell_type": "code",
   "execution_count": 32,
   "metadata": {},
   "outputs": [
    {
     "name": "stdout",
     "output_type": "stream",
     "text": [
      "Parâmetro 0 Testew\n",
      "Parâmetro 1 DANIEL\n"
     ]
    }
   ],
   "source": [
    "def variosParametros(*parametros):\n",
    "    for n, item in enumerate(parametros):\n",
    "        print(\"Parâmetro\", n, item)\n",
    "    return \n",
    "\n",
    "variosParametros(\"Testew\", \"DANIEL\")"
   ]
  },
  {
   "cell_type": "markdown",
   "metadata": {},
   "source": [
    "### Calculadora feita por mim :)"
   ]
  },
  {
   "cell_type": "code",
   "execution_count": 38,
   "metadata": {},
   "outputs": [
    {
     "name": "stdout",
     "output_type": "stream",
     "text": [
      "Numero invalido\n"
     ]
    },
    {
     "data": {
      "text/plain": [
       "0"
      ]
     },
     "execution_count": 38,
     "metadata": {},
     "output_type": "execute_result"
    }
   ],
   "source": [
    "\n",
    "def calculadora (resposta, numeros1, numeros2):\n",
    "    resultado = 0 \n",
    "    if resposta == 1:\n",
    "        resultado = numeros1 + numeros2\n",
    "    elif resposta == 2:\n",
    "        resultado = numeros1 - numeros2\n",
    "    elif resposta == 3:\n",
    "        resultado = numeros1 * numeros2\n",
    "    elif resposta == 4:\n",
    "        if numeros2 == 0:\n",
    "            print(\"Essa conta não é possível\")\n",
    "        else:\n",
    "\n",
    "            resultado = numeros1 / numeros2\n",
    "    else:\n",
    "        print(\"Numero invalido\")\n",
    "    \n",
    "    return resultado\n",
    "\n",
    "    \n",
    "\n",
    "resposta = int(input(\"Digite 1 para Somar \\n Digite 2 para subtrair \\n Digite 3 para Multiplicar \\n Digite 4 para Dividir\"))\n",
    "num1 = int(input(\"Digite o primeiro número\"))\n",
    "num2 = int(input(\"Digite o segundo número\"))\n",
    "\n",
    "calculadora(resposta, num1, num2)\n",
    "\n"
   ]
  },
  {
   "cell_type": "markdown",
   "metadata": {},
   "source": [
    "### Calculadora apresentada na aula :)"
   ]
  },
  {
   "cell_type": "code",
   "execution_count": 44,
   "metadata": {},
   "outputs": [
    {
     "name": "stdout",
     "output_type": "stream",
     "text": [
      "+==================+\n",
      "| MENU DE OPERAÇÕES |\n",
      "| 1 - somar         |\n",
      "| 2 - subtrair       |\n",
      "| 3 - multiplicar    |\n",
      "| 4 - dividir        |\n",
      "| 0 - sair           |\n",
      "+===================+\n",
      "Número inválido\n",
      "+==================+\n",
      "| MENU DE OPERAÇÕES |\n",
      "| 1 - somar         |\n",
      "| 2 - subtrair       |\n",
      "| 3 - multiplicar    |\n",
      "| 4 - dividir        |\n",
      "| 0 - sair           |\n",
      "+===================+\n"
     ]
    }
   ],
   "source": [
    "while True:\n",
    "    print(\"+==================+\")\n",
    "    print(\"| MENU DE OPERAÇÕES |\")\n",
    "    print(\"| 1 - somar         |\")\n",
    "    print(\"| 2 - subtrair       |\")\n",
    "    print(\"| 3 - multiplicar    |\")\n",
    "    print(\"| 4 - dividir        |\")\n",
    "    print(\"| 0 - sair           |\")\n",
    "    print(\"+===================+\")\n",
    "\n",
    "\n",
    "    op = int(input())\n",
    "    if op == 0:\n",
    "        break\n",
    "\n",
    "\n",
    "    ## SOMA\n",
    "    def soma(n1,n2):\n",
    "        return (n1 + n2)\n",
    "    \n",
    "    ## SUBTRAÇÃO\n",
    "    def subtrai(n1,n2):\n",
    "        return (n1 - n2)\n",
    "    \n",
    "    ## MULTIPLICAÇÃO\n",
    "    def multiplica(n1,n2):\n",
    "        return (n1 * n2)\n",
    "    \n",
    "    ## DIVISÃO\n",
    "    def divisao(n1,n2):\n",
    "        if n2 == 0:\n",
    "            return \"Não é possível fazer essa conta\"\n",
    "        else:\n",
    "            return (n1 / n2)\n",
    "    \n",
    "\n",
    "    n1 = int(input(\"Primeiro número: \"))\n",
    "    n2 = int(input(\"Segundo número: \"))\n",
    "\n",
    "    if op == 1:\n",
    "        print(\"O resultado da soma é: \", soma(n1,n2))\n",
    "    elif op==2:\n",
    "        print(\"o resultado da subtração é: \", subtrai(n1,n2))\n",
    "    elif op==3:\n",
    "        print(\"O resultado da multiplicação é \", multiplica(n1,n2))\n",
    "    elif op == 4:\n",
    "        print(\"O resultado da divisão é \", divisao(n1,n2))\n",
    "\n",
    "    else:\n",
    "        \n",
    "        print(\"Número inválido\")\n",
    "\n",
    "   \n",
    "\n",
    "\n"
   ]
  },
  {
   "cell_type": "code",
   "execution_count": null,
   "metadata": {},
   "outputs": [],
   "source": []
  }
 ],
 "metadata": {
  "kernelspec": {
   "display_name": "Python 3",
   "language": "python",
   "name": "python3"
  },
  "language_info": {
   "codemirror_mode": {
    "name": "ipython",
    "version": 3
   },
   "file_extension": ".py",
   "mimetype": "text/x-python",
   "name": "python",
   "nbconvert_exporter": "python",
   "pygments_lexer": "ipython3",
   "version": "3.11.9"
  }
 },
 "nbformat": 4,
 "nbformat_minor": 2
}
