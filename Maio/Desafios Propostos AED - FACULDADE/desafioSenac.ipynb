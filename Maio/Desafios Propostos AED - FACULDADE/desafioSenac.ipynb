{
 "cells": [
  {
   "cell_type": "markdown",
   "metadata": {},
   "source": [
    "### Faça um programa que verifique se uma letra digitada é vogal ou consoante."
   ]
  },
  {
   "cell_type": "code",
   "execution_count": 3,
   "metadata": {},
   "outputs": [
    {
     "name": "stdout",
     "output_type": "stream",
     "text": [
      "Essa letra é Consoante.\n"
     ]
    }
   ],
   "source": [
    "letra = input(\"Digite uma letra\")\n",
    "\n",
    "if letra == \"a\" or letra == \"e\" or letra == \"i\" or letra == \"o\" or letra == \"u\":\n",
    "    print(\"Essa letra é uma vogal\")\n",
    "else:\n",
    "    print(\"Essa letra é Consoante.\")\n",
    "\n"
   ]
  },
  {
   "cell_type": "markdown",
   "metadata": {},
   "source": [
    "### Faça um programa que pergunte o preço de três produtos e informe qual produto você deve comprar, sabendo que a decisão é sempre pelo mais barato."
   ]
  },
  {
   "cell_type": "code",
   "execution_count": 7,
   "metadata": {},
   "outputs": [
    {
     "name": "stdout",
     "output_type": "stream",
     "text": [
      "Voce pode comprar qualquer um dos produtos, pois os valores são iguas.\n"
     ]
    }
   ],
   "source": [
    "# Variáveis Iniciais\n",
    "precoProduto1 = float(input(\"Digite o preço do primeiro produto\"))\n",
    "precoProduto2 = float(input(\"Digite o preço do segundo produto\"))\n",
    "precoProduto3 = float(input(\"Digite o preço do terceiro produto\"))\n",
    "\n",
    "# Verificação do primeiro produto\n",
    "if precoProduto1 < precoProduto2 and precoProduto1 < precoProduto3:\n",
    "    print(\"Voce deve comprar o produto 1\")\n",
    "\n",
    "# Verificação do segundo produto\n",
    "elif precoProduto2 < precoProduto1 and precoProduto2 < precoProduto3:\n",
    "    print(\"Voce deve comprar o produto 2\")\n",
    "# Verificação do terceiro produto\n",
    "elif precoProduto3 < precoProduto1 and precoProduto3 < precoProduto2:\n",
    "    print(\"Voce deve comprar o produto 3\")\n",
    "\n",
    "# Caso os números sejam iguais.\n",
    "else:\n",
    "    print(\"Voce pode comprar qualquer um dos produtos, pois os valores são iguas.\")\n"
   ]
  },
  {
   "cell_type": "markdown",
   "metadata": {},
   "source": [
    "### Mostre um Programa que leia três números em ordem descrecente."
   ]
  },
  {
   "cell_type": "code",
   "execution_count": 10,
   "metadata": {},
   "outputs": [
    {
     "name": "stdout",
     "output_type": "stream",
     "text": [
      "Números em ordem decrescente:\n",
      "789 456 123\n"
     ]
    }
   ],
   "source": [
    "# Ler os três números do usuário\n",
    "num1 = int(input(\"Digite o primeiro número: \"))\n",
    "num2 = int(input(\"Digite o segundo número: \"))\n",
    "num3 = int(input(\"Digite o terceiro número: \"))\n",
    "\n",
    "# Verificar se o num 1 é maior ou igual\n",
    "if num1 >= num2 and num1 >= num3:\n",
    "    # Verifica se o num2 é maior ou igual\n",
    "    if num2 >= num3:\n",
    "        maior = num1\n",
    "        meio = num2\n",
    "        menor = num3\n",
    "    # Se não é menor\n",
    "    else:\n",
    "        maior = num1\n",
    "        meio = num3\n",
    "        menor = num2\n",
    "# Verifica se o num2 é maior ou igual\n",
    "elif num2 >= num1 and num2 >= num3:\n",
    "    # Verifica se o num1 é maior ou igual\n",
    "    if num1 >= num3:\n",
    "        maior = num2\n",
    "        meio = num1\n",
    "        menor = num3\n",
    "    # Se não é menor\n",
    "    else:\n",
    "        maior = num2\n",
    "        meio = num3\n",
    "        menor = num1\n",
    "# Se não o num3 é maior ou igual\n",
    "else:\n",
    "    # Verifica se o num1 é maior ou igual\n",
    "    if num1 >= num2:\n",
    "        maior = num3\n",
    "        meio = num1\n",
    "        menor = num2\n",
    "    # Se não é menor\n",
    "    else:\n",
    "        maior = num3\n",
    "        meio = num2\n",
    "        menor = num1\n",
    "\n",
    "# Exibir os números em ordem decrescente\n",
    "print(\"Números em ordem decrescente:\")\n",
    "print(maior, meio, menor)"
   ]
  },
  {
   "cell_type": "markdown",
   "metadata": {},
   "source": [
    "### Faça um Programa que pergunte em que turno você estuda. Peça para digitar M-Matutino ou V-Verpertino ou N-Noturno. Imprima a mensagem \"Bom dia!\", \"Boa Tarde!\", \"Boa noite!\" ou \"Valor Inválido\", conforme o caso."
   ]
  },
  {
   "cell_type": "code",
   "execution_count": 5,
   "metadata": {},
   "outputs": [
    {
     "name": "stdout",
     "output_type": "stream",
     "text": [
      "Valor Inválido\n"
     ]
    }
   ],
   "source": [
    "# Variável que pergunta\n",
    "turno = input(\"Qual turno você estuda? Digite M-Matutino ou V-Verpertino ou N-Noturno\")\n",
    "\n",
    "# Se turno for igual a m/M -> Bom dia!\n",
    "if turno == \"m\" or turno == \"M\":\n",
    "    print(\"Bom dia!\")\n",
    "\n",
    "# Se turno for igual a v/V -> Boa Tarde!\n",
    "elif turno == \"v\" or turno == \"V\":\n",
    "    print(\"Boa Tarde!\")\n",
    "\n",
    "# Se turno for igual a n/N -> Boa noite!\n",
    "elif turno == \"n\" or turno == \"N\":\n",
    "    print(\"Boa noite!\")\n",
    "\n",
    "# Se não Valor inválido\n",
    "else:\n",
    "    print(\"Valor Inválido\")"
   ]
  },
  {
   "cell_type": "markdown",
   "metadata": {},
   "source": [
    "### Faça um programa que leia um número e exiba o dia correspondente da semana, (1-Domingo,2-Segunda,etc). Se for digitado outro valor deve retornar uma mensagem informando valor inválido."
   ]
  },
  {
   "cell_type": "code",
   "execution_count": null,
   "metadata": {},
   "outputs": [],
   "source": [
    "# Verifica o Dia\n",
    "dia = input(\"Digite um número de 1 a 7 para saber o dia da semana\")\n",
    "\n",
    "# Domingo\n",
    "if dia == 1: \n",
    "    print(\"O dia é Domingo!\")\n",
    "#Segunda\n",
    "if dia == 2: \n",
    "    print(\"O dia é Segunda!\")\n",
    "# Terça\n",
    "if dia == 3: \n",
    "    print(\"O dia é Terça!\")\n",
    "#  Quarta\n",
    "if dia == 4: \n",
    "    print(\"O dia é Quarta!\")\n",
    "#Quinta\n",
    "if dia == 5: \n",
    "    print(\"O dia é Quinta!\")\n",
    "# Sexta\n",
    "if dia == 6: \n",
    "    print(\"O dia é Sexta!\")\n",
    "# Sábado\n",
    "if dia == 7: \n",
    "    print(\"O dia é Sábado!\")\n"
   ]
  },
  {
   "cell_type": "markdown",
   "metadata": {},
   "source": [
    "### Faça um programa que lê as duas notas parciais obtidas por um aluno numa disciplina ao longo de um semestre, e calcule a sua média.\n",
    "\n"
   ]
  },
  {
   "cell_type": "code",
   "execution_count": 8,
   "metadata": {},
   "outputs": [
    {
     "name": "stdout",
     "output_type": "stream",
     "text": [
      "Sua nota na primeiro semestre foi  6.0\n",
      "Sua nota na segundo semestre foi  6.0\n",
      "Sua média foi  6.0\n",
      "Seu conceito foi  Nota D\n",
      "Infelizmente você foi Reprovado!\n"
     ]
    }
   ],
   "source": [
    "nota1 = float(input(\"Digite sua primeira nota\"))\n",
    "nota2 = float(input(\"Digite sua segunda nota\"))\n",
    "conceito = \"\"\n",
    "# Verifica se as notas são válidas\n",
    "if (nota1 > 10) or (nota1 < 0) or (nota2 > 10) or (nota2 < 0):\n",
    "    print(\"Digite uma nota válida!\")\n",
    "\n",
    "# Calculo da média\n",
    "media = (nota1 + nota2) / 2\n",
    "\n",
    "# Nota E\n",
    "if media >= 0 and media <= 4:\n",
    "    conceito = \"Nota E\"\n",
    "# Nota D   \n",
    "elif media > 4 and media <= 6:\n",
    "    conceito = \"Nota D\"\n",
    "# Nota C\n",
    "elif media > 6 and media <= 7.5:\n",
    "    conceito = \"Nota C\"\n",
    "# Nota B\n",
    "elif media > 7.5 and media <= 9:\n",
    "    conceito = \"Nota B\"\n",
    "# Nota A\n",
    "elif media > 9 and media <= 10:\n",
    "    conceito = \"Nota A\"\n",
    "\n",
    "## RESPOSTAS\n",
    "print(\"Sua nota na primeiro semestre foi \", nota1)\n",
    "print(\"Sua nota na segundo semestre foi \", nota2)\n",
    "\n",
    "print(\"Sua média foi \", media)\n",
    "\n",
    "print(\"Seu conceito foi \", conceito)\n",
    "\n",
    "# Reprovado\n",
    "if conceito == \"Nota D\" or conceito == \"Nota E\":\n",
    "    print(\"Infelizmente você foi Reprovado!\")\n",
    "# Aprovado\n",
    "else:\n",
    "    print(\"Parabéns, você foi APROVADO!\")"
   ]
  },
  {
   "cell_type": "markdown",
   "metadata": {},
   "source": [
    "### Faça um programa que peça um número correspondente a um determinado ano e em seguida informe se este ano é ou não bissexto"
   ]
  },
  {
   "cell_type": "code",
   "execution_count": null,
   "metadata": {},
   "outputs": [],
   "source": [
    "# Solicita ao usuário para inserir um ano\n",
    "ano = int(input(\"Digite um ano: \"))\n",
    "\n",
    "# Verifica se o ano é bissexto\n",
    "if (ano % 4 == 0 and ano % 100 != 0) or (ano % 400 == 0):\n",
    "    print(f\"O ano\", ano, \"é bissexto.\")\n",
    "else:\n",
    "    print(f\"O ano\", ano ,\"não é bissexto.\")\n"
   ]
  },
  {
   "cell_type": "markdown",
   "metadata": {},
   "source": [
    "### Faça um programa que leia 2 números e em seguida pergunte ao usuário qual operação básica(soma, subtração,multiplicação, divisão, exponenciação) ele deseja realizar. O resultado da operação deve ser acompanhado de uma frase que diga se o número é par ou ímpar, positivo ou negativo, inteiro ou decimal."
   ]
  },
  {
   "cell_type": "code",
   "execution_count": 16,
   "metadata": {},
   "outputs": [
    {
     "name": "stdout",
     "output_type": "stream",
     "text": [
      "O resultado da par de 5.0 e 5.0 é 10.0\n",
      "O resultado é par positivo e inteiro\n"
     ]
    }
   ],
   "source": [
    "# Variáveis Iniciais\n",
    "num1 = float(input(\"Digite o primeiro número: \"))\n",
    "num2 = float(input(\"Digite o segundo número: \"))\n",
    "\n",
    "# Qual operação\n",
    "operacao = input(\"Digite a operação desejada (soma, subtração, multiplicação, divisão, exponenciação): \")\n",
    "# Realiza a operação escolhida e exibe o resultado\n",
    "if operacao == \"soma\":\n",
    "    resultado = num1 + num2\n",
    "elif operacao == \"subtração\":\n",
    "    resultado = num1 - num2\n",
    "elif operacao == \"multiplicação\":\n",
    "    resultado = num1 * num2\n",
    "elif operacao == \"divisão\":\n",
    "    resultado = num1 / num2\n",
    "elif operacao == \"exponenciação\":\n",
    "    resultado = num1 ** num2\n",
    "else:\n",
    "    print(\"Operação inválida.\")\n",
    "\n",
    "\n",
    "# Verifica se o resultado é par ou ímpar, positivo ou negativo, inteiro ou decimal\n",
    "par_impar = \"par\" if resultado % 2 == 0 else \"ímpar\"\n",
    "positivo_negativo = \"positivo\" if resultado >= 0 else \"negativo\"\n",
    "inteiro_decimal = \"inteiro\" if resultado.is_integer() else \"decimal\"\n",
    "\n",
    "# Exibe o resultado da operação acompanhado das informações solicitadas\n",
    "print(\"O resultado da\", par_impar,  \"de\", num1 ,\"e\", num2, \"é\" ,resultado)\n",
    "print(\"O resultado é\", par_impar, positivo_negativo ,\"e\", inteiro_decimal)\n"
   ]
  },
  {
   "cell_type": "markdown",
   "metadata": {},
   "source": [
    "### Faça um programa que peça a idade e exiba a informação. Os valores aceitáveis devem estar entre 0 e 150. Valores fora desse limite não poderão ser aceitos"
   ]
  },
  {
   "cell_type": "code",
   "execution_count": null,
   "metadata": {},
   "outputs": [],
   "source": [
    "idade = int(input(\"Digite a sua idade\"))\n",
    "\n",
    "if idade >= 0 and idade <= 150:\n",
    "    print(\"Sua idade é \", idade)\n",
    "else:\n",
    "    print(\"Digite uma idade verdadeira\")"
   ]
  },
  {
   "cell_type": "markdown",
   "metadata": {},
   "source": [
    "### Utilizando estruturas de repetição e listas (com ou sem .append), faça um programa que leia 5 números e informe a soma e a média dos números."
   ]
  },
  {
   "cell_type": "code",
   "execution_count": 17,
   "metadata": {},
   "outputs": [
    {
     "name": "stdout",
     "output_type": "stream",
     "text": [
      "A soma dos números é: 21.0\n",
      "A média dos números é: 4.2\n"
     ]
    }
   ],
   "source": [
    "# Lista\n",
    "numeros = []\n",
    "\n",
    "# Loop para ler os 5 números\n",
    "for i in range(5):\n",
    "    numero = float(input(f\"Digite o {i+1}º número: \"))\n",
    "    numeros.append(numero)  # Adiciona o número à lista\n",
    "\n",
    "# Calcula a soma dos números\n",
    "soma = sum(numeros)\n",
    "\n",
    "# Calcula a média dos números\n",
    "media = soma / len(numeros)\n",
    "\n",
    "# Exibe a soma e a média\n",
    "print(\"A soma dos números é: \", soma)\n",
    "print(\"A média dos números é \", media)\n"
   ]
  },
  {
   "cell_type": "markdown",
   "metadata": {},
   "source": [
    "### Faça um programa que peça um número inteiro e determine se ele é ou não um número primo. Um número primo é aquele que é divisível somente por ele mesmo e por 1."
   ]
  },
  {
   "cell_type": "code",
   "execution_count": null,
   "metadata": {},
   "outputs": [],
   "source": [
    "# Variavel Inicial\n",
    "numero = int(input(\"Digite um número inteiro: \"))\n",
    "\n",
    "# Verifica se o número é primo\n",
    "if numero > 1:\n",
    "    # Loop para verificar se o número é divisível por algum número além de 1 e ele mesmo\n",
    "    for i in range(2, numero):\n",
    "        if (numero % i) == 0:\n",
    "            print(numero, \"não é um número primo.\")\n",
    "            break\n",
    "    else:\n",
    "        print(numero, \" é um número primo.\")\n",
    "else:\n",
    "    print(numero, \"não é um número primo.\")\n"
   ]
  },
  {
   "cell_type": "markdown",
   "metadata": {},
   "source": [
    "### O Departamento  Estadual de Meteorologia lhe contratou para desenvolver um programa que leia 5 temperaturas, e informe ao final a menor e a maior temperaturas informadas, bem como a média das temperaturas"
   ]
  },
  {
   "cell_type": "code",
   "execution_count": 19,
   "metadata": {},
   "outputs": [
    {
     "name": "stdout",
     "output_type": "stream",
     "text": [
      "A menor temperatura é: 12.0\n",
      "A maior temperatura é: 45.0\n",
      "A média das temperaturas é: 28.4\n"
     ]
    }
   ],
   "source": [
    "# Variáveis Inicias\n",
    "menor_temperatura = None\n",
    "maior_temperatura = None\n",
    "\n",
    "soma_temperaturas = 0\n",
    "\n",
    "# Loop para ler as 5 temperaturas\n",
    "for i in range(5):\n",
    "    temperatura = float(input(f\"Digite a temperatura {i + 1}: \"))\n",
    "    \n",
    "    # Verifica se é a primeira temperatura lida ou se é menor que a menor temperatura atual\n",
    "    if menor_temperatura is None or temperatura < menor_temperatura:\n",
    "        menor_temperatura = temperatura\n",
    "    \n",
    "    # Verifica se é a primeira temperatura lida ou se é maior que a maior temperatura atual\n",
    "    if maior_temperatura is None or temperatura > maior_temperatura:\n",
    "        maior_temperatura = temperatura\n",
    "    \n",
    "    # Soma as temperaturas\n",
    "    soma_temperaturas += temperatura\n",
    "\n",
    "# Calcula a média das temperaturas\n",
    "media_temperaturas = soma_temperaturas / 5\n",
    "\n",
    "# Exibe a menor temperatura, a maior temperatura e a média das temperaturas\n",
    "print(\"A menor temperatura é:\", menor_temperatura)\n",
    "print(\"A maior temperatura é:\", maior_temperatura)\n",
    "print(\"A média das temperaturas é:\", media_temperaturas)\n"
   ]
  },
  {
   "cell_type": "markdown",
   "metadata": {},
   "source": [
    "### Um banco concederá um crédito especial aos seus clientes, variável com o saldo médio no último ano. Faça um algoritmo que leia o saldo médio de um cliente e calcule o valor do crédito de acordo com a tabela abaixo. Mostre uma mensagem informando o saldo médio e o valor do crédido\n"
   ]
  },
  {
   "cell_type": "code",
   "execution_count": 20,
   "metadata": {},
   "outputs": [
    {
     "name": "stdout",
     "output_type": "stream",
     "text": [
      "O saldo médio do cliente é: 1000.0\n",
      "O valor do crédito é: 400.0\n"
     ]
    }
   ],
   "source": [
    "# Variável Inicial\n",
    "saldo_medio = float(input(\"Digite o saldo médio do cliente: \"))\n",
    "\n",
    "# Determina o valor do crédito de acordo com a tabela\n",
    "if saldo_medio <= 200:\n",
    "    valor_credito = 0\n",
    "elif saldo_medio <= 400:\n",
    "    valor_credito = saldo_medio * 0.2\n",
    "elif saldo_medio <= 600:\n",
    "    valor_credito = saldo_medio * 0.3\n",
    "else:\n",
    "    valor_credito = saldo_medio * 0.4\n",
    "\n",
    "# Exibe mensagem com o saldo médio e o valor do crédito\n",
    "print(\"O saldo médio do cliente é:\", saldo_medio)\n",
    "print(\"O valor do crédito é:\", valor_credito)\n"
   ]
  },
  {
   "cell_type": "markdown",
   "metadata": {},
   "source": [
    "### Voce foi contratado(a) para fazer um serviço para o INSS (Instituto Nacional do Seguro Social) do Brasil. O trabalho consiste em crir um programa que diga a pessoa o ano que ela poderá se aposentar. Voce deve perguntar a pessoa, o nome, a idade e criar uma mensagem"
   ]
  },
  {
   "cell_type": "code",
   "execution_count": 21,
   "metadata": {},
   "outputs": [
    {
     "name": "stdout",
     "output_type": "stream",
     "text": [
      "Olá, Daniel . Com 20 anos, você poderá se aposentar em 2067\n"
     ]
    }
   ],
   "source": [
    "# Variáveis Inicias\n",
    "nome = input(\"Digite o seu nome: \")\n",
    "idade = int(input(\"Digite a sua idade: \"))\n",
    "\n",
    "# Idade mínima para aposentadoria\n",
    "idade_minima = 65\n",
    "\n",
    "# Calcula o ano em que a pessoa poderá se aposentar\n",
    "ano_aposentadoria = 2022 + (idade_minima - idade)\n",
    "\n",
    "# Exibe a mensagem com o nome da pessoa e o ano de aposentadoria\n",
    "print(\"Olá,\", nome ,\". Com\", idade, \"anos, você poderá se aposentar em\",ano_aposentadoria)\n"
   ]
  },
  {
   "cell_type": "markdown",
   "metadata": {},
   "source": [
    "### Faça um programa para o cálculo de uma folha de pagamento, sabendo que os descostos são do imposto de Renda, que depende do salário bruto(conforme tabela abaixo), 3% para o Sindicato e que o FGTS corresponde a 11% do salário bruto menos os descontos. O programa deverá pedir ao usuário o valor da sua hora e a quantidade de horas trabalhadas no mês."
   ]
  },
  {
   "cell_type": "code",
   "execution_count": 22,
   "metadata": {},
   "outputs": [
    {
     "name": "stdout",
     "output_type": "stream",
     "text": [
      "Salário Bruto: R$ 320.0\n",
      "Desconto Imposto de Renda: R$ 0\n",
      "Desconto Sindicato: R$ 9.6\n",
      "FGTS: R$ 35.2\n",
      "Salário Líquido: R$ 310.4\n"
     ]
    }
   ],
   "source": [
    "# Variáveis Inicias\n",
    "valor_hora = float(input(\"Digite o valor da sua hora de trabalho: \"))\n",
    "horas_trabalhadas = float(input(\"Digite a quantidade de horas trabalhadas no mês: \"))\n",
    "\n",
    "# Calcula o salário bruto\n",
    "salario_bruto = valor_hora * horas_trabalhadas\n",
    "\n",
    "# Calcula o desconto do Imposto de Renda de acordo com a tabela\n",
    "if salario_bruto <= 2112.00:\n",
    "    desconto_ir = 0\n",
    "elif salario_bruto <= 2826.55:\n",
    "    desconto_ir = salario_bruto * 0.15\n",
    "elif salario_bruto <= 3751.05:\n",
    "    desconto_ir = salario_bruto * 0.225\n",
    "else:\n",
    "    desconto_ir = salario_bruto * 0.275\n",
    "\n",
    "# Calcula o desconto do Sindicato (3%)\n",
    "desconto_sindicato = salario_bruto * 0.03\n",
    "\n",
    "# Calcula o desconto total\n",
    "desconto_total = desconto_ir + desconto_sindicato\n",
    "\n",
    "# Calcula o valor do FGTS\n",
    "fgts = salario_bruto * 0.11\n",
    "\n",
    "# Calcula o salário líquido\n",
    "salario_liquido = salario_bruto - desconto_total\n",
    "\n",
    "# Exibe os resultados\n",
    "print(\"Salário Bruto: R$\", salario_bruto)\n",
    "print(\"Desconto Imposto de Renda: R$\", desconto_ir)\n",
    "print(\"Desconto Sindicato: R$\", desconto_sindicato)\n",
    "print(\"FGTS: R$\", fgts)\n",
    "print(\"Salário Líquido: R$\", salario_liquido)\n"
   ]
  },
  {
   "cell_type": "code",
   "execution_count": null,
   "metadata": {},
   "outputs": [],
   "source": []
  }
 ],
 "metadata": {
  "kernelspec": {
   "display_name": "Python 3",
   "language": "python",
   "name": "python3"
  },
  "language_info": {
   "codemirror_mode": {
    "name": "ipython",
    "version": 3
   },
   "file_extension": ".py",
   "mimetype": "text/x-python",
   "name": "python",
   "nbconvert_exporter": "python",
   "pygments_lexer": "ipython3",
   "version": "3.12.2"
  }
 },
 "nbformat": 4,
 "nbformat_minor": 2
}
