{
 "cells": [
  {
   "cell_type": "markdown",
   "metadata": {},
   "source": [
    "### Xuxa"
   ]
  },
  {
   "cell_type": "code",
   "execution_count": 5,
   "metadata": {},
   "outputs": [
    {
     "name": "stdout",
     "output_type": "stream",
     "text": [
      "5 patinhos foram passear \n",
      " Além das montanhas para brincar \n",
      " A mamãe gritou: Quá, Quá, Quá, Quá \n",
      " Mas só  4 patinhos voltaram de lá.\n",
      "4 patinhos foram passear \n",
      " Além das montanhas para brincar \n",
      " A mamãe gritou: Quá, Quá, Quá, Quá \n",
      " Mas só  3 patinhos voltaram de lá.\n",
      "3 patinhos foram passear \n",
      " Além das montanhas para brincar \n",
      " A mamãe gritou: Quá, Quá, Quá, Quá \n",
      " Mas só  2 patinhos voltaram de lá.\n",
      "2 patinhos foram passear \n",
      " Além das montanhas para brincar \n",
      " A mamãe gritou: Quá, Quá, Quá, Quá \n",
      " Mas só  1 patinhos voltaram de lá.\n",
      "1 patinhos foram passear \n",
      " Além das montanhas para brincar \n",
      " A mamãe gritou: Quá, Quá, Quá, Quá \n",
      " Mas só  0 patinhos voltaram de lá.\n"
     ]
    }
   ],
   "source": [
    "n = 5\n",
    "\n",
    "while n >= 0:\n",
    "    # Patinhos que voltaram\n",
    "    x = n - 1\n",
    "\n",
    "    # Caso n for igual a 0, não há mais patinhos para se perder\n",
    "    if n == 0:\n",
    "        n = 5\n",
    "        break\n",
    "    \n",
    "    # Print\n",
    "    print(n ,\"patinhos foram passear \\n Além das montanhas para brincar \\n A mamãe gritou: Quá, Quá, Quá, Quá \\n Mas só \", x, \"patinhos voltaram de lá.\")\n",
    "    n -= 1\n",
    "    \n"
   ]
  },
  {
   "cell_type": "markdown",
   "metadata": {},
   "source": [
    "### Mariana Conta 1 2 3 4 5 6 7 8 9 10"
   ]
  },
  {
   "cell_type": "code",
   "execution_count": 15,
   "metadata": {},
   "outputs": [
    {
     "name": "stdout",
     "output_type": "stream",
     "text": [
      "Mariana conta 1, Mariana conta 1: é 1, é 1, é 1\n",
      "Mariana conta  2 Mariana conta  2  é, [1, 2] \n",
      " é Ana Viva a Mariana, Viva a Mariana.\n",
      "Mariana conta  3 Mariana conta  3  é, [1, 2, 3] \n",
      " é Ana Viva a Mariana, Viva a Mariana.\n",
      "Mariana conta  4 Mariana conta  4  é, [1, 2, 3, 4] \n",
      " é Ana Viva a Mariana, Viva a Mariana.\n",
      "Mariana conta  5 Mariana conta  5  é, [1, 2, 3, 4, 5] \n",
      " é Ana Viva a Mariana, Viva a Mariana.\n",
      "Mariana conta  6 Mariana conta  6  é, [1, 2, 3, 4, 5, 6] \n",
      " é Ana Viva a Mariana, Viva a Mariana.\n",
      "Mariana conta  7 Mariana conta  7  é, [1, 2, 3, 4, 5, 6, 7] \n",
      " é Ana Viva a Mariana, Viva a Mariana.\n",
      "Mariana conta  8 Mariana conta  8  é, [1, 2, 3, 4, 5, 6, 7, 8] \n",
      " é Ana Viva a Mariana, Viva a Mariana.\n",
      "Mariana conta  9 Mariana conta  9  é, [1, 2, 3, 4, 5, 6, 7, 8, 9] \n",
      " é Ana Viva a Mariana, Viva a Mariana.\n",
      "Mariana conta  10 Mariana conta  10  é, [1, 2, 3, 4, 5, 6, 7, 8, 9, 10] \n",
      " é Ana Viva a Mariana, Viva a Mariana.\n"
     ]
    }
   ],
   "source": [
    "lista = [1,2,3,4,5,6,7,8,9,10]\n",
    "\n",
    "i = 1\n",
    "\n",
    "for i in lista:\n",
    "    if i == 1:\n",
    "        print(\"Mariana conta 1, Mariana conta 1: é 1, é 1, é 1\")\n",
    "    else:\n",
    "        print(\"Mariana conta \", i, \"Mariana conta \", i, \" é,\", lista[0:i], \"\\n é Ana Viva a Mariana, Viva a Mariana.\")"
   ]
  },
  {
   "cell_type": "markdown",
   "metadata": {},
   "source": [
    "### Elefantes"
   ]
  },
  {
   "cell_type": "code",
   "execution_count": 21,
   "metadata": {},
   "outputs": [
    {
     "name": "stdout",
     "output_type": "stream",
     "text": [
      "1  incomodam muito mais!\n",
      "2  incomodam incomodam muito mais!\n",
      "3  incomodam incomodam incomodam muito mais!\n",
      "4  incomodam incomodam incomodam incomodam muito mais!\n",
      "5  incomodam incomodam incomodam incomodam incomodam muito mais!\n",
      "6  incomodam incomodam incomodam incomodam incomodam incomodam muito mais!\n",
      "7  incomodam incomodam incomodam incomodam incomodam incomodam incomodam muito mais!\n",
      "8  incomodam incomodam incomodam incomodam incomodam incomodam incomodam incomodam muito mais!\n",
      "9  incomodam incomodam incomodam incomodam incomodam incomodam incomodam incomodam incomodam muito mais!\n",
      "10  incomodam incomodam incomodam incomodam incomodam incomodam incomodam incomodam incomodam incomodam muito mais!\n"
     ]
    }
   ],
   "source": [
    "str = \" incomodam\"\n",
    "\n",
    "lista = [1,2,3,4,5,6,7,8,9,10]\n",
    "\n",
    "\n",
    "for i in lista:\n",
    "    if n == 1:\n",
    "        print(\"1 elefante incomoda muita gente\")\n",
    "    else:\n",
    "        print(i, str * i, \"muito mais!\")\n",
    "    "
   ]
  },
  {
   "cell_type": "code",
   "execution_count": null,
   "metadata": {},
   "outputs": [],
   "source": []
  }
 ],
 "metadata": {
  "kernelspec": {
   "display_name": "Python 3",
   "language": "python",
   "name": "python3"
  },
  "language_info": {
   "codemirror_mode": {
    "name": "ipython",
    "version": 3
   },
   "file_extension": ".py",
   "mimetype": "text/x-python",
   "name": "python",
   "nbconvert_exporter": "python",
   "pygments_lexer": "ipython3",
   "version": "3.11.9"
  }
 },
 "nbformat": 4,
 "nbformat_minor": 2
}
