{
 "cells": [
  {
   "cell_type": "markdown",
   "metadata": {},
   "source": [
    "# Encontre os divisores!\n",
    "Data: 28/03/2024. De: Codewars. Link para kata.\n",
    "\n",
    "# Descrição\n",
    "Crie uma função chamada divisors/Divisors que recebe um inteiro n > 1 e retorna um array com todos os divisores inteiros do número (exceto 1 e o próprio número), do menor para o maior. Se o número for primo, retorne a string '(inteiro) é primo'.\n",
    "\n",
    "# Exemplos\n",
    "\n",
    "divisors(12); #deve retornar [2,3,4,6]\n",
    "divisors(25); #deve retornar [5]\n",
    "divisors(13); #deve retornar \"13 é primo\""
   ]
  },
  {
   "cell_type": "code",
   "execution_count": 9,
   "metadata": {},
   "outputs": [],
   "source": [
    "import numpy as np\n",
    "import time"
   ]
  },
  {
   "cell_type": "code",
   "execution_count": 43,
   "metadata": {},
   "outputs": [],
   "source": [
    "def divisor(numero):\n",
    "    ## Restrição 1\n",
    "    if numero <= 1:\n",
    "        return numero\n",
    "    \n",
    "    num = np.arange(2,numero)\n",
    "    divisor = numero % num\n",
    "    zeros = divisor == 0\n",
    "    divisores = num[zeros]\n",
    "    \n",
    "    if divisores.size == 0:\n",
    "        return f\"{numero} é primo\"\n",
    "    else:\n",
    "        return list(divisores)\n"
   ]
  },
  {
   "cell_type": "code",
   "execution_count": 46,
   "metadata": {},
   "outputs": [
    {
     "name": "stdout",
     "output_type": "stream",
     "text": [
      "[3, 5]\n",
      "[11, 23]\n",
      "[2, 3, 4, 6, 8, 12]\n",
      "[5]\n",
      "13 é primo\n",
      "3 é primo\n",
      "29 é primo\n",
      "1\n",
      "0\n",
      "[3, 5, 9, 11, 15, 25, 27, 33, 45, 55, 75, 99, 135, 165, 225, 275, 297, 495, 675, 825, 1485, 2475, 7425, 61547, 184641, 307735, 553923, 677017, 923205, 1538675, 1661769, 2031051, 2769615, 3385085, 4616025, 6093153, 8308845, 10155255, 13848075, 16925425, 18279459, 30465765, 41544225, 50776275, 91397295, 152328825]\n"
     ]
    }
   ],
   "source": [
    "print(divisor(15)) # expects [3,5]\n",
    "print(divisor(253)) # expects [11,23]\n",
    "print(divisor(24)) # expects [2,3,4,6,8,12]\n",
    "print(divisor(25)) # expects [5]\n",
    "print(divisor(13)) # expects \"13 is prime\"\n",
    "print(divisor(3)) # expects \"3 is prime\"\n",
    "print(divisor(29)) # expects \"29 is prime\"\n",
    "print(divisor(1))\n",
    "print(divisor(0))\n",
    "print(divisor(456986475))  # PEGADINHA "
   ]
  },
  {
   "cell_type": "code",
   "execution_count": null,
   "metadata": {},
   "outputs": [],
   "source": []
  }
 ],
 "metadata": {
  "kernelspec": {
   "display_name": "Python 3",
   "language": "python",
   "name": "python3"
  },
  "language_info": {
   "codemirror_mode": {
    "name": "ipython",
    "version": 3
   },
   "file_extension": ".py",
   "mimetype": "text/x-python",
   "name": "python",
   "nbconvert_exporter": "python",
   "pygments_lexer": "ipython3",
   "version": "3.11.4"
  }
 },
 "nbformat": 4,
 "nbformat_minor": 2
}
