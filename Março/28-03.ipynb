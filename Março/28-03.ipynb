{
 "cells": [
  {
   "cell_type": "markdown",
   "metadata": {},
   "source": [
    "# Encontre os divisores!\n",
    "Data: 28/03/2024. De: Codewars. Link para kata.\n",
    "\n",
    "# Descrição\n",
    "Crie uma função chamada divisors/Divisors que recebe um inteiro n > 1 e retorna um array com todos os divisores inteiros do número (exceto 1 e o próprio número), do menor para o maior. Se o número for primo, retorne a string '(inteiro) é primo'.\n",
    "\n",
    "# Exemplos\n",
    "\n",
    "divisors(12); #deve retornar [2,3,4,6]\n",
    "divisors(25); #deve retornar [5]\n",
    "divisors(13); #deve retornar \"13 é primo\""
   ]
  },
  {
   "cell_type": "code",
   "execution_count": null,
   "metadata": {},
   "outputs": [],
   "source": [
    "def divisor(numero):\n",
    "    pass"
   ]
  },
  {
   "cell_type": "code",
   "execution_count": null,
   "metadata": {},
   "outputs": [],
   "source": [
    "print(divisor(15)) # expects [3,5]\n",
    "print(divisor(253)) # expects [11,23]\n",
    "print(divisor(24)) # expects [2,3,4,6,8,12]\n",
    "print(divisor(25)) # expects [5]\n",
    "print(divisor(13)) # expects \"13 is prime\"\n",
    "print(divisor(3)) # expects \"3 is prime\"\n",
    "print(divisor(29)) # expects \"29 is prime\""
   ]
  }
 ],
 "metadata": {
  "language_info": {
   "name": "python"
  }
 },
 "nbformat": 4,
 "nbformat_minor": 2
}
