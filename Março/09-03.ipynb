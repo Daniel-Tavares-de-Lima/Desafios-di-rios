{
 "cells": [
  {
   "cell_type": "markdown",
   "metadata": {},
   "source": [
    "# Entrada de caracteres com data e hora\n",
    "Data: 09/03/2024. De: Prática Python. Link para o exercício(https://www.practicepython.org/exercise/2022/03/20/39-character-input-datetime.html).\n",
    "\n",
    "# Descrição\n",
    "Implemente o mesmo exercício do Exercício 1 (Crie um programa que pede ao usuário para inserir seu nome e sua idade. Imprima uma mensagem endereçada a eles que lhes diz o ano em que completarão 100 anos), exceto que não escreva explicitamente o ano. Use a biblioteca datetime interna do Python para fazer com que o código que você escrever funcione durante todos os anos, não apenas no ano atual."
   ]
  },
  {
   "cell_type": "markdown",
   "metadata": {},
   "source": [
    "# Minha solução"
   ]
  },
  {
   "cell_type": "code",
   "execution_count": null,
   "metadata": {},
   "outputs": [],
   "source": [
    "import datetime\n",
    "\n",
    "def ano_completar_100(nome, idade):\n",
    "    ano_atual = datetime.datetime.now().year\n",
    "    ano_completar = ano_atual + (100 - idade)\n",
    "    return ano_completar\n",
    "\n",
    "def main():\n",
    "    nome = input(\"Por favor, insira seu nome: \")\n",
    "    idade = int(input(\"Por favor, insira sua idade: \"))\n",
    "    \n",
    "    ano = ano_completar_100(nome, idade)\n",
    "    print(f\"Olá, {nome}! Você completará 100 anos em algum momento do ano {ano}.\")\n",
    "\n",
    "if __name__ == \"__main__\":\n",
    "    main()\n"
   ]
  }
 ],
 "metadata": {
  "language_info": {
   "name": "python"
  }
 },
 "nbformat": 4,
 "nbformat_minor": 2
}
