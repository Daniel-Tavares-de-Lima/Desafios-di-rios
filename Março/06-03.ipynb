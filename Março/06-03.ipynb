{
 "cells": [
  {
   "cell_type": "markdown",
   "metadata": {},
   "source": [
    "# Birthday plots\n",
    "Data: 06/03/2024. From: Practice Python: Link(https://www.practicepython.org/exercise/2017/04/02/36-birthday-plots.html)\n",
    "# Descrição\n",
    "No exercício anterior, contamos quantos aniversários existem em cada mês em nosso dicionário de aniversários.\n",
    "\n",
    "Neste exercício, utilize a biblioteca Python Bokeh para plotar um histograma dos meses em que os cientistas têm aniversários! Como levaria muito tempo para você inserir os meses de vários cientistas, você pode usar meu arquivo JSON de aniversário de cientistas. Apenas extraia os meses (se você não souber como, sugiro consultar o exercício anterior ou sua solução) e desenhe seu histograma.\n",
    "\n"
   ]
  },
  {
   "cell_type": "markdown",
   "metadata": {},
   "source": [
    "# Minha solução"
   ]
  },
  {
   "cell_type": "code",
   "execution_count": null,
   "metadata": {},
   "outputs": [],
   "source": []
  }
 ],
 "metadata": {
  "language_info": {
   "name": "python"
  }
 },
 "nbformat": 4,
 "nbformat_minor": 2
}
