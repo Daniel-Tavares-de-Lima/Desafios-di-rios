{
 "cells": [
  {
   "cell_type": "markdown",
   "metadata": {},
   "source": [
    "# Birthday plots\n",
    "Data: 06/03/2024. From: Practice Python: Link(https://www.practicepython.org/exercise/2017/04/02/36-birthday-plots.html)\n",
    "# Descrição\n",
    "No exercício anterior, contamos quantos aniversários existem em cada mês em nosso dicionário de aniversários.\n",
    "\n",
    "Neste exercício, utilize a biblioteca Python Bokeh para plotar um histograma dos meses em que os cientistas têm aniversários! Como levaria muito tempo para você inserir os meses de vários cientistas, você pode usar meu arquivo JSON de aniversário de cientistas. Apenas extraia os meses (se você não souber como, sugiro consultar o exercício anterior ou sua solução) e desenhe seu histograma.\n",
    "\n"
   ]
  },
  {
   "cell_type": "markdown",
   "metadata": {},
   "source": [
    "# Minha solução"
   ]
  },
  {
   "cell_type": "code",
   "execution_count": 1,
   "metadata": {},
   "outputs": [
    {
     "ename": "ModuleNotFoundError",
     "evalue": "No module named 'bokeh'",
     "output_type": "error",
     "traceback": [
      "\u001b[1;31m---------------------------------------------------------------------------\u001b[0m",
      "\u001b[1;31mModuleNotFoundError\u001b[0m                       Traceback (most recent call last)",
      "Cell \u001b[1;32mIn[1], line 3\u001b[0m\n\u001b[0;32m      1\u001b[0m \u001b[38;5;28;01mimport\u001b[39;00m \u001b[38;5;21;01mjson\u001b[39;00m\n\u001b[0;32m      2\u001b[0m \u001b[38;5;28;01mfrom\u001b[39;00m \u001b[38;5;21;01mcollections\u001b[39;00m \u001b[38;5;28;01mimport\u001b[39;00m Counter\n\u001b[1;32m----> 3\u001b[0m \u001b[38;5;28;01mfrom\u001b[39;00m \u001b[38;5;21;01mbokeh\u001b[39;00m\u001b[38;5;21;01m.\u001b[39;00m\u001b[38;5;21;01mplotting\u001b[39;00m \u001b[38;5;28;01mimport\u001b[39;00m figure, show\n\u001b[0;32m      4\u001b[0m \u001b[38;5;28;01mfrom\u001b[39;00m \u001b[38;5;21;01mbokeh\u001b[39;00m\u001b[38;5;21;01m.\u001b[39;00m\u001b[38;5;21;01mio\u001b[39;00m \u001b[38;5;28;01mimport\u001b[39;00m output_file\n\u001b[0;32m      6\u001b[0m \u001b[38;5;28;01mdef\u001b[39;00m \u001b[38;5;21mcontar_aniversarios_por_mes\u001b[39m(cientistas):\n",
      "\u001b[1;31mModuleNotFoundError\u001b[0m: No module named 'bokeh'"
     ]
    }
   ],
   "source": [
    "import json\n",
    "from collections import Counter\n",
    "from bokeh.plotting import figure, show\n",
    "from bokeh.io import output_file\n",
    "\n",
    "def contar_aniversarios_por_mes(cientistas):\n",
    "    meses = [aniversario.split('/')[1] for aniversario in cientistas.values()]\n",
    "    return Counter(meses)\n",
    "\n",
    "def plotar_histograma(aniversarios_por_mes):\n",
    "    meses = sorted(aniversarios_por_mes.keys())\n",
    "    contagens = [aniversarios_por_mes[mes] for mes in meses]\n",
    "\n",
    "    p = figure(x_range=meses, plot_height=250, title=\"Aniversários de Cientistas por Mês\")\n",
    "    p.vbar(x=meses, top=contagens, width=0.9)\n",
    "    p.xgrid.grid_line_color = None\n",
    "    p.y_range.start = 0\n",
    "    p.y_range.end = max(contagens) + 1\n",
    "    p.xaxis.axis_label = \"Mês\"\n",
    "    p.yaxis.axis_label = \"Número de Aniversários\"\n",
    "\n",
    "    output_file(\"histograma_aniversarios_cientistas.html\")\n",
    "    show(p)\n",
    "\n",
    "def main():\n",
    "    with open('aniversarios_cientistas.json', 'r') as file:\n",
    "        cientistas = json.load(file)\n",
    "\n",
    "    aniversarios_por_mes = contar_aniversarios_por_mes(cientistas)\n",
    "\n",
    "    plotar_histograma(aniversarios_por_mes)\n",
    "\n",
    "if __name__ == '__main__':\n",
    "    main()\n"
   ]
  },
  {
   "cell_type": "code",
   "execution_count": null,
   "metadata": {},
   "outputs": [],
   "source": []
  }
 ],
 "metadata": {
  "kernelspec": {
   "display_name": "Python 3",
   "language": "python",
   "name": "python3"
  },
  "language_info": {
   "codemirror_mode": {
    "name": "ipython",
    "version": 3
   },
   "file_extension": ".py",
   "mimetype": "text/x-python",
   "name": "python",
   "nbconvert_exporter": "python",
   "pygments_lexer": "ipython3",
   "version": "3.11.4"
  }
 },
 "nbformat": 4,
 "nbformat_minor": 2
}
