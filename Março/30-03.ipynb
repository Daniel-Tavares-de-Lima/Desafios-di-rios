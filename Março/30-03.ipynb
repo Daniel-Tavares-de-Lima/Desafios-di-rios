{
 "cells": [
  {
   "cell_type": "markdown",
   "metadata": {},
   "source": [
    "# FizzBuzz\n",
    "Data: 29/03/2024. De: Codewars. Link para kata(https://www.codewars.com/kata/5a622f5f85bef7a9e90009e2/train/python).\n",
    "\n",
    "Descrição\n",
    "FizzBuzz é frequentemente um dos primeiros quebra-cabeças de programação que as pessoas aprendem. Agora, desfaça-o com o inverso do FizzBuzz!\n",
    "\n",
    "Escreva uma função que aceita uma string, que sempre será uma seção válida do FizzBuzz. Sua função deve retornar um array que contenha os números na ordem para gerar a seção fornecida do FizzBuzz.\n",
    "\n",
    "Notas\n",
    "\n",
    "Se a sequência puder aparecer várias vezes dentro do FizzBuzz, retorne os números que geram a primeira instância dessa sequência.\n",
    "Todos os números na sequência serão maiores que zero.\n",
    "Você nunca receberá uma sequência vazia.\n",
    "Exemplos\n",
    "\n",
    "reverse_fizzbuzz(\"1 2 Fizz 4 Buzz\") --> [1, 2, 3, 4, 5]\n",
    "reverse_fizzbuzz(\"Fizz 688 689 FizzBuzz\") --> [687, 688, 689, 690]\n",
    "reverse_fizzbuzz(\"Fizz Buzz\") --> [9, 10]"
   ]
  },
  {
   "cell_type": "code",
   "execution_count": 37,
   "metadata": {},
   "outputs": [],
   "source": [
    "def inverso_fizzbuzz(st):\n",
    "\n",
    "    # Separar a string em um array\n",
    "    separaString = st.split()\n",
    "    numeros = []\n",
    "\n",
    "    controle = 1\n",
    "\n",
    "    for i in separaString:\n",
    "        \n",
    "        if i.isdigit():\n",
    "            numeros.append(int(i))\n",
    "            controle = int(i) + 1\n",
    "\n",
    "        elif i == \"Fizz\":\n",
    "            numeros.append(controle)\n",
    "            controle += 1\n",
    "\n",
    "        elif i == \"Buzz\":\n",
    "            numeros.append(controle)\n",
    "            controle += 1\n",
    "\n",
    "        elif i == \"FizzBuzz\":\n",
    "            numeros.append(controle)\n",
    "            controle += 1\n",
    "\n",
    "    return numeros\n",
    "\n"
   ]
  },
  {
   "cell_type": "code",
   "execution_count": 38,
   "metadata": {},
   "outputs": [
    {
     "name": "stdout",
     "output_type": "stream",
     "text": [
      "[1, 2, 3, 4, 5]\n",
      "[1, 688, 689, 690]\n",
      "[1, 2]\n"
     ]
    }
   ],
   "source": [
    "\n",
    "print(inverso_fizzbuzz(\"1 2 Fizz 4 Buzz\")) # expects [1, 2, 3, 4, 5]\n",
    "print(inverso_fizzbuzz(\"Fizz 688 689 FizzBuzz\")) # expects [687, 688, 689, 690]\n",
    "print(inverso_fizzbuzz(\"Fizz Buzz\")) # expects [9, 10]"
   ]
  },
  {
   "cell_type": "code",
   "execution_count": null,
   "metadata": {},
   "outputs": [],
   "source": []
  }
 ],
 "metadata": {
  "kernelspec": {
   "display_name": "Python 3",
   "language": "python",
   "name": "python3"
  },
  "language_info": {
   "codemirror_mode": {
    "name": "ipython",
    "version": 3
   },
   "file_extension": ".py",
   "mimetype": "text/x-python",
   "name": "python",
   "nbconvert_exporter": "python",
   "pygments_lexer": "ipython3",
   "version": "3.11.4"
  }
 },
 "nbformat": 4,
 "nbformat_minor": 2
}
