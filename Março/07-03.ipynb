{
 "cells": [
  {
   "cell_type": "markdown",
   "metadata": {},
   "source": [
    "# Funções de Refatoração\n",
    "Data: 07/03/2024. De: Prática Python. Link para o exercício(https://www.practicepython.org/exercise/2022/02/20/37-functions-refactor.html).\n",
    "\n",
    "# Descrição\n",
    "Uma área de confusão para novos programadores é o conceito de funções (que foi abordado neste blog no exercício 11, por exemplo). Então, neste exercício, estaremos exercitando nossas habilidades com funções ao refatorar um trecho de código existente para usar funções.\n",
    "\n",
    "Aqui está o trecho de código para refatorar (retirado de uma solução correta, mas muito repetitiva, do exercício 24 neste site):\n",
    "\n",
    "print(\" --- --- ---\")\n",
    "print(\"| | | |\")\n",
    "print(\" --- --- ---\")\n",
    "print(\"| | | |\")\n",
    "print(\" --- --- ---\")\n",
    "print(\"| | | |\")\n",
    "print(\" --- --- ---\")"
   ]
  },
  {
   "cell_type": "markdown",
   "metadata": {},
   "source": [
    "# Minha solução"
   ]
  },
  {
   "cell_type": "code",
   "execution_count": 1,
   "metadata": {},
   "outputs": [
    {
     "name": "stdout",
     "output_type": "stream",
     "text": [
      " --- --- ---\n",
      "|   |   |   |   |\n",
      " --- --- ---\n",
      "|   |   |   |   |\n",
      " --- --- ---\n",
      "|   |   |   |   |\n",
      " --- --- ---\n"
     ]
    }
   ],
   "source": [
    "def imprimir_linha_vazia():\n",
    "    print(\" ---\" * 3)\n",
    "\n",
    "def imprimir_linha_com_celulas():\n",
    "    print(\"|   \" * 4 + \"|\")\n",
    "\n",
    "def imprimir_grade():\n",
    "    for _ in range(3):\n",
    "        imprimir_linha_vazia()\n",
    "        imprimir_linha_com_celulas()\n",
    "    imprimir_linha_vazia()\n",
    "\n",
    "imprimir_grade()\n"
   ]
  },
  {
   "cell_type": "code",
   "execution_count": null,
   "metadata": {},
   "outputs": [],
   "source": []
  }
 ],
 "metadata": {
  "kernelspec": {
   "display_name": "Python 3",
   "language": "python",
   "name": "python3"
  },
  "language_info": {
   "codemirror_mode": {
    "name": "ipython",
    "version": 3
   },
   "file_extension": ".py",
   "mimetype": "text/x-python",
   "name": "python",
   "nbconvert_exporter": "python",
   "pygments_lexer": "ipython3",
   "version": "3.11.4"
  }
 },
 "nbformat": 4,
 "nbformat_minor": 2
}
