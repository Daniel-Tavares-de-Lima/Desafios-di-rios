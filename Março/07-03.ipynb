{
 "cells": [
  {
   "cell_type": "markdown",
   "metadata": {},
   "source": [
    "# Funções de Refatoração\n",
    "Data: 07/03/2024. De: Prática Python. Link para o exercício(https://www.practicepython.org/exercise/2022/02/20/37-functions-refactor.html).\n",
    "\n",
    "# Descrição\n",
    "Uma área de confusão para novos programadores é o conceito de funções (que foi abordado neste blog no exercício 11, por exemplo). Então, neste exercício, estaremos exercitando nossas habilidades com funções ao refatorar um trecho de código existente para usar funções.\n",
    "\n",
    "Aqui está o trecho de código para refatorar (retirado de uma solução correta, mas muito repetitiva, do exercício 24 neste site):\n",
    "\n",
    "print(\" --- --- ---\")\n",
    "print(\"| | | |\")\n",
    "print(\" --- --- ---\")\n",
    "print(\"| | | |\")\n",
    "print(\" --- --- ---\")\n",
    "print(\"| | | |\")\n",
    "print(\" --- --- ---\")"
   ]
  },
  {
   "cell_type": "markdown",
   "metadata": {},
   "source": [
    "# Minha solução"
   ]
  },
  {
   "cell_type": "code",
   "execution_count": null,
   "metadata": {},
   "outputs": [],
   "source": []
  }
 ],
 "metadata": {
  "language_info": {
   "name": "python"
  }
 },
 "nbformat": 4,
 "nbformat_minor": 2
}
