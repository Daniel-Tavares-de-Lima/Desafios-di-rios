{
 "cells": [
  {
   "cell_type": "markdown",
   "metadata": {},
   "source": [
    "# Verificação de erros\n",
    "Data: 10/03/2024. De: Prática Python. Link para o exercício\n",
    "\n",
    "# Descrição\n",
    "Dada esta solução para o Exercício 9, modifique-a para ter um nível de feedback do usuário: se o usuário não inserir um número entre 1 e 9, avise-o. Não conte esse palpite contra o usuário ao contar o número de palpites que eles usaram.\n",
    "\n",
    "import random\n",
    "\n",
    "number = random.randint(1, 9)\n",
    "number_of_guesses = 0\n",
    "while True:\n",
    "guess = int(input(\"Guess a number between 1 and 9: \"))\n",
    "number_of_guesses += 1\n",
    "if guess == number:\n",
    "break\n",
    "print(f\"You needed {number_of_guesses} guesses to guess the number {number}\")\n",
    "# Minha solução"
   ]
  },
  {
   "cell_type": "code",
   "execution_count": null,
   "metadata": {},
   "outputs": [],
   "source": [
    "import random\n",
    "\n",
    "number = random.randint(1, 9)\n",
    "number_of_guesses = 0\n",
    "\n",
    "while True:\n",
    "    guess = input(\"Guess a number between 1 and 9: \")\n",
    "    if guess.isdigit():\n",
    "        guess = int(guess)\n",
    "        if 1 <= guess <= 9:\n",
    "            number_of_guesses += 1\n",
    "            if guess == number:\n",
    "                print(f\"Congratulations! You guessed the number {number} in {number_of_guesses} guesses.\")\n",
    "                break\n",
    "            else:\n",
    "                print(\"Incorrect guess. Try again.\")\n",
    "        else:\n",
    "            print(\"Please enter a number between 1 and 9.\")\n",
    "    else:\n",
    "        print(\"Please enter a valid number.\")\n",
    "\n"
   ]
  }
 ],
 "metadata": {
  "language_info": {
   "name": "python"
  }
 },
 "nbformat": 4,
 "nbformat_minor": 2
}
