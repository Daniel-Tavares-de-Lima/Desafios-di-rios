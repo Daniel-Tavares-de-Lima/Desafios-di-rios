{
 "cells": [
  {
   "cell_type": "markdown",
   "metadata": {},
   "source": [
    "# Meses de aniversário\n",
    "Data: 05/03/2024. De: Practice Python: Link(https://www.practicepython.org/exercise/2017/02/28/35-birthday-months.html)\n",
    "\n",
    "# Descrição\n",
    "No exercício anterior, salvamos informações sobre os nomes e aniversários de cientistas famosos em disco. Neste exercício, carregue esse arquivo JSON do disco, extraia os meses de todos os aniversários e conte quantos cientistas têm um aniversário em cada mês.\n",
    "\n",
    "Seu programa deve produzir algo como:\n",
    "\n",
    "{\n",
    "\"Maio\": 3,\n",
    "\"Novembro\": 2,\n",
    "\"Dezembro\": 1\n",
    "}\n"
   ]
  },
  {
   "cell_type": "markdown",
   "metadata": {},
   "source": [
    "# Minha solução"
   ]
  },
  {
   "cell_type": "code",
   "execution_count": null,
   "metadata": {},
   "outputs": [],
   "source": []
  }
 ],
 "metadata": {
  "language_info": {
   "name": "python"
  }
 },
 "nbformat": 4,
 "nbformat_minor": 2
}
