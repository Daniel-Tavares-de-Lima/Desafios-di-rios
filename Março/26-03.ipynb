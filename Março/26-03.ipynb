{
 "cells": [
  {
   "cell_type": "markdown",
   "metadata": {},
   "source": [
    "# Somas das partes\n",
    "Data: 26/03/2024. De: Codewars. Link para kata.\n",
    "\n",
    "# Descrição\n",
    "Vamos considerar este exemplo (array escrito em formato geral):\n",
    "\n",
    "ls = [0, 1, 3, 6, 10]\n",
    "Suas partes seguintes:\n",
    "\n",
    "ls = [0, 1, 3, 6, 10]\n",
    "ls = [1, 3, 6, 10]\n",
    "ls = [3, 6, 10]\n",
    "ls = [6, 10]\n",
    "ls = [10]\n",
    "ls = []\n",
    "As somas correspondentes são (agrupadas em uma lista): [20, 20, 19, 16, 10, 0]\n",
    "\n",
    "A função parts_sums (ou suas variantes em outros idiomas) receberá como parâmetro uma lista ls e retornará uma lista das somas de suas partes conforme definido acima. Outros exemplos:\n",
    "\n",
    "ls = [1, 2, 3, 4, 5, 6]\n",
    "parts_sums(ls) -> [21, 20, 18, 15, 11, 6, 0]\n",
    "\n",
    "ls = [744125, 935, 407, 454, 430, 90, 144, 6710213, 889, 810, 2579358]\n",
    "parts_sums(ls) -> [10037855, 9293730, 9292795, 9292388, 9291934, 9291504, 9291414, 9291270, 2581057, 2580168, 2579358, 0]\n",
    "Notas\n",
    "\n",
    "Observe o desempenho: algumas listas têm milhares de elementos.\n",
    "Por favor, peça permissão antes de traduzir.\n"
   ]
  },
  {
   "cell_type": "code",
   "execution_count": 1,
   "metadata": {},
   "outputs": [],
   "source": [
    "def parts_sums(ls):\n",
    "    #inicia soma com zero\n",
    "    total_sum = 0\n",
    "\n",
    "    #inicializa lista para armazenar as somas\n",
    "    partial_sums = []\n",
    "\n",
    "    #percorrer a lista\n",
    "    for num in reversed(ls):\n",
    "        total_sum += num\n",
    "        partial_sums.append(total_sum)\n",
    "\n",
    "    partial_sums.append(0)\n",
    "\n",
    "    return list(reversed(partial_sums))"
   ]
  },
  {
   "cell_type": "code",
   "execution_count": 2,
   "metadata": {},
   "outputs": [
    {
     "name": "stdout",
     "output_type": "stream",
     "text": [
      "[0]\n",
      "[0, 20, 20, 19, 16, 10]\n",
      "[0, 21, 20, 18, 15, 11, 6]\n",
      "[0, 10037855, 9293730, 9292795, 9292388, 9291934, 9291504, 9291414, 9291270, 2581057, 2580168, 2579358]\n"
     ]
    }
   ],
   "source": [
    "print(parts_sums([])) # [0]\n",
    "print(parts_sums([0, 1, 3, 6, 10])) # [20, 20, 19, 16, 10, 0]\n",
    "print(parts_sums([1, 2, 3, 4, 5, 6])) # [21, 20, 18, 15, 11, 6, 0]\n",
    "print(parts_sums([744125, 935, 407, 454, 430, 90, 144, 6710213, 889, 810, 2579358])) # [10037855, 9293730, 9292795, 9292388, 9291934, 9291504, 9291414, 9291270, 2581057, 2580168, 2579358, 0]"
   ]
  },
  {
   "cell_type": "code",
   "execution_count": null,
   "metadata": {},
   "outputs": [],
   "source": []
  }
 ],
 "metadata": {
  "kernelspec": {
   "display_name": "Python 3",
   "language": "python",
   "name": "python3"
  },
  "language_info": {
   "codemirror_mode": {
    "name": "ipython",
    "version": 3
   },
   "file_extension": ".py",
   "mimetype": "text/x-python",
   "name": "python",
   "nbconvert_exporter": "python",
   "pygments_lexer": "ipython3",
   "version": "3.11.4"
  }
 },
 "nbformat": 4,
 "nbformat_minor": 2
}
