{
 "cells": [
  {
   "cell_type": "markdown",
   "metadata": {},
   "source": [
    "# Decodificando mensagem\n",
    "Data: 12/03/2024. De: Codewars. Link(https://www.codewars.com/kata/565b9d6f8139573819000056/train/python)\n",
    "\n",
    "# Descrição\n",
    "Você conseguiu interceptar uma mensagem importante e está tentando lê-la.\n",
    "\n",
    "Você percebe que a mensagem foi codificada e pode ser decodificada trocando cada letra por uma letra correspondente.\n",
    "\n",
    "Você também percebe que cada letra é emparelhada com a letra que coincide com ela quando o alfabeto é invertido.\n",
    "\n",
    "Por exemplo: \"a\" é codificado com \"z\", \"b\" com \"y\", \"c\" com \"x\", etc.\n",
    "\n",
    "Você lê a primeira frase:\n",
    "\n",
    "\"r slkv mlylwb wvxlwvh gsrh nvhhztv\"\n",
    "\n",
    "Depois de alguns minutos, você consegue decodificá-la:\n",
    "\n",
    "\"espero que ninguém decodifique esta mensagem\"\n",
    "\n",
    "Crie uma função que decodificará instantaneamente qualquer uma dessas mensagens.\n",
    "\n",
    "Você pode assumir que não há pontuação ou letras maiúsculas, apenas letras minúsculas, mas lembre-se dos espaços!\n",
    "\n",
    "\n"
   ]
  },
  {
   "cell_type": "markdown",
   "metadata": {},
   "source": [
    "# Minha solução"
   ]
  },
  {
   "cell_type": "code",
   "execution_count": null,
   "metadata": {},
   "outputs": [],
   "source": [
    "def decode(message):\n",
    "    pass"
   ]
  },
  {
   "cell_type": "code",
   "execution_count": null,
   "metadata": {},
   "outputs": [],
   "source": [
    "print(decode(\"sr\")) # expects\"hi\"\n",
    "print(decode(\"svool\")) # expects\"hello\"\n",
    "print(decode(\"r slkv mlylwb wvxlwvh gsrh nvhhztv\")) # expects\"i hope nobody decodes this message\"\n",
    "print(decode(\"qzezxirkg rh z srts ovevo wbmznrx fmgbkvw zmw rmgvikivgvw kiltiznnrmt ozmtfztv rg szh yvvm hgzmwziwravw rm gsv vxnzxirkg ozmtfztv hkvxrurxzgrlm zolmthrwv sgno zmw xhh rg rh lmv lu gsv gsivv vhhvmgrzo gvxsmloltrvh lu dliow drwv dvy xlmgvmg kilwfxgrlm gsv nzqlirgb lu dvyhrgvh vnkolb rg zmw rg rh hfkkligvw yb zoo nlwvim dvy yildhvih drgslfg koftrmh\")) # expects \"javacript is a high level dynamic untyped and interpreted programming language it has been standardized in the ecmacript language specification alongside html and css it is one of the three essential technologies of world wide web content production the majority of websites employ it and it is supported by all modern web browsers without plugins\")\n",
    "print(decode(\"gsv vrtsgs hbnkslmb dzh qvzm hryvorfh urmzo nzqli xlnklhrgrlmzo kilqvxg lxxfkbrmt srn rmgvinrggvmgob\")) # expects \"the eighth symphony was jean sibelius final major compositional project occupying him intermittently\"\n",
    "print(decode(\"husbands ask repeated resolved but laughter debating\")) # expects \"sfhyzmwh zhp ivkvzgvw ivhloevw yfg ozftsgvi wvyzgrmt\"\n",
    "print(decode(\"aaaaaaaaaaaaaaaaaaaaaaaaaaaaaaaaaaaaaaaaaaaaaaaaaaaaaaaaaaaaaaa\")) # expects \"zzzzzzzzzzzzzzzzzzzzzzzzzzzzzzzzzzzzzzzzzzzzzzzzzzzzzzzzzzzzzzz\"\n",
    "print(decode(\" \")) # expects\" \"\n",
    "print(decode(\"\")) # expects\"\"\n",
    "print(decode(\"thelastrandomsentence\")) # expects \"gsvozhgizmwlnhvmgvmxv\""
   ]
  }
 ],
 "metadata": {
  "language_info": {
   "name": "python"
  }
 },
 "nbformat": 4,
 "nbformat_minor": 2
}
