{
 "cells": [
  {
   "cell_type": "markdown",
   "metadata": {},
   "source": [
    "# F Strings\n",
    "Data: 08/03/2024. De: Prática Python. Link para o exercício(https://www.practicepython.org/exercise/2022/03/06/38-f-strings.html).\n",
    "\n",
    "# Descrição\n",
    "Implemente o mesmo exercício do Exercício 1 (Crie um programa que pede ao usuário para inserir seu nome e sua idade. Imprima uma mensagem endereçada a eles que lhes diz o ano em que completarão 100 anos), exceto usando f-strings em vez do operador + para imprimir a mensagem de saída resultante."
   ]
  },
  {
   "cell_type": "markdown",
   "metadata": {},
   "source": [
    "# Minha solução"
   ]
  },
  {
   "cell_type": "code",
   "execution_count": null,
   "metadata": {},
   "outputs": [],
   "source": []
  }
 ],
 "metadata": {
  "language_info": {
   "name": "python"
  }
 },
 "nbformat": 4,
 "nbformat_minor": 2
}
