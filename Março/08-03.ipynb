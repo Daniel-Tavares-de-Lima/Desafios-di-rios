{
 "cells": [
  {
   "cell_type": "markdown",
   "metadata": {},
   "source": [
    "# F Strings\n",
    "Data: 08/03/2024. De: Prática Python. Link para o exercício(https://www.practicepython.org/exercise/2022/03/06/38-f-strings.html).\n",
    "\n",
    "# Descrição\n",
    "Implemente o mesmo exercício do Exercício 1 (Crie um programa que pede ao usuário para inserir seu nome e sua idade. Imprima uma mensagem endereçada a eles que lhes diz o ano em que completarão 100 anos), exceto usando f-strings em vez do operador + para imprimir a mensagem de saída resultante."
   ]
  },
  {
   "cell_type": "markdown",
   "metadata": {},
   "source": [
    "# Minha solução"
   ]
  },
  {
   "cell_type": "code",
   "execution_count": 3,
   "metadata": {},
   "outputs": [
    {
     "name": "stdout",
     "output_type": "stream",
     "text": [
      "Daniel  terá 100 anos no ano de 2066\n"
     ]
    }
   ],
   "source": [
    "nome = input(\"Digite seu nome: \")\n",
    "idade = int(input(\"Digite sua idade: \"))\n",
    "\n",
    "conta = 100 - idade\n",
    "ano = 2024 + conta\n",
    "\n",
    "print(f\"{nome} terá 100 anos no ano de {ano}\")\n"
   ]
  },
  {
   "cell_type": "code",
   "execution_count": null,
   "metadata": {},
   "outputs": [],
   "source": []
  }
 ],
 "metadata": {
  "kernelspec": {
   "display_name": "Python 3",
   "language": "python",
   "name": "python3"
  },
  "language_info": {
   "codemirror_mode": {
    "name": "ipython",
    "version": 3
   },
   "file_extension": ".py",
   "mimetype": "text/x-python",
   "name": "python",
   "nbconvert_exporter": "python",
   "pygments_lexer": "ipython3",
   "version": "3.11.4"
  }
 },
 "nbformat": 4,
 "nbformat_minor": 2
}
