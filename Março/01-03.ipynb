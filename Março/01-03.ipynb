{
 "cells": [
  {
   "cell_type": "markdown",
   "metadata": {},
   "source": [
    "# Ache a letra\n",
    "Data: 01/03/2024. De: Practice Python. Link(https://www.practicepython.org/exercise/2017/01/02/31-guess-letters.html)\n",
    "# Descrição\n",
    "Continuando a construção do jogo da Forca. No jogo da Forca, uma palavra é fornecida pelo programa que o jogador deve adivinhar, letra por letra. O jogador adivinha uma letra de cada vez até que a palavra inteira tenha sido adivinhada. (No jogo real, o jogador só pode errar 6 letras antes de perder).\n",
    "\n",
    "Digamos que a palavra que o jogador precisa adivinhar seja \"EVAPORATE\". Para este exercício, escreva a lógica que pede ao jogador para adivinhar uma letra e exibe as letras na palavra dica que foram adivinhadas corretamente. Por enquanto, permita que o jogador adivinhe um número infinito de vezes até que ele obtenha a palavra inteira. Como bônus, acompanhe as letras que o jogador adivinhou e exiba uma mensagem diferente se o jogador tentar adivinhar essa letra novamente. Lembre-se de parar o jogo quando todas as letras tiverem sido adivinhadas corretamente! Não se preocupe em escolher uma palavra aleatoriamente ou em acompanhar o número de palpites que o jogador tem restantes - lidaremos com esses em um exercício futuro.\n",
    "\n",
    "Uma interação de exemplo pode ser assim:\n",
    ">>> Welcome to Hangman!\n",
    "_ _ _ _ _ _ _ _ _\n",
    ">>> Guess your letter: S\n",
    "Incorrect!\n",
    ">>> Guess your letter: E\n",
    "E _ _ _ _ _ _ _ E\n",
    "...\n",
    "\n",
    "E assim por diante, até que o jogador acerte a palavra."
   ]
  },
  {
   "cell_type": "markdown",
   "metadata": {},
   "source": [
    "# Minha solução"
   ]
  },
  {
   "cell_type": "code",
   "execution_count": null,
   "metadata": {},
   "outputs": [],
   "source": []
  }
 ],
 "metadata": {
  "language_info": {
   "name": "python"
  }
 },
 "nbformat": 4,
 "nbformat_minor": 2
}
