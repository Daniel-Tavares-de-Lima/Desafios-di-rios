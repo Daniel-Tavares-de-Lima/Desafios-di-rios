{
 "cells": [
  {
   "cell_type": "markdown",
   "metadata": {},
   "source": [
    "# Ache a letra\n",
    "Data: 01/03/2024. De: Practice Python. Link(https://www.practicepython.org/exercise/2017/01/02/31-guess-letters.html)\n",
    "# Descrição\n",
    "Continuando a construção do jogo da Forca. No jogo da Forca, uma palavra é fornecida pelo programa que o jogador deve adivinhar, letra por letra. O jogador adivinha uma letra de cada vez até que a palavra inteira tenha sido adivinhada. (No jogo real, o jogador só pode errar 6 letras antes de perder).\n",
    "\n",
    "Digamos que a palavra que o jogador precisa adivinhar seja \"EVAPORATE\". Para este exercício, escreva a lógica que pede ao jogador para adivinhar uma letra e exibe as letras na palavra dica que foram adivinhadas corretamente. Por enquanto, permita que o jogador adivinhe um número infinito de vezes até que ele obtenha a palavra inteira. Como bônus, acompanhe as letras que o jogador adivinhou e exiba uma mensagem diferente se o jogador tentar adivinhar essa letra novamente. Lembre-se de parar o jogo quando todas as letras tiverem sido adivinhadas corretamente! Não se preocupe em escolher uma palavra aleatoriamente ou em acompanhar o número de palpites que o jogador tem restantes - lidaremos com esses em um exercício futuro.\n",
    "\n",
    "Uma interação de exemplo pode ser assim:\n",
    ">>> Welcome to Hangman!\n",
    "_ _ _ _ _ _ _ _ _\n",
    ">>> Guess your letter: S\n",
    "Incorrect!\n",
    ">>> Guess your letter: E\n",
    "E _ _ _ _ _ _ _ E\n",
    "...\n",
    "\n",
    "E assim por diante, até que o jogador acerte a palavra."
   ]
  },
  {
   "cell_type": "markdown",
   "metadata": {},
   "source": [
    "# Minha solução"
   ]
  },
  {
   "cell_type": "code",
   "execution_count": 1,
   "metadata": {},
   "outputs": [
    {
     "name": "stdout",
     "output_type": "stream",
     "text": [
      "Bem vindo ao Hangman!\n",
      "_ _ _ _ _ _ _ _ _\n",
      "Correto\n"
     ]
    },
    {
     "ename": "TypeError",
     "evalue": "can only concatenate list (not \"str\") to list",
     "output_type": "error",
     "traceback": [
      "\u001b[1;31m---------------------------------------------------------------------------\u001b[0m",
      "\u001b[1;31mTypeError\u001b[0m                                 Traceback (most recent call last)",
      "Cell \u001b[1;32mIn[1], line 29\u001b[0m\n\u001b[0;32m     26\u001b[0m \u001b[38;5;28;01melse\u001b[39;00m:\n\u001b[0;32m     27\u001b[0m     \u001b[38;5;28mprint\u001b[39m(\u001b[38;5;124m\"\u001b[39m\u001b[38;5;124mIncorreto\u001b[39m\u001b[38;5;124m\"\u001b[39m)\n\u001b[1;32m---> 29\u001b[0m palavra_exibida \u001b[38;5;241m=\u001b[39m \u001b[43mforca\u001b[49m\u001b[43m(\u001b[49m\u001b[43mpalavra\u001b[49m\u001b[43m,\u001b[49m\u001b[43m \u001b[49m\u001b[43machar_letra\u001b[49m\u001b[43m)\u001b[49m\n\u001b[0;32m     30\u001b[0m \u001b[38;5;28mprint\u001b[39m(palavra_exibida)\n\u001b[0;32m     32\u001b[0m \u001b[38;5;28;01mif\u001b[39;00m \u001b[38;5;124m\"\u001b[39m\u001b[38;5;124m_\u001b[39m\u001b[38;5;124m\"\u001b[39m \u001b[38;5;129;01mnot\u001b[39;00m \u001b[38;5;129;01min\u001b[39;00m palavra_exibida:\n",
      "Cell \u001b[1;32mIn[1], line 5\u001b[0m, in \u001b[0;36mforca\u001b[1;34m(palavras, letras)\u001b[0m\n\u001b[0;32m      3\u001b[0m \u001b[38;5;28;01mfor\u001b[39;00m l \u001b[38;5;129;01min\u001b[39;00m palavras:\n\u001b[0;32m      4\u001b[0m     \u001b[38;5;28;01mif\u001b[39;00m l \u001b[38;5;129;01min\u001b[39;00m letras:\n\u001b[1;32m----> 5\u001b[0m         display_palavra \u001b[38;5;241m+\u001b[39m\u001b[38;5;241m=\u001b[39m \u001b[43mletras\u001b[49m\u001b[43m \u001b[49m\u001b[38;5;241;43m+\u001b[39;49m\u001b[43m \u001b[49m\u001b[38;5;124;43m\"\u001b[39;49m\u001b[38;5;124;43m \u001b[39;49m\u001b[38;5;124;43m\"\u001b[39;49m\n\u001b[0;32m      6\u001b[0m     \u001b[38;5;28;01melse\u001b[39;00m:\n\u001b[0;32m      7\u001b[0m         display_palavra \u001b[38;5;241m+\u001b[39m\u001b[38;5;241m=\u001b[39m \u001b[38;5;124m\"\u001b[39m\u001b[38;5;124m_ \u001b[39m\u001b[38;5;124m\"\u001b[39m\n",
      "\u001b[1;31mTypeError\u001b[0m: can only concatenate list (not \"str\") to list"
     ]
    }
   ],
   "source": [
    "def forca(palavras, letras):\n",
    "    display_palavra = \"\"\n",
    "    for l in palavras:\n",
    "        if l in letras:\n",
    "            display_palavra += letras + \" \"\n",
    "        else:\n",
    "            display_palavra += \"_ \"\n",
    "    return display_palavra.strip()\n",
    "\n",
    "palavra = \"EVAPORATE\"\n",
    "achar_letra = []\n",
    "print(\"Bem vindo ao Hangman!\")\n",
    "print(forca(palavra, achar_letra))\n",
    "\n",
    "while True:\n",
    "    guess = input(\"Adivinhe a letra: \").upper()\n",
    "\n",
    "    if guess in achar_letra:\n",
    "        print(\"Voce já adivinhou a letra. Tente de novo\")\n",
    "        continue\n",
    "\n",
    "    achar_letra.append(guess)\n",
    "\n",
    "    if guess in palavra:\n",
    "        print(\"Correto\")\n",
    "    else:\n",
    "        print(\"Incorreto\")\n",
    "\n",
    "    palavra_exibida = forca(palavra, achar_letra)\n",
    "    print(palavra_exibida)\n",
    "\n",
    "    if \"_\" not in palavra_exibida:\n",
    "        print(\"Parabens! Voce adivinhou a palavra.\")"
   ]
  },
  {
   "cell_type": "code",
   "execution_count": null,
   "metadata": {},
   "outputs": [],
   "source": []
  }
 ],
 "metadata": {
  "kernelspec": {
   "display_name": "Python 3",
   "language": "python",
   "name": "python3"
  },
  "language_info": {
   "codemirror_mode": {
    "name": "ipython",
    "version": 3
   },
   "file_extension": ".py",
   "mimetype": "text/x-python",
   "name": "python",
   "nbconvert_exporter": "python",
   "pygments_lexer": "ipython3",
   "version": "3.11.4"
  }
 },
 "nbformat": 4,
 "nbformat_minor": 2
}
