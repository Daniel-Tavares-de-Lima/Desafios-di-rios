{
 "cells": [
  {
   "cell_type": "markdown",
   "metadata": {},
   "source": [
    "# Distância mais curta até um caractere\n",
    "Data: 31/03/2024. De: Codewars. <a helf=\"https://www.codewars.com/kata/5c8bf3ec5048ca2c8e954bf3/train/python\">Link.</a>\n",
    "\n",
    "# Descrição\n",
    "Dada uma string s e um caractere c, retorne uma matriz de inteiros representando a distância mais curta do caractere atual em s até c.\n",
    "\n",
    "Notas\n",
    "\n",
    "Todas as letras serão minúsculas.\n",
    "Se a string estiver vazia, retorne uma matriz vazia.\n",
    "Se o caractere não estiver presente, retorne uma matriz vazia.\n",
    "Exemplos\n",
    "\n",
    "s = \"lovecodewars\"\n",
    "c = \"e\"\n",
    "resultado = [3, 2, 1, 0, 1, 2, 1, 0, 1, 2, 3, 4]\n",
    "\n",
    "s = \"aaaabbbb\"\n",
    "c = \"b\"\n",
    "resultado = [4, 3, 2, 1, 0, 0, 0, 0]\n",
    "\n",
    "s = \"\"\n",
    "c = \"b\"\n",
    "resultado = []\n",
    "\n",
    "s = \"abcde\"\n",
    "c = \"\"\n",
    "resultado = []"
   ]
  },
  {
   "cell_type": "code",
   "execution_count": null,
   "metadata": {},
   "outputs": [],
   "source": [
    "def distanciaMaisCurta(s,c):\n",
    "    pass"
   ]
  },
  {
   "cell_type": "code",
   "execution_count": null,
   "metadata": {},
   "outputs": [],
   "source": [
    "print(distanciaMaisCurta(\"lovecodewars\", \"e\")) # expects [3, 2, 1, 0, 1, 2, 1, 0, 1, 2, 3, 4]\n",
    "print(distanciaMaisCurta(\"aaaaa\", \"a\")) # expects [0, 0, 0, 0, 0]\n",
    "print(distanciaMaisCurta(\"aabbaabb\", \"a\")) # expects [0, 0, 1, 1, 0, 0, 1, 2]\n",
    "print(distanciaMaisCurta(\"aaaabbbb\", \"b\")) # expects [4, 3, 2, 1, 0, 0, 0, 0]\n",
    "print(distanciaMaisCurta(\"aaaaa\", \"b\")) # expects []\n",
    "print(distanciaMaisCurta(\"lovecoding\", \"\")) # expects []\n",
    "print(distanciaMaisCurta(\"\", \"\")) # expects []"
   ]
  }
 ],
 "metadata": {
  "language_info": {
   "name": "python"
  }
 },
 "nbformat": 4,
 "nbformat_minor": 2
}
