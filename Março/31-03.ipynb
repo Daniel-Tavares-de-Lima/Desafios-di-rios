{
 "cells": [
  {
   "cell_type": "markdown",
   "metadata": {},
   "source": [
    "# Distância mais curta até um caractere\n",
    "Data: 31/03/2024. De: Codewars. <a helf=\"https://www.codewars.com/kata/5c8bf3ec5048ca2c8e954bf3/train/python\">Link.</a>\n",
    "\n",
    "# Descrição\n",
    "Dada uma string s e um caractere c, retorne uma matriz de inteiros representando a distância mais curta do caractere atual em s até c.\n",
    "\n",
    "Notas\n",
    "\n",
    "Todas as letras serão minúsculas.\n",
    "Se a string estiver vazia, retorne uma matriz vazia.\n",
    "Se o caractere não estiver presente, retorne uma matriz vazia.\n",
    "Exemplos\n",
    "\n",
    "s = \"lovecodewars\"\n",
    "c = \"e\"\n",
    "resultado = [3, 2, 1, 0, 1, 2, 1, 0, 1, 2, 3, 4]\n",
    "\n",
    "s = \"aaaabbbb\"\n",
    "c = \"b\"\n",
    "resultado = [4, 3, 2, 1, 0, 0, 0, 0]\n",
    "\n",
    "s = \"\"\n",
    "c = \"b\"\n",
    "resultado = []\n",
    "\n",
    "s = \"abcde\"\n",
    "c = \"\"\n",
    "resultado = []"
   ]
  },
  {
   "cell_type": "code",
   "execution_count": 51,
   "metadata": {},
   "outputs": [],
   "source": [
    "def distanciaMaisCurta(s,c):\n",
    "    #Deixar a string tudo minúsculo\n",
    "    palavra = s.lower()\n",
    "    distancia = []\n",
    "\n",
    "    #Caso a String seja vazia ou o caracter não esteja na string\n",
    "    if not s or not c:\n",
    "        return []\n",
    "    \n",
    "    #Encontrar a posição do caracter passado na string\n",
    "    encontraPosicao = palavra.find(c)\n",
    "   \n",
    "\n",
    "    for i, char in enumerate(palavra):\n",
    "        \n",
    "        if char == c:\n",
    "            encontraPosicao = i #Reinicia a contagem quando encontrar a letra novamente\n",
    "        #Calcular a distancia entre o caracter e a interação da string(Em módulo)\n",
    "        distancia.append(abs(encontraPosicao - i))\n",
    "\n",
    "\n",
    "    return distancia\n",
    "\n",
    "\n",
    "    "
   ]
  },
  {
   "cell_type": "code",
   "execution_count": 52,
   "metadata": {},
   "outputs": [
    {
     "name": "stdout",
     "output_type": "stream",
     "text": [
      "[3, 2, 1, 0, 1, 2, 3, 0, 1, 2, 3, 4]\n",
      "[0, 0, 0, 0, 0]\n",
      "[0, 0, 1, 2, 0, 0, 1, 2]\n",
      "[4, 3, 2, 1, 0, 0, 0, 0]\n",
      "[1, 2, 3, 4, 5]\n",
      "[]\n",
      "[]\n"
     ]
    },
    {
     "ename": "",
     "evalue": "",
     "output_type": "error",
     "traceback": [
      "\u001b[1;31mThe Kernel crashed while executing code in the current cell or a previous cell. \n",
      "\u001b[1;31mPlease review the code in the cell(s) to identify a possible cause of the failure. \n",
      "\u001b[1;31mClick <a href='https://aka.ms/vscodeJupyterKernelCrash'>here</a> for more info. \n",
      "\u001b[1;31mView Jupyter <a href='command:jupyter.viewOutput'>log</a> for further details."
     ]
    }
   ],
   "source": [
    "print(distanciaMaisCurta(\"lovecodewars\", \"e\")) # expects [3, 2, 1, 0, 1, 2, 1, 0, 1, 2, 3, 4]\n",
    "print(distanciaMaisCurta(\"aaaaa\", \"a\")) # expects [0, 0, 0, 0, 0]\n",
    "print(distanciaMaisCurta(\"aabbaabb\", \"a\")) # expects [0, 0, 1, 1, 0, 0, 1, 2]\n",
    "print(distanciaMaisCurta(\"aaaabbbb\", \"b\")) # expects [4, 3, 2, 1, 0, 0, 0, 0]\n",
    "print(distanciaMaisCurta(\"aaaaa\", \"b\")) # expects []\n",
    "print(distanciaMaisCurta(\"lovecoding\", \"\")) # expects []\n",
    "print(distanciaMaisCurta(\"\", \"\")) # expects []"
   ]
  },
  {
   "cell_type": "code",
   "execution_count": null,
   "metadata": {},
   "outputs": [],
   "source": []
  }
 ],
 "metadata": {
  "kernelspec": {
   "display_name": "Python 3",
   "language": "python",
   "name": "python3"
  },
  "language_info": {
   "codemirror_mode": {
    "name": "ipython",
    "version": 3
   },
   "file_extension": ".py",
   "mimetype": "text/x-python",
   "name": "python",
   "nbconvert_exporter": "python",
   "pygments_lexer": "ipython3",
   "version": "3.11.4"
  }
 },
 "nbformat": 4,
 "nbformat_minor": 2
}
