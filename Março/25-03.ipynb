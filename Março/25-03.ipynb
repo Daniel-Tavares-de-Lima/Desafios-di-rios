{
 "cells": [
  {
   "cell_type": "markdown",
   "metadata": {},
   "source": [
    "# Primeiro caractere não repetido\n",
    "Data: 25/03/2024. De: Codewars. Link para kata(https://www.codewars.com/kata/52bc74d4ac05d0945d00054e/python).\n",
    "\n",
    "# Descrição\n",
    "Escreva uma função chamada first_non_repeating_letter* que recebe uma entrada de string e retorna o primeiro caractere que não se repete em nenhum lugar da string.\n",
    "\n",
    "Por exemplo, se fornecida a entrada 'stress', a função deve retornar 't', já que a letra t ocorre apenas uma vez na string e ocorre primeiro na string.\n",
    "\n",
    "Como um desafio adicional, letras maiúsculas e minúsculas são consideradas o mesmo caractere, mas a função deve retornar o caso correto para a letra inicial. Por exemplo, a entrada 'sTreSS' deve retornar 'T'.\n",
    "\n",
    "Se uma string contém todos os caracteres repetidos, ela deve retornar uma string vazia (\"\");\n",
    "\n",
    "*Nota: a função é chamada firstNonRepeatingLetter por razões históricas, mas sua função deve lidar com qualquer caractere Unicode."
   ]
  },
  {
   "cell_type": "markdown",
   "metadata": {},
   "source": [
    "# Minha solução\n"
   ]
  },
  {
   "cell_type": "code",
   "execution_count": 1,
   "metadata": {},
   "outputs": [],
   "source": [
    "def first_non_repeating_letter(s):\n",
    "    #Converter a string para minusculo\n",
    "    s = s.lower()\n",
    "\n",
    "    #Contagem para contar as ocorrencias de cada caracter\n",
    "    contagem = {}\n",
    "    for char in s:\n",
    "        if char in contagem:\n",
    "            contagem[char] += 1\n",
    "        else:\n",
    "            contagem[char] = 1\n",
    "\n",
    "    \n",
    "    for char in s:\n",
    "        if contagem[char] == 1:\n",
    "            return char.upper() if char.isupper() else char\n",
    "        \n",
    "    \n",
    "    return \"\""
   ]
  },
  {
   "cell_type": "code",
   "execution_count": 2,
   "metadata": {},
   "outputs": [
    {
     "name": "stdout",
     "output_type": "stream",
     "text": [
      "a\n",
      "t\n",
      "e\n",
      "\n",
      "\n",
      "\n",
      "#\n",
      "w\n",
      "t\n",
      ",\n"
     ]
    }
   ],
   "source": [
    "print(first_non_repeating_letter('a')) # expect 'a'\n",
    "print(first_non_repeating_letter('stress')) # expect 't'\n",
    "print(first_non_repeating_letter('moonmen')) # expect 'e'\n",
    "print(first_non_repeating_letter('')) # expect ''\n",
    "print(first_non_repeating_letter('abba')) # expect ''\n",
    "print(first_non_repeating_letter('aa')) # expect ''\n",
    "print(first_non_repeating_letter('~><#~><')) # expect '#'\n",
    "print(first_non_repeating_letter('hello world) # expect eh?')) # expect 'w'\n",
    "print(first_non_repeating_letter('sTreSS')) # expect 'T'\n",
    "print(first_non_repeating_letter('Go hang a salami, I\\'m a lasagna hog!')) # expect ','"
   ]
  }
 ],
 "metadata": {
  "kernelspec": {
   "display_name": "Python 3",
   "language": "python",
   "name": "python3"
  },
  "language_info": {
   "codemirror_mode": {
    "name": "ipython",
    "version": 3
   },
   "file_extension": ".py",
   "mimetype": "text/x-python",
   "name": "python",
   "nbconvert_exporter": "python",
   "pygments_lexer": "ipython3",
   "version": "3.11.4"
  }
 },
 "nbformat": 4,
 "nbformat_minor": 2
}
