{
 "cells": [
  {
   "cell_type": "markdown",
   "metadata": {},
   "source": [
    "# Minha solução"
   ]
  },
  {
   "cell_type": "code",
   "execution_count": 9,
   "metadata": {},
   "outputs": [
    {
     "name": "stdout",
     "output_type": "stream",
     "text": [
      "Hello World\n"
     ]
    }
   ],
   "source": [
    "print(\"Hello World\")"
   ]
  },
  {
   "cell_type": "code",
   "execution_count": 13,
   "metadata": {},
   "outputs": [],
   "source": [
    "pessoa = \"Daniel\"\n",
    "idade = 20\n",
    "altura = 1.70\n",
    "dev = True\n"
   ]
  },
  {
   "cell_type": "markdown",
   "metadata": {},
   "source": [
    "Operações com variáveis"
   ]
  },
  {
   "cell_type": "code",
   "execution_count": 4,
   "metadata": {},
   "outputs": [
    {
     "name": "stdout",
     "output_type": "stream",
     "text": [
      "0\n"
     ]
    }
   ],
   "source": [
    "operacao = int(input(\"Digite 1 para soma \\n Digite 2 para subtração \\n Digite 3 para multiplicação \\n Digite 4 para divisão\"))\n",
    "numero1 = int(input(\"Digite o primeiro número para a operação: \"))\n",
    "numero2 = int(input(\"Digite o segundo número para a operação: \"))\n",
    "\n",
    "\n",
    "match operacao:\n",
    "    case 1:\n",
    "        soma = numero1 + numero2\n",
    "        print(soma)\n",
    "    case 2:\n",
    "        sub = numero1 - numero2\n",
    "        print(sub)\n",
    "    case 3:\n",
    "        mult = numero1 * numero2\n",
    "        print(mult)\n",
    "    case 4:\n",
    "        if numero2 == 0:\n",
    "            print(\"IMPOSSÍVEL\")\n",
    "        else:\n",
    "            div = numero1 / numero2\n",
    "            print(div)\n",
    "    case _:\n",
    "        print(\"Opção inválida\")\n",
    "    \n",
    "\n",
    "  "
   ]
  },
  {
   "cell_type": "code",
   "execution_count": null,
   "metadata": {},
   "outputs": [],
   "source": [
    "\n"
   ]
  }
 ],
 "metadata": {
  "kernelspec": {
   "display_name": "Python 3",
   "language": "python",
   "name": "python3"
  },
  "language_info": {
   "codemirror_mode": {
    "name": "ipython",
    "version": 3
   },
   "file_extension": ".py",
   "mimetype": "text/x-python",
   "name": "python",
   "nbconvert_exporter": "python",
   "pygments_lexer": "ipython3",
   "version": "3.11.8"
  }
 },
 "nbformat": 4,
 "nbformat_minor": 2
}
