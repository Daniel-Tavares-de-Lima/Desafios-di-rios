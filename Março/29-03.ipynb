{
 "cells": [
  {
   "cell_type": "markdown",
   "metadata": {},
   "source": [
    "# FizzBuzz\n",
    "Data: 29/03/2024. De: Codewars. Link para kata(https://www.codewars.com/kata/5a622f5f85bef7a9e90009e2/train/python).\n",
    "\n",
    "# Descrição\n",
    "FizzBuzz é frequentemente um dos primeiros quebra-cabeças de programação que as pessoas aprendem. \n",
    "\n",
    "A ideia básica do jogo é contar de 1 a 100, e quando um número é múltiplo de 3, em vez de dizer o número, deve-se dizer \"Fizz\". Se um número é múltiplo de 5, deve-se dizer \"Buzz\". Se o número é múltiplo tanto de 3 como de 5, deve-se dizer \"FizzBuzz\".\n",
    "\n",
    "Por exemplo, os primeiros números da sequência seriam:\n",
    "1, 2, Fizz, 4, Buzz, Fizz, 7, 8, Fizz, Buzz, 11, Fizz, 13, 14, FizzBuzz, 16, ...\n",
    "\n",
    "O objetivo da brincadeira é verificar se o participante consegue escrever um programa simples que conte de 1 a 100 e imprima a sequência correta de Fizz, Buzz e FizzBuzz para os números múltiplos de 3, 5 e 15, respectivamente. É uma maneira divertida de praticar habilidades de programação e lógica, e muitas vezes é usado como um teste inicial para avaliar a capacidade de programação dos candidatos."
   ]
  },
  {
   "cell_type": "code",
   "execution_count": 5,
   "metadata": {},
   "outputs": [],
   "source": [
    "def fizzbuzz(arr):\n",
    "    pass\n",
    "\n",
    "    \n",
    "    "
   ]
  },
  {
   "cell_type": "code",
   "execution_count": 6,
   "metadata": {},
   "outputs": [
    {
     "name": "stdout",
     "output_type": "stream",
     "text": [
      "[1, 2, 'Fizz', 4, 'Buzz']\n",
      "['Fizz', 688, 689, 'FizzBuzz']\n",
      "['Fizz', 'Buzz']\n"
     ]
    }
   ],
   "source": [
    "print(fizzbuzz([1,2,3,4,5])) # expects [1, 2, Fizz, 4, Buzz]\n",
    "print(fizzbuzz([687,688,689,690])) # expects [Fizz, 688, 689, Fizz]\n",
    "print(fizzbuzz([9,10])) # expects [Fizz, Buzz]"
   ]
  },
  {
   "cell_type": "code",
   "execution_count": null,
   "metadata": {},
   "outputs": [],
   "source": []
  }
 ],
 "metadata": {
  "kernelspec": {
   "display_name": "Python 3",
   "language": "python",
   "name": "python3"
  },
  "language_info": {
   "codemirror_mode": {
    "name": "ipython",
    "version": 3
   },
   "file_extension": ".py",
   "mimetype": "text/x-python",
   "name": "python",
   "nbconvert_exporter": "python",
   "pygments_lexer": "ipython3",
   "version": "3.11.4"
  }
 },
 "nbformat": 4,
 "nbformat_minor": 2
}
