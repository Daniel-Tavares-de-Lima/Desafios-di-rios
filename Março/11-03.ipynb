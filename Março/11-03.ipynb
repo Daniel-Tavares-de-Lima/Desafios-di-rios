{
 "cells": [
  {
   "cell_type": "markdown",
   "metadata": {},
   "source": [
    "# Soma dos dígitos / Raiz digital\n",
    "Data: 11/03/2024. De: Codewars. Link para a kata.\n",
    "\n",
    "# Descrição\n",
    "A raiz digital é a soma recursiva de todos os dígitos em um número.\n",
    "\n",
    "Dado n, pegue a soma dos dígitos de n. Se esse valor tiver mais de um dígito, continue reduzindo dessa forma até que um número de um único dígito seja produzido. A entrada será um número inteiro não negativo.\n",
    "\n",
    "Exemplos\n",
    "16 --> 1 + 6 = 7\n",
    "942 --> 9 + 4 + 2 = 15 --> 1 + 5 = 6\n",
    "132189 --> 1 + 3 + 2 + 1 + 8 + 9 = 24 --> 2 + 4 = 6\n",
    "493193 --> 4 + 9 + 3 + 1 + 9 + 3 = 29 --> 2 + 9 = 11 --> 1 + 1 = 2"
   ]
  },
  {
   "cell_type": "code",
   "execution_count": null,
   "metadata": {},
   "outputs": [],
   "source": [
    "def digital_root(n):\n",
    "    pass"
   ]
  },
  {
   "cell_type": "code",
   "execution_count": null,
   "metadata": {},
   "outputs": [],
   "source": [
    "print(digital_root(16)) # expects 7\n",
    "print(digital_root(942)) # expects 6\n",
    "print(digital_root(132189)) # expects 6\n",
    "print(digital_root(493193)) # expects 2"
   ]
  }
 ],
 "metadata": {
  "language_info": {
   "name": "python"
  }
 },
 "nbformat": 4,
 "nbformat_minor": 2
}
