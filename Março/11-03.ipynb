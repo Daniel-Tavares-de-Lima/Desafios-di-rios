{
 "cells": [
  {
   "cell_type": "markdown",
   "metadata": {},
   "source": [
    "# Soma dos dígitos / Raiz digital\n",
    "Data: 11/03/2024. De: Codewars. Link para a kata.\n",
    "\n",
    "# Descrição\n",
    "A raiz digital é a soma recursiva de todos os dígitos em um número.\n",
    "\n",
    "Dado n, pegue a soma dos dígitos de n. Se esse valor tiver mais de um dígito, continue reduzindo dessa forma até que um número de um único dígito seja produzido. A entrada será um número inteiro não negativo.\n",
    "\n",
    "Exemplos\n",
    "16 --> 1 + 6 = 7\n",
    "942 --> 9 + 4 + 2 = 15 --> 1 + 5 = 6\n",
    "132189 --> 1 + 3 + 2 + 1 + 8 + 9 = 24 --> 2 + 4 = 6\n",
    "493193 --> 4 + 9 + 3 + 1 + 9 + 3 = 29 --> 2 + 9 = 11 --> 1 + 1 = 2"
   ]
  },
  {
   "cell_type": "code",
   "execution_count": 1,
   "metadata": {},
   "outputs": [
    {
     "name": "stdout",
     "output_type": "stream",
     "text": [
      "Please enter a valid number between 1 and 9.\n"
     ]
    }
   ],
   "source": [
    "import random\n",
    "\n",
    "def guess_number():\n",
    "    number = random.randint(1, 9)\n",
    "    number_of_guesses = 0\n",
    "    while True:\n",
    "        guess = input(\"Digite um número entre 1 e 9: \")\n",
    "        if not guess.isdigit() or int(guess) < 1 or int(guess) > 9:\n",
    "            print(\"Por favor selecione um numero entre 1 e 9.\")\n",
    "            continue\n",
    "        guess = int(guess)\n",
    "        number_of_guesses += 1\n",
    "        if guess == number:\n",
    "            print(f\"Parabéns! Você acertou o  {number} em {number_of_guesses} tentativas.\")\n",
    "            break\n",
    "    return number_of_guesses\n",
    "\n",
    "guess_number()\n"
   ]
  },
  {
   "cell_type": "code",
   "execution_count": null,
   "metadata": {},
   "outputs": [],
   "source": [
    "def digital_root(n):\n",
    "    while n >= 10:\n",
    "        n = sum(int(digit) for digit in str(n))\n",
    "    return n\n",
    "\n",
    "print(digital_root(16))      # Output: 7\n",
    "print(digital_root(942))     # Output: 6\n",
    "print(digital_root(132189))  # Output: 6\n",
    "print(digital_root(493193))  # Output: 2\n"
   ]
  }
 ],
 "metadata": {
  "kernelspec": {
   "display_name": "Python 3",
   "language": "python",
   "name": "python3"
  },
  "language_info": {
   "codemirror_mode": {
    "name": "ipython",
    "version": 3
   },
   "file_extension": ".py",
   "mimetype": "text/x-python",
   "name": "python",
   "nbconvert_exporter": "python",
   "pygments_lexer": "ipython3",
   "version": "3.11.4"
  }
 },
 "nbformat": 4,
 "nbformat_minor": 2
}
