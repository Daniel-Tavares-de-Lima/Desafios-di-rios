{
 "cells": [
  {
   "cell_type": "markdown",
   "metadata": {},
   "source": [
    "# Correção de bug: Quick sort\n",
    "Data: 23/03/2024. De: Codewars. Link para kata(https://www.codewars.com/kata/56bdaa2cbe8f29257c000085/train/python).\n",
    "\n",
    "# Descrição\n",
    "Existe uma implementação do algoritmo quicksort. Sua tarefa é corrigi-lo. Todas as entradas estão corretas.\n",
    "\n",
    "Veja também: Quick Sort\n"
   ]
  },
  {
   "cell_type": "markdown",
   "metadata": {},
   "source": [
    "# Minha solução"
   ]
  },
  {
   "cell_type": "code",
   "execution_count": 6,
   "metadata": {},
   "outputs": [],
   "source": [
    "def quicksort(arr):\n",
    "    if len(arr) < 2: \n",
    "        return arr\n",
    "    \n",
    "    pivor = arr[-1]\n",
    "\n",
    "    quick =  quicksort(list(filter(lambda el: el <pivor, arr))) + list(filter(lambda el: el ==pivor, arr)) + quicksort(list(filter(lambda el: el >pivor, arr)))\n",
    "    return quick"
   ]
  },
  {
   "cell_type": "code",
   "execution_count": 7,
   "metadata": {},
   "outputs": [
    {
     "name": "stdout",
     "output_type": "stream",
     "text": [
      "[]\n",
      "[1]\n",
      "[1, 2, 5]\n",
      "[-5, 3, 17]\n",
      "[0, 1, 2, 3, 4, 5, 6, 7, 8, 9]\n"
     ]
    }
   ],
   "source": [
    "print(quicksort([])) # expects []\n",
    "print(quicksort([1])) # expects [1]\n",
    "print(quicksort([1, 5, 2])) # expects [1, 2, 5]\n",
    "print(quicksort([17, -5, 3])) # expects [-5, 3, 17]\n",
    "print(quicksort([3, 0, 7, 5, 1, 2, 9, 8, 4, 6])) # expects [0, 1, 2, 3, 4, 5, 6, 7, 8, 9]"
   ]
  },
  {
   "cell_type": "code",
   "execution_count": null,
   "metadata": {},
   "outputs": [],
   "source": []
  }
 ],
 "metadata": {
  "kernelspec": {
   "display_name": "Python 3",
   "language": "python",
   "name": "python3"
  },
  "language_info": {
   "codemirror_mode": {
    "name": "ipython",
    "version": 3
   },
   "file_extension": ".py",
   "mimetype": "text/x-python",
   "name": "python",
   "nbconvert_exporter": "python",
   "pygments_lexer": "ipython3",
   "version": "3.11.4"
  }
 },
 "nbformat": 4,
 "nbformat_minor": 2
}
