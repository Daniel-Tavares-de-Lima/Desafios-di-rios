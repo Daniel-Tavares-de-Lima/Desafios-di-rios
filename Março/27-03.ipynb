{
 "cells": [
  {
   "cell_type": "markdown",
   "metadata": {},
   "source": [
    "# Correção de bug: Quick sort\n",
    "Data: 23/03/2024. De: Codewars. Link para kata(https://www.codewars.com/kata/56bdaa2cbe8f29257c000085/train/python).\n",
    "\n",
    "# Descrição\n",
    "Existe uma implementação do algoritmo quicksort. Sua tarefa é corrigi-lo. Todas as entradas estão corretas.\n",
    "\n",
    "Veja também: Quick Sort\n"
   ]
  },
  {
   "cell_type": "markdown",
   "metadata": {},
   "source": [
    "# Minha solução"
   ]
  },
  {
   "cell_type": "code",
   "execution_count": null,
   "metadata": {},
   "outputs": [],
   "source": [
    "def quickSort():\n",
    "    pass"
   ]
  },
  {
   "cell_type": "code",
   "execution_count": null,
   "metadata": {},
   "outputs": [],
   "source": [
    "print(\"OI\")"
   ]
  }
 ],
 "metadata": {
  "language_info": {
   "name": "python"
  }
 },
 "nbformat": 4,
 "nbformat_minor": 2
}
