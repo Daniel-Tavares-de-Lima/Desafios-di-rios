{
 "cells": [
  {
   "cell_type": "markdown",
   "metadata": {},
   "source": [
    "# Hangman\n",
    "Data: 03/02/2024. De: Practice Python. Link(https://www.practicepython.org/exercise/2017/01/10/32-hangman.html)\n",
    "\n",
    "# Descrição\n",
    "Neste exercício, vamos concluir a construção do Jogo da Forca. No jogo da Forca, o jogador tem apenas 6 tentativas incorretas (cabeça, corpo, 2 pernas e 2 braços) antes de perder o jogo.\n",
    "\n",
    "Na Parte 1, carregamos uma lista de palavras aleatórias e escolhemos uma palavra dela. Na Parte 2, escrevemos a lógica para adivinhar a letra e exibir essas informações para o usuário. Neste exercício, precisamos juntar tudo e adicionar lógica para lidar com as tentativas.\n",
    "\n",
    "Copie seu código das Partes 1 e 2 para um novo arquivo como ponto de partida. Agora adicione os seguintes recursos:\n",
    "\n",
    "Permita que o usuário adivinhe apenas 6 vezes e informe quantas tentativas restam.\n",
    "\n",
    "Acompanhe as letras que o usuário adivinhou. Se o usuário adivinhar uma letra que já foi adivinhada, não penalize-os - permita que eles adivinhem novamente.\n",
    "Adições opcionais\n",
    "\n",
    "Quando o jogador vence ou perde, permita que eles comecem um novo jogo.\n",
    "\n",
    "Em vez de dizer ao usuário \"Você tem 4 tentativas incorretas restantes\", exiba alguma arte de imagem para o Enforcado. Isso é desafiador - faça as outras partes do exercício primeiro!\n",
    "Sua solução será muito mais limpa se você usar funções para ajudá-lo!"
   ]
  },
  {
   "cell_type": "code",
   "execution_count": 2,
   "metadata": {},
   "outputs": [
    {
     "name": "stdout",
     "output_type": "stream",
     "text": [
      "Bem-vindo ao Jogo da Forca!\n",
      "A palavra a ser adivinhada tem 10 letras.\n",
      "Palavra: __________\n",
      "Tentativas restantes: 6\n",
      "Letra incorreta. Tente novamente!\n",
      "Palavra: __________\n",
      "Tentativas restantes: 5\n",
      "Letra incorreta. Tente novamente!\n",
      "Palavra: __________\n",
      "Tentativas restantes: 4\n",
      "Parabéns! A letra está na palavra.\n",
      "Palavra: __________\n",
      "Tentativas restantes: 4\n",
      "Você já tentou essa letra. Tente novamente!\n",
      "Palavra: __________\n",
      "Tentativas restantes: 4\n",
      "Você já tentou essa letra. Tente novamente!\n",
      "Palavra: __________\n",
      "Tentativas restantes: 4\n",
      "Você já tentou essa letra. Tente novamente!\n",
      "Palavra: __________\n",
      "Tentativas restantes: 4\n",
      "Você já tentou essa letra. Tente novamente!\n",
      "Palavra: __________\n",
      "Tentativas restantes: 4\n",
      "Você já tentou essa letra. Tente novamente!\n",
      "Palavra: __________\n",
      "Tentativas restantes: 4\n",
      "Letra incorreta. Tente novamente!\n",
      "Palavra: __________\n",
      "Tentativas restantes: 3\n",
      "Letra incorreta. Tente novamente!\n",
      "Palavra: __________\n",
      "Tentativas restantes: 2\n"
     ]
    }
   ],
   "source": []
  },
  {
   "cell_type": "code",
   "execution_count": null,
   "metadata": {},
   "outputs": [],
   "source": []
  }
 ],
 "metadata": {
  "kernelspec": {
   "display_name": "Python 3",
   "language": "python",
   "name": "python3"
  },
  "language_info": {
   "codemirror_mode": {
    "name": "ipython",
    "version": 3
   },
   "file_extension": ".py",
   "mimetype": "text/x-python",
   "name": "python",
   "nbconvert_exporter": "python",
   "pygments_lexer": "ipython3",
   "version": "3.11.4"
  }
 },
 "nbformat": 4,
 "nbformat_minor": 2
}
