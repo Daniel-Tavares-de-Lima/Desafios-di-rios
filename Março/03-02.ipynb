{
 "cells": [
  {
   "cell_type": "markdown",
   "metadata": {},
   "source": [
    "# Hangman\n",
    "Data: 03/03/2024; De: Practice Python. Link(https://www.practicepython.org/exercise/2017/01/24/33-birthday-dictionaries.html)\n",
    "\n",
    "# Descrição\n",
    "Neste exercício, iremos acompanhar as datas de aniversário de nossos amigos e seremos capazes de encontrar essa informação com base em seus nomes. Crie um dicionário (em seu arquivo) com os nomes e as datas de nascimento. Quando você executar seu programa, ele deve pedir ao usuário para inserir um nome e então retornar o aniversário dessa pessoa para eles. A interação deve se parecer com algo assim: \n",
    ">>> Bem-vindo ao dicionário de aniversários. Nós sabemos os aniversários de:\n",
    "Albert Einstein\n",
    "Benjamin Franklin\n",
    "Ada Lovelace\n",
    ">>> De quem você quer procurar o aniversário?\n",
    "Benjamin Franklin\n",
    ">>> O aniversário de Benjamin Franklin é 17/01/1706.\n",
    "Bons códigos!\n"
   ]
  },
  {
   "cell_type": "markdown",
   "metadata": {},
   "source": [
    "# Minha solução"
   ]
  },
  {
   "cell_type": "code",
   "execution_count": 1,
   "metadata": {},
   "outputs": [
    {
     "name": "stdout",
     "output_type": "stream",
     "text": [
      "Bem-vindo ao dicionário de aniversários. Nós sabemos os aniversários de:\n",
      "Albert Einstein\n",
      "Benjamin Franklin\n",
      "Ada Lovelace\n",
      "O aniversário de Ada Lovelace é 10/12/1815.\n"
     ]
    }
   ],
   "source": [
    "def main():\n",
    "    # Dicionário de aniversários\n",
    "    aniversarios = {\n",
    "        \"Albert Einstein\": \"14/03/1879\",\n",
    "        \"Benjamin Franklin\": \"17/01/1706\",\n",
    "        \"Ada Lovelace\": \"10/12/1815\"\n",
    "    }\n",
    "    \n",
    "    print(\"Bem-vindo ao dicionário de aniversários. Nós sabemos os aniversários de:\")\n",
    "    for nome in aniversarios:\n",
    "        print(nome)\n",
    "    \n",
    "    nome = input(\"De quem você quer procurar o aniversário? \")\n",
    "    \n",
    "    if nome in aniversarios:\n",
    "        print(f\"O aniversário de {nome} é {aniversarios[nome]}.\")\n",
    "    else:\n",
    "        print(\"Desculpe, não temos informações de aniversário para essa pessoa.\")\n",
    "\n",
    "if __name__ == \"__main__\":\n",
    "    main()\n"
   ]
  },
  {
   "cell_type": "code",
   "execution_count": null,
   "metadata": {},
   "outputs": [],
   "source": []
  }
 ],
 "metadata": {
  "kernelspec": {
   "display_name": "Python 3",
   "language": "python",
   "name": "python3"
  },
  "language_info": {
   "codemirror_mode": {
    "name": "ipython",
    "version": 3
   },
   "file_extension": ".py",
   "mimetype": "text/x-python",
   "name": "python",
   "nbconvert_exporter": "python",
   "pygments_lexer": "ipython3",
   "version": "3.11.4"
  }
 },
 "nbformat": 4,
 "nbformat_minor": 2
}
