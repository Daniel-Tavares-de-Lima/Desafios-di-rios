{
 "cells": [
  {
   "cell_type": "markdown",
   "metadata": {},
   "source": [
    "# Hangman\n",
    "Data: 03/03/2024; De: Practice Python. Link(https://www.practicepython.org/exercise/2017/01/24/33-birthday-dictionaries.html)\n",
    "\n",
    "# Descrição\n",
    "Neste exercício, iremos acompanhar as datas de aniversário de nossos amigos e seremos capazes de encontrar essa informação com base em seus nomes. Crie um dicionário (em seu arquivo) com os nomes e as datas de nascimento. Quando você executar seu programa, ele deve pedir ao usuário para inserir um nome e então retornar o aniversário dessa pessoa para eles. A interação deve se parecer com algo assim: \n",
    ">>> Bem-vindo ao dicionário de aniversários. Nós sabemos os aniversários de:\n",
    "Albert Einstein\n",
    "Benjamin Franklin\n",
    "Ada Lovelace\n",
    ">>> De quem você quer procurar o aniversário?\n",
    "Benjamin Franklin\n",
    ">>> O aniversário de Benjamin Franklin é 17/01/1706.\n",
    "Bons códigos!\n"
   ]
  },
  {
   "cell_type": "markdown",
   "metadata": {},
   "source": [
    "# Minha solução"
   ]
  },
  {
   "cell_type": "code",
   "execution_count": null,
   "metadata": {},
   "outputs": [],
   "source": []
  }
 ],
 "metadata": {
  "language_info": {
   "name": "python"
  }
 },
 "nbformat": 4,
 "nbformat_minor": 2
}
