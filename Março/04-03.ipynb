{
 "cells": [
  {
   "cell_type": "markdown",
   "metadata": {},
   "source": [
    "# Aniversário Json\n",
    "Data: 04/03/2024. De: Practice Python. Link(https://www.practicepython.org/exercise/2017/02/06/34-birthday-json.html)\n",
    "\n",
    "# Descrição\n",
    "No exercício anterior, criamos um dicionário com os aniversários de cientistas famosos. Neste exercício, modifique seu programa da Parte 1 para carregar o dicionário de aniversários de um arquivo JSON no disco, em vez de ter o dicionário definido no programa.\n",
    "\n",
    "Bônus: Pergunte ao usuário o nome e o aniversário de outro cientista para adicionar ao dicionário e atualize o arquivo JSON no disco com o nome do cientista. Se você executar o programa várias vezes e continuar adicionando novos nomes, seu arquivo JSON deve continuar crescendo cada vez mais."
   ]
  },
  {
   "cell_type": "markdown",
   "metadata": {},
   "source": [
    "# Minha solução"
   ]
  },
  {
   "cell_type": "code",
   "execution_count": null,
   "metadata": {},
   "outputs": [],
   "source": []
  }
 ],
 "metadata": {
  "language_info": {
   "name": "python"
  }
 },
 "nbformat": 4,
 "nbformat_minor": 2
}
