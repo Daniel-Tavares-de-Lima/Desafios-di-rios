{
 "cells": [
  {
   "cell_type": "markdown",
   "metadata": {},
   "source": [
    "# Aniversário Json\n",
    "Data: 04/03/2024. De: Practice Python. Link(https://www.practicepython.org/exercise/2017/02/06/34-birthday-json.html)\n",
    "\n",
    "# Descrição\n",
    "No exercício anterior, criamos um dicionário com os aniversários de cientistas famosos. Neste exercício, modifique seu programa da Parte 1 para carregar o dicionário de aniversários de um arquivo JSON no disco, em vez de ter o dicionário definido no programa.\n",
    "\n",
    "Bônus: Pergunte ao usuário o nome e o aniversário de outro cientista para adicionar ao dicionário e atualize o arquivo JSON no disco com o nome do cientista. Se você executar o programa várias vezes e continuar adicionando novos nomes, seu arquivo JSON deve continuar crescendo cada vez mais."
   ]
  },
  {
   "cell_type": "markdown",
   "metadata": {},
   "source": [
    "# Minha solução"
   ]
  },
  {
   "cell_type": "code",
   "execution_count": 2,
   "metadata": {},
   "outputs": [
    {
     "name": "stdout",
     "output_type": "stream",
     "text": [
      "Bem-vindo ao dicionário de aniversários!\n",
      "Nós sabemos os aniversários de:\n"
     ]
    }
   ],
   "source": [
    "import json\n",
    "\n",
    "def carregar_dicionario(filename):\n",
    "    try:\n",
    "        with open(filename, 'r') as file:\n",
    "            return json.load(file)\n",
    "    except FileNotFoundError:\n",
    "        return {}\n",
    "\n",
    "def salvar_dicionario(dicionario, filename):\n",
    "    with open(filename, 'w') as file:\n",
    "        json.dump(dicionario, file)\n",
    "\n",
    "def adicionar_cientista(dicionario):\n",
    "    nome = input(\"Digite o nome do cientista: \")\n",
    "    aniversario = input(\"Digite a data de aniversário do cientista (DD/MM/AAAA): \")\n",
    "    dicionario[nome] = aniversario\n",
    "    print(f\"O cientista {nome} foi adicionado com sucesso!\")\n",
    "\n",
    "\n",
    "filename = 'aniversarios.json'\n",
    "dicionario = carregar_dicionario(filename)\n",
    "\n",
    "print(\"Bem-vindo ao dicionário de aniversários!\")\n",
    "print(\"Nós sabemos os aniversários de:\")\n",
    "for nome in dicionario:\n",
    "    print(nome)\n",
    "\n",
    "opcao = input(\"Deseja adicionar um novo cientista? (S/N): \").lower()\n",
    "if opcao == 's':\n",
    "    adicionar_cientista(dicionario)\n",
    "    salvar_dicionario(dicionario, filename)\n",
    "\n",
    "\n"
   ]
  },
  {
   "cell_type": "code",
   "execution_count": null,
   "metadata": {},
   "outputs": [],
   "source": []
  }
 ],
 "metadata": {
  "kernelspec": {
   "display_name": "Python 3",
   "language": "python",
   "name": "python3"
  },
  "language_info": {
   "codemirror_mode": {
    "name": "ipython",
    "version": 3
   },
   "file_extension": ".py",
   "mimetype": "text/x-python",
   "name": "python",
   "nbconvert_exporter": "python",
   "pygments_lexer": "ipython3",
   "version": "3.11.4"
  }
 },
 "nbformat": 4,
 "nbformat_minor": 2
}
