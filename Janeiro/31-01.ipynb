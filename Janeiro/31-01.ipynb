{
 "cells": [
  {
   "cell_type": "markdown",
   "metadata": {},
   "source": [
    "## Contagem Ordenada de Caracterres\n",
    "\n",
    "Data: 31/01/2024. De: Codewars, Link para o exercício(https://www.codewars.com/kata/57a6633153ba33189e000074/train/python)\n",
    "\n",
    "## Descrição\n",
    "Conte o número de ocorrências de cada caractere e retorne-o como uma (lista de tuplas) na ordem de aparecimento. Para uma saída vazia, retorne (uma lista vazia).\n",
    "\n",
    "Consulte a configuração da solução para a implementação exata da estrutura de dados, dependendo da linguagem que você está utilizando.\n",
    "\n",
    "Exemplo:\n",
    "\n",
    "ordered_count(\"abracadabra\") == [('a', 5), ('b', 2), ('r', 2), ('c', 1), ('d', 1)]\n"
   ]
  },
  {
   "cell_type": "markdown",
   "metadata": {},
   "source": [
    "## Minha solução"
   ]
  },
  {
   "cell_type": "code",
   "execution_count": null,
   "metadata": {},
   "outputs": [],
   "source": [
    "def ordered_count(inp):\n",
    "    pass"
   ]
  },
  {
   "cell_type": "markdown",
   "metadata": {},
   "source": [
    "## Testes"
   ]
  },
  {
   "cell_type": "code",
   "execution_count": null,
   "metadata": {},
   "outputs": [],
   "source": [
    "print(ordered_count(\"abracadabra\")) # expects [('a', 5), ('b', 2), ('r', 2), ('c', 1), ('d', 1)]\n",
    "print(ordered_count(\"Code Wars\"))  # expects [('C', 1), ('o', 1), ('d', 1), ('e', 1), (' ', 1), ('W', 1), ('a', 1), ('r', 1),"
   ]
  }
 ],
 "metadata": {
  "language_info": {
   "name": "python"
  }
 },
 "nbformat": 4,
 "nbformat_minor": 2
}
