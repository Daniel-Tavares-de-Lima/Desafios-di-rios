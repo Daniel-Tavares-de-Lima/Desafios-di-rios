{
 "cells": [
  {
   "cell_type": "markdown",
   "metadata": {},
   "source": [
    "## Contagem Ordenada de Caracterres\n",
    "\n",
    "Data: 31/01/2024. De: Codewars, Link para o exercício(https://www.codewars.com/kata/57a6633153ba33189e000074/train/python)\n",
    "\n",
    "## Descrição\n",
    "Conte o número de ocorrências de cada caractere e retorne-o como uma (lista de tuplas) na ordem de aparecimento. Para uma saída vazia, retorne (uma lista vazia).\n",
    "\n",
    "Consulte a configuração da solução para a implementação exata da estrutura de dados, dependendo da linguagem que você está utilizando.\n",
    "\n",
    "Exemplo:\n",
    "\n",
    "ordered_count(\"abracadabra\") == [('a', 5), ('b', 2), ('r', 2), ('c', 1), ('d', 1)]\n"
   ]
  },
  {
   "cell_type": "markdown",
   "metadata": {},
   "source": [
    "## Minha solução"
   ]
  },
  {
   "cell_type": "code",
   "execution_count": 1,
   "metadata": {},
   "outputs": [],
   "source": [
    "def ordered_count(input):\n",
    "    conta_caract = {}\n",
    "\n",
    "    qtd_caract = []\n",
    "\n",
    "    for char in input:\n",
    "        if char not in conta_caract:\n",
    "            qtd_caract.append(char)\n",
    "\n",
    "        conta_caract[char] = conta_caract.get(char, 0) + 1\n",
    "\n",
    "    resultado = [(char, conta_caract[char]) for char in qtd_caract]\n",
    "\n",
    "    return resultado      \n"
   ]
  },
  {
   "cell_type": "markdown",
   "metadata": {},
   "source": [
    "## Testes"
   ]
  },
  {
   "cell_type": "code",
   "execution_count": 2,
   "metadata": {},
   "outputs": [
    {
     "name": "stdout",
     "output_type": "stream",
     "text": [
      "[('a', 5), ('b', 2), ('r', 2), ('c', 1), ('d', 1)]\n",
      "[('C', 1), ('o', 1), ('d', 1), ('e', 1), (' ', 1), ('W', 1), ('a', 1), ('r', 1), ('s', 1)]\n"
     ]
    }
   ],
   "source": [
    "print(ordered_count(\"abracadabra\")) # expects [('a', 5), ('b', 2), ('r', 2), ('c', 1), ('d', 1)]\n",
    "print(ordered_count(\"Code Wars\"))  # expects [('C', 1), ('o', 1), ('d', 1), ('e', 1), (' ', 1), ('W', 1), ('a', 1), ('r', 1),"
   ]
  }
 ],
 "metadata": {
  "kernelspec": {
   "display_name": "Python 3",
   "language": "python",
   "name": "python3"
  },
  "language_info": {
   "codemirror_mode": {
    "name": "ipython",
    "version": 3
   },
   "file_extension": ".py",
   "mimetype": "text/x-python",
   "name": "python",
   "nbconvert_exporter": "python",
   "pygments_lexer": "ipython3",
   "version": "3.11.4"
  }
 },
 "nbformat": 4,
 "nbformat_minor": 2
}
