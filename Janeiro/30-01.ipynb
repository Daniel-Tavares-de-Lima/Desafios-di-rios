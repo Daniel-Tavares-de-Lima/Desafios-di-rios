{
 "cells": [
  {
   "cell_type": "markdown",
   "metadata": {},
   "source": [
    "Data: 30/01/2024.\n",
    "## Codewars.\n",
    "Link do [exercício] (https://www.codewars.com/kata/59325dc15dbb44b2440000af/train/python).\n",
    "\n",
    "## Descrição\n",
    "\n",
    "Crie uma função isAlt() que aceita uma string como argumento e valida se as vogais (a, e, i, o, u) e as consoantes estão em ordem alternada.\n",
    "\n",
    "```\n",
    "is_alt(\"amazon\")  # True\n",
    "is_alt(\"apple\")   # False\n",
    "is_alt(\"banana\")  # True\n",
    "\n",
    "```\n",
    "Os argumentos consistem apenas em letras minúsculas."
   ]
  },
  {
   "cell_type": "markdown",
   "metadata": {},
   "source": [
    "## Minha solução"
   ]
  },
  {
   "cell_type": "code",
   "execution_count": 1,
   "metadata": {},
   "outputs": [],
   "source": [
    "def is_alt(s):\n",
    "    vogais = set(\"aeiou\")\n",
    "    is_vogal = lambda char: char in vogais\n",
    "\n",
    "    for i in range(len(s) - 1):\n",
    "        if(is_vogal(s[i]) and is_vogal(s[i + 1])) or (not is_vogal(s[i]) and not is_vogal(s[i + 1])):\n",
    "            return False\n",
    "        \n",
    "    return True    "
   ]
  },
  {
   "cell_type": "markdown",
   "metadata": {},
   "source": [
    "## Testes"
   ]
  },
  {
   "cell_type": "code",
   "execution_count": 2,
   "metadata": {},
   "outputs": [
    {
     "name": "stdout",
     "output_type": "stream",
     "text": [
      "True\n",
      "False\n",
      "True\n",
      "False\n",
      "True\n",
      "True\n"
     ]
    }
   ],
   "source": [
    "print(is_alt(\"amazon\")) # expectos True\n",
    "print(is_alt(\"apple\")) # expectosFalse\n",
    "print(is_alt(\"banana\")) # expectos True\n",
    "print(is_alt(\"orange\")) # expectosFalse\n",
    "print(is_alt(\"helipad\")) # expectos True\n",
    "print(is_alt(\"yay\")) # expectos True"
   ]
  }
 ],
 "metadata": {
  "kernelspec": {
   "display_name": "Python 3",
   "language": "python",
   "name": "python3"
  },
  "language_info": {
   "codemirror_mode": {
    "name": "ipython",
    "version": 3
   },
   "file_extension": ".py",
   "mimetype": "text/x-python",
   "name": "python",
   "nbconvert_exporter": "python",
   "pygments_lexer": "ipython3",
   "version": "3.11.4"
  }
 },
 "nbformat": 4,
 "nbformat_minor": 2
}
