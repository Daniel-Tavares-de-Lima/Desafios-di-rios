{
 "cells": [
  {
   "cell_type": "markdown",
   "metadata": {},
   "source": [
    "# Dividir strings\n",
    "Data: 10/04/2024. De: Codewars. Link para <a href=\"https://www.codewars.com/kata/515de9ae9dcfc28eb6000001/train/python\">kata.</a>\n",
    "\n",
    "## Descrição\n",
    "Complete a solução para que ela divida a string em pares de dois caracteres. Se a string contiver um número ímpar de caracteres, então deve substituir o segundo caractere ausente do par final por um sublinhado ('_').\n",
    "\n",
    "## Exemplos:\n",
    "\n",
    "- 'abc' => ['ab', 'c_']\n",
    "- 'abcdef' => ['ab', 'cd', 'ef']"
   ]
  },
  {
   "cell_type": "markdown",
   "metadata": {},
   "source": [
    "## Minha solução"
   ]
  },
  {
   "cell_type": "code",
   "execution_count": null,
   "metadata": {},
   "outputs": [],
   "source": [
    "def solucao(s):\n",
    "    pass"
   ]
  },
  {
   "cell_type": "code",
   "execution_count": null,
   "metadata": {},
   "outputs": [],
   "source": [
    "print(solucao(\"asdfadsf\")) # print ['as', 'df', 'ad', 'sf'])\n",
    "print(solucao(\"asdfads\")) # print ['as', 'df', 'ad', 's_'])\n",
    "print(solucao(\"\")) # print [])\n",
    "print(solucao(\"x\")) # print [\"x_\"])"
   ]
  }
 ],
 "metadata": {
  "language_info": {
   "name": "python"
  }
 },
 "nbformat": 4,
 "nbformat_minor": 2
}
