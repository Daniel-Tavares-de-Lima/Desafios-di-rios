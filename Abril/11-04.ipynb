{
 "cells": [
  {
   "cell_type": "markdown",
   "metadata": {},
   "source": [
    "# Dividir strings\n",
    "Data: 10/04/2024. De: Codewars. Link para <a href=\"https://www.codewars.com/kata/515de9ae9dcfc28eb6000001/train/python\">kata.</a>\n",
    "\n",
    "## Descrição\n",
    "Complete a solução para que ela divida a string em pares de dois caracteres. Se a string contiver um número ímpar de caracteres, então deve substituir o segundo caractere ausente do par final por um sublinhado ('_').\n",
    "\n",
    "## Exemplos:\n",
    "\n",
    "- 'abc' => ['ab', 'c_']\n",
    "- 'abcdef' => ['ab', 'cd', 'ef']"
   ]
  },
  {
   "cell_type": "markdown",
   "metadata": {},
   "source": [
    "## Minha solução"
   ]
  },
  {
   "cell_type": "code",
   "execution_count": 1,
   "metadata": {},
   "outputs": [],
   "source": [
    "def solucao(s):\n",
    "\n",
    "    # Retorna uma lista vazia caso a string seja vazia\n",
    "    if s is None:\n",
    "        return []\n",
    "    \n",
    "    #Cria uma lista para armazenar carecteres pares\n",
    "    lista_par = []\n",
    "\n",
    "    #Intera a String toda do primeiro index até o final da lista de 2 em 2\n",
    "    for i in range(0, len(s), 2):\n",
    "        # Variavel para armazenar os indices/elementos da string do caracter em questão até o caracterer em questão + 2\n",
    "        par = s[i:i+2]\n",
    "\n",
    "        #Caso a string seja impar, ou seja, então add \"_\" a variavel par\n",
    "        if len(par) < 2:\n",
    "            par += \"_\"\n",
    "\n",
    "        #Adiciona os caracteres guardados na variavel par na lista\n",
    "        lista_par.append(par)\n",
    "\n",
    "    #Retorna a lista\n",
    "    return lista_par\n"
   ]
  },
  {
   "cell_type": "code",
   "execution_count": 2,
   "metadata": {},
   "outputs": [
    {
     "name": "stdout",
     "output_type": "stream",
     "text": [
      "['as', 'df', 'ad', 'sf']\n",
      "['as', 'df', 'ad', 's_']\n",
      "[]\n",
      "['x_']\n"
     ]
    }
   ],
   "source": [
    "print(solucao(\"asdfadsf\")) # print ['as', 'df', 'ad', 'sf'])\n",
    "print(solucao(\"asdfads\")) # print ['as', 'df', 'ad', 's_'])\n",
    "print(solucao(\"\")) # print [])\n",
    "print(solucao(\"x\")) # print [\"x_\"])"
   ]
  },
  {
   "cell_type": "code",
   "execution_count": null,
   "metadata": {},
   "outputs": [],
   "source": []
  }
 ],
 "metadata": {
  "kernelspec": {
   "display_name": "Python 3",
   "language": "python",
   "name": "python3"
  },
  "language_info": {
   "codemirror_mode": {
    "name": "ipython",
    "version": 3
   },
   "file_extension": ".py",
   "mimetype": "text/x-python",
   "name": "python",
   "nbconvert_exporter": "python",
   "pygments_lexer": "ipython3",
   "version": "3.11.4"
  }
 },
 "nbformat": 4,
 "nbformat_minor": 2
}
