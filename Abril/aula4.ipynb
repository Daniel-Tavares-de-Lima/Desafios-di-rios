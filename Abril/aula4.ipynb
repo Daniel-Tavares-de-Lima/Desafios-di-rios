{
 "cells": [
  {
   "cell_type": "markdown",
   "metadata": {},
   "source": [
    "### 1. Faça um programa que peça um número e então mostre a mensagem \"O número informado foi\" seguida do número."
   ]
  },
  {
   "cell_type": "code",
   "execution_count": 12,
   "metadata": {},
   "outputs": [
    {
     "name": "stdout",
     "output_type": "stream",
     "text": [
      "O número informado foi:  5\n"
     ]
    }
   ],
   "source": [
    "numero = int(input(\"Digite um número qualquer: \"))\n",
    "\n",
    "print(\"O número informado foi: \", numero)"
   ]
  },
  {
   "cell_type": "markdown",
   "metadata": {},
   "source": [
    "### 2. Pede dois números\n",
    "\n",
    "### Imprime a soma"
   ]
  },
  {
   "cell_type": "code",
   "execution_count": 7,
   "metadata": {},
   "outputs": [
    {
     "name": "stdout",
     "output_type": "stream",
     "text": [
      "10\n"
     ]
    }
   ],
   "source": [
    "numero1 = int(input(\"Digite um número para soma\"))\n",
    "numero2 = int(input(\"Digite outro para soma\"))\n",
    "\n",
    "soma = lambda numero1, numero2 : numero1 + numero2\n",
    "\n",
    "print(soma(numero1, numero2))"
   ]
  },
  {
   "cell_type": "markdown",
   "metadata": {},
   "source": [
    "### 3. Faça um programa que peça 3 notas e faça a média"
   ]
  },
  {
   "cell_type": "code",
   "execution_count": 9,
   "metadata": {},
   "outputs": [
    {
     "name": "stdout",
     "output_type": "stream",
     "text": [
      "Sua média é: 5.0\n"
     ]
    }
   ],
   "source": [
    "media1 = int(input(\"Digite sua primeira média\"))\n",
    "media2 = int(input(\"Digite sua segunda média\"))\n",
    "media3 = int(input(\"Digite sua terceira média\"))\n",
    "\n",
    "media = lambda media1, media2, media3 : (media1 + media2 + media3) / 3\n",
    "\n",
    "print(\"Sua média é:\", media(media1,media2,media3))"
   ]
  },
  {
   "cell_type": "markdown",
   "metadata": {},
   "source": [
    "### 4. Faça um programa que pergunte quanto voce ganha"
   ]
  },
  {
   "cell_type": "code",
   "execution_count": 16,
   "metadata": {},
   "outputs": [
    {
     "name": "stdout",
     "output_type": "stream",
     "text": [
      "Seu salário é:  1120\n"
     ]
    }
   ],
   "source": [
    "salarioPorHora = int(input(\"Digite quando você ganha por hora: \"))\n",
    "horasTrabalhadas = int(input(\"Digite o número de horas trabalhadas por mês: \"))\n",
    "\n",
    "salario = lambda salarioPorHora, horasTrabalhadas : salarioPorHora * horasTrabalhadas\n",
    "\n",
    "print(\"Seu salário é: \", salario(salarioPorHora, horasTrabalhadas))"
   ]
  },
  {
   "cell_type": "markdown",
   "metadata": {},
   "source": [
    "### 5 DESAFIO"
   ]
  },
  {
   "cell_type": "code",
   "execution_count": 19,
   "metadata": {},
   "outputs": [
    {
     "name": "stdout",
     "output_type": "stream",
     "text": [
      "A multa equivalente a ser paga é: R$ 120.0\n"
     ]
    }
   ],
   "source": [
    "###Peso delimitado pelo regulamento\n",
    "pesoDelimitado = 50\n",
    "\n",
    "# Quilo Excedente equivalente a multa\n",
    "multa = 4.00\n",
    "\n",
    "#Variavel peso dos peixes obtidos\n",
    "peso = int(input(\"Digite a quantidade de peixes obtidos: \"))\n",
    "\n",
    "if peso > pesoDelimitado:\n",
    "    qtdExcedida = peso - pesoDelimitado\n",
    "    #Excesso \n",
    "    excesso = multa * qtdExcedida\n",
    "    \n",
    "    print(\"A multa equivalente a ser paga é: R$\", excesso)"
   ]
  },
  {
   "cell_type": "code",
   "execution_count": null,
   "metadata": {},
   "outputs": [],
   "source": []
  }
 ],
 "metadata": {
  "kernelspec": {
   "display_name": "Python 3",
   "language": "python",
   "name": "python3"
  },
  "language_info": {
   "codemirror_mode": {
    "name": "ipython",
    "version": 3
   },
   "file_extension": ".py",
   "mimetype": "text/x-python",
   "name": "python",
   "nbconvert_exporter": "python",
   "pygments_lexer": "ipython3",
   "version": "3.11.9"
  }
 },
 "nbformat": 4,
 "nbformat_minor": 2
}
