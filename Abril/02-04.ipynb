{
 "cells": [
  {
   "cell_type": "markdown",
   "metadata": {},
   "source": [
    "# Elementos comuns em arrays\n",
    "Data: 02/04/2024. De: Codewars. <a href=\"https://www.codewars.com/kata/525c65e51bf619685c000059/train/python\">Link.</a>\n",
    "\n",
    "## Descrição\n",
    "Dadas três arrays de inteiros, retorne a soma dos elementos que são comuns em todas as três arrays.\n",
    "\n",
    "Por exemplo:\n",
    "\n",
    "common([1,2,3],[5,3,2],[7,3,2]) = 5 porque 2 e 3 são comuns em todas as 3 arrays\n",
    "common([1,2,2,3],[5,3,2,2],[7,3,2,2]) = 7 porque 2, 2 e 3 são comuns nas 3 arrays\n",
    "Mais exemplos nos casos de teste.\n",
    "\n",
    "Boa sorte!\n",
    "\n"
   ]
  },
  {
   "cell_type": "markdown",
   "metadata": {},
   "source": [
    "## Minha solução"
   ]
  },
  {
   "cell_type": "code",
   "execution_count": 1,
   "metadata": {},
   "outputs": [],
   "source": [
    "def comuns(a,b,c):\n",
    "    pass"
   ]
  },
  {
   "cell_type": "code",
   "execution_count": 2,
   "metadata": {},
   "outputs": [
    {
     "name": "stdout",
     "output_type": "stream",
     "text": [
      "2\n",
      "0\n"
     ]
    }
   ],
   "source": [
    "print(comuns([1,2,3],[5,3,2],[7,3,2])) # expects 5\n",
    "print(comuns([1,2,2,3],[5,3,2,2],[7,3,2,2])) # expects 7\n",
    "print(comuns([1],[1],[1])) # expects 1\n",
    "print(comuns([1],[1],[2])) # expects 0"
   ]
  }
 ],
 "metadata": {
  "kernelspec": {
   "display_name": "Python 3",
   "language": "python",
   "name": "python3"
  },
  "language_info": {
   "codemirror_mode": {
    "name": "ipython",
    "version": 3
   },
   "file_extension": ".py",
   "mimetype": "text/x-python",
   "name": "python",
   "nbconvert_exporter": "python",
   "pygments_lexer": "ipython3",
   "version": "3.11.4"
  }
 },
 "nbformat": 4,
 "nbformat_minor": 2
}
