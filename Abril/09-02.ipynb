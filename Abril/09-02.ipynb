{
 "cells": [
  {
   "cell_type": "markdown",
   "metadata": {},
   "source": [
    "# Ano bissexto (com restrições)\n",
    "Data: 08/04/2024. De: Codewars. Link para kata.\n",
    "\n",
    "# Descrição\n",
    "Você recebe um ano n (1583 <= n < 10000). Você precisa criar uma função que retorne True se n for um ano bissexto e False caso contrário.\n",
    "\n",
    "Restrições\n",
    "\n",
    "Seu código não deve conter:\n",
    "\n",
    "def\n",
    "if\n",
    "eval ou exec\n",
    "return\n",
    "import"
   ]
  },
  {
   "cell_type": "markdown",
   "metadata": {},
   "source": [
    "## Minha Solução"
   ]
  },
  {
   "cell_type": "code",
   "execution_count": null,
   "metadata": {},
   "outputs": [],
   "source": [
    "bissexto = None"
   ]
  },
  {
   "cell_type": "code",
   "execution_count": null,
   "metadata": {},
   "outputs": [],
   "source": [
    "print(bissexto(2000)) # expects True\n",
    "print(bissexto(1692)) # expects True\n",
    "print(bissexto(1731)) # expects False\n",
    "print(bissexto(1987)) # expects False\n",
    "print(bissexto(2001)) # expects False\n",
    "print(bissexto(2014)) # expects False\n",
    "print(bissexto(2012)) # expects True"
   ]
  }
 ],
 "metadata": {
  "language_info": {
   "name": "python"
  }
 },
 "nbformat": 4,
 "nbformat_minor": 2
}
