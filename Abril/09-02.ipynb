{
 "cells": [
  {
   "cell_type": "markdown",
   "metadata": {},
   "source": [
    "# Ano bissexto (com restrições)\n",
    "Data: 08/04/2024. De: Codewars. Link para kata.\n",
    "\n",
    "# Descrição\n",
    "Você recebe um ano n (1583 <= n < 10000). Você precisa criar uma função que retorne True se n for um ano bissexto e False caso contrário.\n",
    "\n",
    "Restrições\n",
    "\n",
    "Seu código não deve conter:\n",
    "\n",
    "def\n",
    "if\n",
    "eval ou exec\n",
    "return\n",
    "import"
   ]
  },
  {
   "cell_type": "markdown",
   "metadata": {},
   "source": [
    "## Minha Solução"
   ]
  },
  {
   "cell_type": "code",
   "execution_count": 9,
   "metadata": {},
   "outputs": [],
   "source": [
    "bissexto = lambda ano : (ano % 4 == 0 and ano % 100 != 0) or ano % 400 == 0"
   ]
  },
  {
   "cell_type": "code",
   "execution_count": 10,
   "metadata": {},
   "outputs": [
    {
     "name": "stdout",
     "output_type": "stream",
     "text": [
      "True\n",
      "True\n",
      "False\n",
      "False\n",
      "False\n",
      "False\n",
      "True\n"
     ]
    }
   ],
   "source": [
    "print(bissexto(2000)) # expects True\n",
    "print(bissexto(1692)) # expects True\n",
    "print(bissexto(1731)) # expects False\n",
    "print(bissexto(1987)) # expects False\n",
    "print(bissexto(2001)) # expects False\n",
    "print(bissexto(2014)) # expects False\n",
    "print(bissexto(2012)) # expects True"
   ]
  },
  {
   "cell_type": "code",
   "execution_count": null,
   "metadata": {},
   "outputs": [],
   "source": []
  }
 ],
 "metadata": {
  "kernelspec": {
   "display_name": "Python 3",
   "language": "python",
   "name": "python3"
  },
  "language_info": {
   "codemirror_mode": {
    "name": "ipython",
    "version": 3
   },
   "file_extension": ".py",
   "mimetype": "text/x-python",
   "name": "python",
   "nbconvert_exporter": "python",
   "pygments_lexer": "ipython3",
   "version": "3.11.4"
  }
 },
 "nbformat": 4,
 "nbformat_minor": 2
}
