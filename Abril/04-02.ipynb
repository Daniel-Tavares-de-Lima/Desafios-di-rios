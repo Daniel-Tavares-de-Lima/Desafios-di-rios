{
 "cells": [
  {
   "cell_type": "markdown",
   "metadata": {},
   "source": [
    "# Validação de IP\n",
    "Data: 20/03/2024. De: Codewars. Link para o kata.\n",
    "\n",
    "## Descrição\n",
    "Escreva um algoritmo que identificará endereços IPv4 válidos no formato decimal-ponto. Os IPs devem ser considerados válidos se consistirem de quatro octetos, com valores entre 0 e 255, inclusive. Exemplos de entradas válidas:\n",
    "\n",
    "# Exemplos de entradas válidas:\n",
    "\n",
    "1.2.3.4\n",
    "123.45.67.89\n",
    "Exemplos de entradas inválidas:\n",
    "\n",
    "1.2.3\n",
    "1.2.3.4.5\n",
    "123.456.78.90\n",
    "123.045.067.089\n",
    "Notas\n",
    "\n",
    "Zeros à esquerda (por exemplo, 01.02.03.04) são considerados inválidos\n",
    "As entradas estão garantidas de serem uma única string"
   ]
  },
  {
   "cell_type": "code",
   "execution_count": 6,
   "metadata": {},
   "outputs": [],
   "source": [
    "def validaIP(strng):\n",
    "    octetos = strng.split(\".\")\n",
    "\n",
    "    if len(octetos) != 4:\n",
    "        return False\n",
    "    \n",
    "    #Verifica cada octeto\n",
    "    for oct in octetos:\n",
    "        #Verifica se é um número inteiro válido\n",
    "        if not oct.isdigit():\n",
    "            return False\n",
    "        \n",
    "        # Verifica se está dentro do intervalo válido (0-255)\n",
    "        valor = int(oct)\n",
    "        if valor < 0 or valor > 255:\n",
    "            return False\n",
    "        \n",
    "        # Verifica se não começa com zero, porém aceita se for exatamento 0\n",
    "        if len(oct) > 1 and oct[0] == \"0\":\n",
    "            return False\n",
    "        \n",
    "    \n",
    "    return True\n",
    "\n",
    " "
   ]
  },
  {
   "cell_type": "code",
   "execution_count": 7,
   "metadata": {},
   "outputs": [
    {
     "name": "stdout",
     "output_type": "stream",
     "text": [
      "True\n",
      "False\n",
      "False\n",
      "False\n",
      "False\n",
      "False\n",
      "False\n",
      "False\n",
      "True\n",
      "True\n",
      "True\n",
      "False\n"
     ]
    }
   ],
   "source": [
    "print(validaIP('12.255.56.1')) # expects      True\n",
    "print(validaIP('')) # expects                False\n",
    "print(validaIP('abc.def.ghi.jkl')) # expects False\n",
    "print(validaIP('123.456.789.0')) # expects   False\n",
    "print(validaIP('12.34.56')) # expects        False\n",
    "print(validaIP('12.34.56 .1')) # expects     False\n",
    "print(validaIP('12.34.56.-1')) # expects     False\n",
    "print(validaIP('123.045.067.089')) # expects False\n",
    "print(validaIP('127.1.1.0')) # expects        True\n",
    "print(validaIP('0.0.0.0')) # expects          True\n",
    "print(validaIP('0.34.82.53')) # expects       True\n",
    "print(validaIP('192.168.1.300')) # expects   False"
   ]
  },
  {
   "cell_type": "code",
   "execution_count": null,
   "metadata": {},
   "outputs": [],
   "source": []
  }
 ],
 "metadata": {
  "kernelspec": {
   "display_name": "Python 3",
   "language": "python",
   "name": "python3"
  },
  "language_info": {
   "codemirror_mode": {
    "name": "ipython",
    "version": 3
   },
   "file_extension": ".py",
   "mimetype": "text/x-python",
   "name": "python",
   "nbconvert_exporter": "python",
   "pygments_lexer": "ipython3",
   "version": "3.11.4"
  }
 },
 "nbformat": 4,
 "nbformat_minor": 2
}
