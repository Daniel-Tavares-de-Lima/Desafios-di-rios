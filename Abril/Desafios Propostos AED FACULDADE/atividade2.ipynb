{
 "cells": [
  {
   "cell_type": "markdown",
   "metadata": {},
   "source": [
    "## Questão 1"
   ]
  },
  {
   "cell_type": "code",
   "execution_count": null,
   "metadata": {},
   "outputs": [],
   "source": [
    "#Pedir o ano\n",
    "anoCarro = int(input(\"Digite o ano do seu Carro\"))\n",
    " \n",
    "#Pedir o Preço\n",
    "precoCarro = int(input(\"Digite o preço do seu Carro\"))\n",
    " \n",
    "# Se o ano do carro for maior ou igual a 1990\n",
    "if anoCarro >= 1990:\n",
    "    imposto = precoCarro * 0.015\n",
    "# Caso contrário\n",
    "else:\n",
    "    imposto = precoCarro * 0.01\n",
    " \n",
    "print(\"O imposto a ser pago é de: \", imposto)"
   ]
  },
  {
   "cell_type": "markdown",
   "metadata": {},
   "source": [
    "## Questão 2"
   ]
  },
  {
   "cell_type": "code",
   "execution_count": null,
   "metadata": {},
   "outputs": [],
   "source": [
    "# Salário\n",
    "salario = int(input(\"Digite o valor do seu salário\"))\n",
    "#Cargo\n",
    "codCargo = int(input(\"Digite o código do seu cargo\"))\n",
    " \n",
    "## Verificação do Cargo\n",
    "if codCargo == 101:\n",
    "    aumento = salario * 0.1\n",
    "   \n",
    "elif codCargo == 102:\n",
    "    aumento = salario * 0.2\n",
    "   \n",
    "elif codCargo == 103:\n",
    "    aumento = salario * 0.3\n",
    "     \n",
    "else:\n",
    "    aumento = salario * 0.4\n",
    "   \n",
    "#Soma o salário com o aumento\n",
    "salarioNovo = salario + aumento\n",
    " \n",
    "#Diferença entre o salário novo e o salário antigo\n",
    "diferenca = salarioNovo - salario\n",
    " \n",
    "print(\"Seu salário era\", salario, \"seu novo salário agora está\", salarioNovo, \"a diferença entre os dois é\", diferenca)"
   ]
  }
 ],
 "metadata": {
  "language_info": {
   "name": "python"
  }
 },
 "nbformat": 4,
 "nbformat_minor": 2
}
