{
 "cells": [
  {
   "cell_type": "markdown",
   "metadata": {},
   "source": [
    "### 1- Faça um programa que peça 2 números inteiros e um número real. Calcule e mostre:\n",
    "\n",
    "- O produto do dobro do primeiro com a metade do segundo\n",
    "- A soma do triplo do primeiro com o Terceiro. O Terceiro elevado ao cubo."
   ]
  },
  {
   "cell_type": "code",
   "execution_count": 3,
   "metadata": {},
   "outputs": [
    {
     "name": "stdout",
     "output_type": "stream",
     "text": [
      "A multiplicação do dobro de  785  com a metade de  423  é  332055.0\n",
      "A soma do triplo de  785  com o  4562.0  com  4562.0 é 94943639245.0\n"
     ]
    }
   ],
   "source": [
    "## Perguntas\n",
    "numeroInteiro1 = int(input(\"Digite um número inteiro: \"))\n",
    "numeroInteiro2 = int(input(\"Digite outro número inteiro\"))\n",
    "numeroReal = float(input(\"Digite um número Real: \"))\n",
    "\n",
    "#Operações\n",
    "#O produto do dobro do primeiro com a metade do segundo\n",
    "produto = (numeroInteiro1 * 2) * (numeroInteiro2 / 2)\n",
    "\n",
    "# A soma do triplo do primeiro com o Terceiro. o Terceiro elevado ao Cubo\n",
    "soma = ((numeroInteiro1 * 3) + numeroReal) + (numeroReal **3)\n",
    "\n",
    "#Saídas\n",
    "print(\"A multiplicação do dobro de \", numeroInteiro1, \" com a metade de \", numeroInteiro2, \" é \", produto)\n",
    "print(\"A soma do triplo de \", numeroInteiro1, \" com o \", numeroReal, \" com \",numeroReal, \"é\", soma)\n"
   ]
  },
  {
   "cell_type": "markdown",
   "metadata": {},
   "source": [
    "### 2 - Faça um programa que peça dois números e imprima o maior deles."
   ]
  },
  {
   "cell_type": "code",
   "execution_count": 49,
   "metadata": {},
   "outputs": [
    {
     "name": "stdout",
     "output_type": "stream",
     "text": [
      "Os números são iguais. 5\n"
     ]
    }
   ],
   "source": [
    "#Perguntas\n",
    "numero1 = int(input(\"Digite um número\"))\n",
    "numero2 = int(input(\"Digite outro número\"))\n",
    "\n",
    "# Verifica se o primeiro número é maior\n",
    "if numero1 > numero2:\n",
    "    print(\"O número \", numero1, \" é maior\")\n",
    "\n",
    "# Verifica se o segundo número é maior\n",
    "elif numero2 > numero1:\n",
    "    print(\"O número \", numero2, \" é maior\")\n",
    "\n",
    "# Caso nenhuma das condições seja verdadeira, significa que os números são iguais.\n",
    "else:\n",
    "    print(\"Os números são iguais.\", numero1)"
   ]
  },
  {
   "cell_type": "markdown",
   "metadata": {},
   "source": [
    "### 3 - Faça um programa que peça um valor e mostre na tela se o valor é positivo ou negativo."
   ]
  },
  {
   "cell_type": "code",
   "execution_count": 24,
   "metadata": {},
   "outputs": [
    {
     "name": "stdout",
     "output_type": "stream",
     "text": [
      "O número  5  é positivo.\n"
     ]
    }
   ],
   "source": [
    "# Perguntas\n",
    "numero = int(input(\"Digite um número\"))\n",
    "\n",
    "# Verifica se o número é maior que 0, se for o número é positivo.\n",
    "if numero > 0:\n",
    "    print(\"O número \", numero, \" é positivo.\")\n",
    "\n",
    "#Verifica se o número é menor que 0, se for o número é negativo.\n",
    "elif numero < 0:\n",
    "    print(\"O número \", numero, \" é negativo.\")\n",
    "\n",
    "# Caso nenhuma das condições for verdadeira, significa que o número é 0.\n",
    "else:\n",
    "    print(0)"
   ]
  },
  {
   "cell_type": "markdown",
   "metadata": {},
   "source": [
    "### 4 Faça um programa para a leitura de duas notas parciais de um aluno. O programa deve calcular a média alcançada por aluno e apresentar o resultado \"Aprovado\" ou \"Reprovado\". Considere que a escola adota média7.00."
   ]
  },
  {
   "cell_type": "code",
   "execution_count": 34,
   "metadata": {},
   "outputs": [
    {
     "name": "stdout",
     "output_type": "stream",
     "text": [
      "Sua média é: 10.0 . Você foi Aprovado!\n",
      "Media da escola: 7.00\n"
     ]
    }
   ],
   "source": [
    "#Perguntas\n",
    "nota1 = float(input(\"Digite sua primeira nota\"))\n",
    "nota2 = float(input(\"Digite sua segunda nota\"))\n",
    "\n",
    "# Se as notas forem menores que 0 ou maiores que 10, essa nota é considera inválida.\n",
    "if (nota1 < 0 or nota1 > 10) or (nota2 < 0 or nota2 > 10):\n",
    "    print(\"Nota inválida!\")\n",
    "    \n",
    "# Se forem válidas\n",
    "else: \n",
    "    #É atribuído a variável média a soma da primeira nota com a segunda divido por 2\n",
    "    media = (nota1 + nota2) / 2\n",
    "\n",
    "    #Se média for maior ou igual a 7.00, aluno Aprovado.\n",
    "    if media >= 7.00:\n",
    "        print(\"Sua média é:\", media, \". Você foi Aprovado!\")\n",
    "\n",
    "    # Se média for menor que 7.00, aluno Reprovado.\n",
    "    else:\n",
    "        print(\"Sua média é:\", media, \". Você foi Reprovado\")\n",
    "\n",
    "    print(\"Media da escola: 7.00\")"
   ]
  },
  {
   "cell_type": "markdown",
   "metadata": {},
   "source": [
    "### 5- Faça um programa que leia três números e mostre o maior deles."
   ]
  },
  {
   "cell_type": "code",
   "execution_count": 45,
   "metadata": {},
   "outputs": [
    {
     "name": "stdout",
     "output_type": "stream",
     "text": [
      "Os números são iguais. 5\n"
     ]
    }
   ],
   "source": [
    "# Perguntas\n",
    "numero1 = int(input(\"Digite o primeiro número\"))\n",
    "numero2 = int(input(\"Digite o segundo número\"))\n",
    "numero3 = int(input(\"Digite o terceiro número\"))\n",
    "\n",
    "\n",
    "# Verifica se o primeiro número digitado é maior\n",
    "if (numero1 > numero2) and (numero1 > numero3):\n",
    "    print(\"O número \", numero1, \" é maior\")\n",
    "\n",
    "# Verifica se o segundo número digitado é maior\n",
    "elif (numero2 > numero1) and (numero2 > numero3):\n",
    "    print(\"O número \", numero2, \" é maior\")\n",
    "\n",
    "# Verifica se o terceiro número digitado é maior\n",
    "elif (numero3 > numero1) and (numero3 > numero2):\n",
    "    print(\"O número \", numero3, \" é maior\")\n",
    "\n",
    "# Caso nenhuma das condições seja verdadeira, significa que os números são iguais.\n",
    "else:\n",
    "    print(\"Os números são iguais.\", numero1)"
   ]
  },
  {
   "cell_type": "code",
   "execution_count": null,
   "metadata": {},
   "outputs": [],
   "source": []
  }
 ],
 "metadata": {
  "kernelspec": {
   "display_name": "Python 3",
   "language": "python",
   "name": "python3"
  },
  "language_info": {
   "codemirror_mode": {
    "name": "ipython",
    "version": 3
   },
   "file_extension": ".py",
   "mimetype": "text/x-python",
   "name": "python",
   "nbconvert_exporter": "python",
   "pygments_lexer": "ipython3",
   "version": "3.11.4"
  }
 },
 "nbformat": 4,
 "nbformat_minor": 2
}
