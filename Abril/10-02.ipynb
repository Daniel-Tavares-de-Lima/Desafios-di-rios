{
 "cells": [
  {
   "cell_type": "markdown",
   "metadata": {},
   "source": [
    "# Os números estão em ordem?\n",
    "Data: 09/04/2024. De: Codewars. Link para <a href=\"https://www.codewars.com/kata/56b7f2f3f18876033f000307/train/python\">kata.</a>\n",
    "\n",
    "## Descrição\n",
    "Nesta Kata, sua função recebe uma matriz de inteiros como entrada. Sua tarefa é determinar se os números estão em ordem crescente. Uma matriz é considerada em ordem crescente se não houver dois inteiros adjacentes onde o inteiro da esquerda excede o inteiro da direita em valor.\n",
    "\n",
    "Para os propósitos desta Kata, você pode assumir que todas as entradas são válidas, ou seja, matrizes contendo apenas inteiros.\n",
    "\n",
    "Observe que uma matriz de 0 ou 1 inteiro(s) é automaticamente considerada ordenada em ordem crescente, pois todos os pares adjacentes de inteiros (zero) satisfazem a condição de que o inteiro da esquerda não excede o inteiro da direita em valor.\n",
    "\n",
    "Por exemplo:\n",
    "\n",
    "in_asc_order([1,2,4,7,19]) # retorna True\n",
    "in_asc_order([1,2,3,4,5]) # retorna True\n",
    "in_asc_order([1,6,10,18,2,4,20]) # retorna False\n",
    "in_asc_order([9,8,7,6,5,4,3,2,1]) # retorna False porque os números estão em ordem DESCENDENTE\n",
    "N.B. Se sua solução passar em todos os testes fixos, mas falhar nos testes aleatórios, verifique se você não está mutando a matriz de entrada."
   ]
  },
  {
   "cell_type": "code",
   "execution_count": 2,
   "metadata": {},
   "outputs": [],
   "source": [
    "def ordem(arr):\n",
    "    pass"
   ]
  },
  {
   "cell_type": "code",
   "execution_count": 3,
   "metadata": {},
   "outputs": [
    {
     "name": "stdout",
     "output_type": "stream",
     "text": [
      "None\n",
      "None\n",
      "None\n",
      "None\n",
      "None\n",
      "None\n"
     ]
    }
   ],
   "source": [
    "# Array of 2 integers\n",
    "arr = [1, 2]\n",
    "print(ordem(arr)) # expects True\n",
    "\n",
    "arr = [2, 1]\n",
    "print(ordem(arr)) # expects False\n",
    "\n",
    "# Array of 3 integers\n",
    "arr = [1, 2, 3]\n",
    "print(ordem(arr)) # expects True\n",
    "\n",
    "arr = [1, 3, 2]\n",
    "print(ordem(arr)) # expects False\n",
    "\n",
    "# More complex cases\n",
    "arr = [1,4,13,97,508,1047,20058]\n",
    "print(ordem(arr)) # expects True\n",
    "\n",
    "arr = [56,98,123,67,742,1024,32,90969]\n",
    "print(ordem(arr)) # expects False"
   ]
  },
  {
   "cell_type": "code",
   "execution_count": null,
   "metadata": {},
   "outputs": [],
   "source": []
  }
 ],
 "metadata": {
  "kernelspec": {
   "display_name": "Python 3",
   "language": "python",
   "name": "python3"
  },
  "language_info": {
   "codemirror_mode": {
    "name": "ipython",
    "version": 3
   },
   "file_extension": ".py",
   "mimetype": "text/x-python",
   "name": "python",
   "nbconvert_exporter": "python",
   "pygments_lexer": "ipython3",
   "version": "3.11.4"
  }
 },
 "nbformat": 4,
 "nbformat_minor": 2
}
