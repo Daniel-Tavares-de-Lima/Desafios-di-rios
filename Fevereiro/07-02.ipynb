{
 "cells": [
  {
   "cell_type": "markdown",
   "metadata": {},
   "source": [
    "## Santander Coders Exercises from Class #2 Unit #2\n",
    "\n",
    "Data: 07/02/2024. De: Ada Tech. Language: Portuguese."
   ]
  },
  {
   "cell_type": "code",
   "execution_count": 5,
   "metadata": {},
   "outputs": [],
   "source": [
    "import numpy as np\n",
    "import random"
   ]
  },
  {
   "cell_type": "markdown",
   "metadata": {},
   "source": [
    "## Exercícios \n",
    "Utilize comprehension para gerar a lista de todos os números inteiros entre 0 e 19. Converta a lista em um numpy array bidimensional(matriz) com 4 linhas e 5 colunas."
   ]
  },
  {
   "cell_type": "code",
   "execution_count": 6,
   "metadata": {},
   "outputs": [
    {
     "name": "stdout",
     "output_type": "stream",
     "text": [
      "Array bidimensional: \n",
      "[[ 0  1  2  3  4]\n",
      " [ 5  6  7  8  9]\n",
      " [10 11 12 13 14]\n",
      " [15 16 17 18 19]]\n"
     ]
    }
   ],
   "source": [
    "listaNumeros = [num for num in range(20)]\n",
    "\n",
    "arrayBidimensional = np.array(listaNumeros).reshape(4,5) ##USANDO A FUNÇÃI Reshape para reorganizar as dimensões de 4 linhas e 5 colunas como foi pedido\n",
    "\n",
    "print(\"Array bidimensional: \")\n",
    "print(arrayBidimensional)\n",
    "\n"
   ]
  },
  {
   "cell_type": "markdown",
   "metadata": {},
   "source": [
    "Construa um array unidimensional com 30 números inteiros escolhidos de forma randômica no intervalo entre 0 e 20. Reformate o array para que se torne uma matriz A com 5 linhas e 6 colunas."
   ]
  },
  {
   "cell_type": "code",
   "execution_count": 28,
   "metadata": {},
   "outputs": [
    {
     "name": "stdout",
     "output_type": "stream",
     "text": [
      "Array Unidimensional\n",
      "[6, 37, 38, 24, 44, 34, 4, 45, 10, 14, 12, 17, 40, 15, 22, 49, 16, 47, 29, 8, 27, 31, 13, 30, 7, 42, 43, 23, 20, 35]\n",
      "\n",
      "\n",
      "Array Unidimensaional\n",
      "[[ 6 37 38 24 44 34]\n",
      " [ 4 45 10 14 12 17]\n",
      " [40 15 22 49 16 47]\n",
      " [29  8 27 31 13 30]\n",
      " [ 7 42 43 23 20 35]]\n"
     ]
    }
   ],
   "source": [
    "\n",
    "numeros = random.sample(range(1,50), 30)\n",
    "\n",
    "print(\"Array Unidimensional\")\n",
    "print(numeros)\n",
    "\n",
    "\n",
    "matrizA = np.array(numeros).reshape(5,6)\n",
    "print(\"\\n\\nArray Unidimensaional\")\n",
    "print(matrizA)\n",
    "\n"
   ]
  },
  {
   "cell_type": "markdown",
   "metadata": {},
   "source": [
    "Construa um array A bidimensional 5x6 com 30 números inteiros escolhidos de forma randômica no intervalo entre 0 e 20.\n",
    "\n",
    "    faça uma cópia do array A criado, chamando a cópia de Ac\n",
    "    Substitua todos os elementos do array A que sejam maiores que 10 pelo valor -1\n",
    "    Substitua todos os elementos do array Ac que sejam maiores que 7 e menores que 15 pelo valor -1\n",
    "    Dica: Gere máscaras booleanas para realizar as modificações nos arrays."
   ]
  },
  {
   "cell_type": "code",
   "execution_count": 37,
   "metadata": {},
   "outputs": [
    {
     "name": "stdout",
     "output_type": "stream",
     "text": [
      "Array A:\n",
      "[[ 9  7  4 -1 -1  5]\n",
      " [ 6 -1 -1  5 -1 10]\n",
      " [-1 -1 -1 -1  5  6]\n",
      " [ 0 -1 -1 -1  4  3]\n",
      " [ 6 -1  7 -1  2 -1]]\n",
      "\n",
      "\n",
      "Array Ac:\n",
      "[[-1  7  4 16 15  5]\n",
      " [ 6 17 19  5 16 -1]\n",
      " [16 15 17 17  5  6]\n",
      " [ 0 -1 20 -1  4  3]\n",
      " [ 6 -1  7 19  2 -1]]\n"
     ]
    }
   ],
   "source": [
    "array_A = np.random.randint(0,21, size=(5,6))\n",
    "\n",
    "array_Ac = array_A.copy()\n",
    "\n",
    "array_A[array_A > 10] = -1\n",
    "array_Ac[(array_Ac > 7) & (array_Ac < 15)] = -1\n",
    "\n",
    "print(\"Array A:\")\n",
    "print(array_A)\n",
    "print(\"\\n\\nArray Ac:\")\n",
    "print(array_Ac)"
   ]
  },
  {
   "cell_type": "markdown",
   "metadata": {},
   "source": [
    "Construa um array A com 20 linhas e 10 colunas onde os elementos são os números interios de 1 até 200.\n",
    "\n",
    "    Crie uma view de A chamada A_lpares contendo apenas as linhas de A com índice par.\n",
    "    Crie uma view de A chamada A_lpares_cimpares contendo as linhas A com índice par e colunas com índice ímpar."
   ]
  },
  {
   "cell_type": "code",
   "execution_count": 38,
   "metadata": {},
   "outputs": [
    {
     "name": "stdout",
     "output_type": "stream",
     "text": [
      "Array A:\n",
      "[[  1   2   3   4   5   6   7   8   9  10]\n",
      " [ 11  12  13  14  15  16  17  18  19  20]\n",
      " [ 21  22  23  24  25  26  27  28  29  30]\n",
      " [ 31  32  33  34  35  36  37  38  39  40]\n",
      " [ 41  42  43  44  45  46  47  48  49  50]\n",
      " [ 51  52  53  54  55  56  57  58  59  60]\n",
      " [ 61  62  63  64  65  66  67  68  69  70]\n",
      " [ 71  72  73  74  75  76  77  78  79  80]\n",
      " [ 81  82  83  84  85  86  87  88  89  90]\n",
      " [ 91  92  93  94  95  96  97  98  99 100]\n",
      " [101 102 103 104 105 106 107 108 109 110]\n",
      " [111 112 113 114 115 116 117 118 119 120]\n",
      " [121 122 123 124 125 126 127 128 129 130]\n",
      " [131 132 133 134 135 136 137 138 139 140]\n",
      " [141 142 143 144 145 146 147 148 149 150]\n",
      " [151 152 153 154 155 156 157 158 159 160]\n",
      " [161 162 163 164 165 166 167 168 169 170]\n",
      " [171 172 173 174 175 176 177 178 179 180]\n",
      " [181 182 183 184 185 186 187 188 189 190]\n",
      " [191 192 193 194 195 196 197 198 199 200]]\n",
      "\n",
      "\n",
      "View A_lpares:\n",
      "[[  1   2   3   4   5   6   7   8   9  10]\n",
      " [ 21  22  23  24  25  26  27  28  29  30]\n",
      " [ 41  42  43  44  45  46  47  48  49  50]\n",
      " [ 61  62  63  64  65  66  67  68  69  70]\n",
      " [ 81  82  83  84  85  86  87  88  89  90]\n",
      " [101 102 103 104 105 106 107 108 109 110]\n",
      " [121 122 123 124 125 126 127 128 129 130]\n",
      " [141 142 143 144 145 146 147 148 149 150]\n",
      " [161 162 163 164 165 166 167 168 169 170]\n",
      " [181 182 183 184 185 186 187 188 189 190]]\n",
      "\n",
      "\n",
      "View A_lpares_cimpares:\n",
      "[[  2   4   6   8  10]\n",
      " [ 22  24  26  28  30]\n",
      " [ 42  44  46  48  50]\n",
      " [ 62  64  66  68  70]\n",
      " [ 82  84  86  88  90]\n",
      " [102 104 106 108 110]\n",
      " [122 124 126 128 130]\n",
      " [142 144 146 148 150]\n",
      " [162 164 166 168 170]\n",
      " [182 184 186 188 190]]\n"
     ]
    }
   ],
   "source": [
    "array_A2 = np.arange(1,201).reshape(20,10)\n",
    "\n",
    "A_lpares = array_A2[::2] ##INDICE PAR\n",
    "A_lpares_cimpares = array_A2[::2, 1::2] ##Linhas com indice par e colunas com indice impar\n",
    "\n",
    "print(\"Array A:\")\n",
    "print(array_A2)\n",
    "print(\"\\n\\nView A_lpares:\")\n",
    "print(A_lpares)\n",
    "print(\"\\n\\nView A_lpares_cimpares:\")\n",
    "print(A_lpares_cimpares)\n"
   ]
  },
  {
   "cell_type": "markdown",
   "metadata": {},
   "source": [
    "Substitua os elememtos do array A do exercício anterior por -1 quando pelo menos um dos índices do elemento é par.\n",
    "\n",
    "Dica: Construa uma máscara booleana"
   ]
  },
  {
   "cell_type": "code",
   "execution_count": 43,
   "metadata": {},
   "outputs": [
    {
     "name": "stdout",
     "output_type": "stream",
     "text": [
      "Array A:\n",
      "[[ -1  -1  -1  -1  -1  -1  -1  -1  -1  -1]\n",
      " [ -1  12  -1  14  -1  16  -1  18  -1  20]\n",
      " [ -1  -1  -1  -1  -1  -1  -1  -1  -1  -1]\n",
      " [ -1  32  -1  34  -1  36  -1  38  -1  40]\n",
      " [ -1  -1  -1  -1  -1  -1  -1  -1  -1  -1]\n",
      " [ -1  52  -1  54  -1  56  -1  58  -1  60]\n",
      " [ -1  -1  -1  -1  -1  -1  -1  -1  -1  -1]\n",
      " [ -1  72  -1  74  -1  76  -1  78  -1  80]\n",
      " [ -1  -1  -1  -1  -1  -1  -1  -1  -1  -1]\n",
      " [ -1  92  -1  94  -1  96  -1  98  -1 100]\n",
      " [ -1  -1  -1  -1  -1  -1  -1  -1  -1  -1]\n",
      " [ -1 112  -1 114  -1 116  -1 118  -1 120]\n",
      " [ -1  -1  -1  -1  -1  -1  -1  -1  -1  -1]\n",
      " [ -1 132  -1 134  -1 136  -1 138  -1 140]\n",
      " [ -1  -1  -1  -1  -1  -1  -1  -1  -1  -1]\n",
      " [ -1 152  -1 154  -1 156  -1 158  -1 160]\n",
      " [ -1  -1  -1  -1  -1  -1  -1  -1  -1  -1]\n",
      " [ -1 172  -1 174  -1 176  -1 178  -1 180]\n",
      " [ -1  -1  -1  -1  -1  -1  -1  -1  -1  -1]\n",
      " [ -1 192  -1 194  -1 196  -1 198  -1 200]]\n"
     ]
    }
   ],
   "source": [
    "array_A3 = np.arange(1,201).reshape(20,10)\n",
    "\n",
    "mascaraLinhas = np.arange(array_A3.shape[0]) % 2 == 0\n",
    "\n",
    "mascaraColunas = np.arange(array_A3.shape[1]) % 2 == 0\n",
    "\n",
    "mascara = mascaraLinhas[:, np.newaxis] | mascaraColunas\n",
    "\n",
    "\n",
    "array_A3[mascara] = -1\n",
    "\n",
    "print(\"Array A:\")\n",
    "print(array_A3)"
   ]
  },
  {
   "cell_type": "markdown",
   "metadata": {},
   "source": [
    "Construa uma função chamada ordena_linhas que recebe uma matriz como parâmetro e troque as linhas de posição para que fiquem ordenadas de acordo com a primeira coluna. Por exemplo:\n",
    "\n",
    "A = np.array([[20, 26, 12], \n",
    "              [8, 3, 26], \n",
    "              [3, 10, 4]])\n",
    "print(ordena_linhas(A))\n",
    "deve resultar em\n",
    "\n",
    "[[ 3 10  4]\n",
    " [ 8  3 26]\n",
    " [20 26 12]]"
   ]
  },
  {
   "cell_type": "code",
   "execution_count": 44,
   "metadata": {},
   "outputs": [
    {
     "name": "stdout",
     "output_type": "stream",
     "text": [
      "[[ 3 10  4]\n",
      " [ 8  3 26]\n",
      " [20 26 12]]\n"
     ]
    }
   ],
   "source": [
    "def ordenarLinhas(matriz):\n",
    "    indicesOrdenados = np.argsort(matriz[:,0])\n",
    "    matrizOrdenadas = matriz[indicesOrdenados]\n",
    "    return matrizOrdenadas\n",
    "\n",
    "A = np.array([[20,26,12],\n",
    "              [8,3,26],\n",
    "              [3,10,4]])\n",
    "\n",
    "print(ordenarLinhas(A))"
   ]
  }
 ],
 "metadata": {
  "kernelspec": {
   "display_name": "Python 3",
   "language": "python",
   "name": "python3"
  },
  "language_info": {
   "codemirror_mode": {
    "name": "ipython",
    "version": 3
   },
   "file_extension": ".py",
   "mimetype": "text/x-python",
   "name": "python",
   "nbconvert_exporter": "python",
   "pygments_lexer": "ipython3",
   "version": "3.11.4"
  }
 },
 "nbformat": 4,
 "nbformat_minor": 2
}
