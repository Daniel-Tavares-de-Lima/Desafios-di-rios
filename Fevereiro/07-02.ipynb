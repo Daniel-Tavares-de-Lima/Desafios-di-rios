{
 "cells": [
  {
   "cell_type": "markdown",
   "metadata": {},
   "source": [
    "## Santander Coders Exercises from Class #2 Unit #2\n",
    "\n",
    "Data: 07/02/2024. De: Ada Tech. Language: Portuguese."
   ]
  },
  {
   "cell_type": "code",
   "execution_count": 5,
   "metadata": {},
   "outputs": [],
   "source": [
    "import numpy as np\n",
    "import random"
   ]
  },
  {
   "cell_type": "markdown",
   "metadata": {},
   "source": [
    "## Exercícios \n",
    "Utilize comprehension para gerar a lista de todos os números inteiros entre 0 e 19. Converta a lista em um numpy array bidimensional(matriz) com 4 linhas e 5 colunas."
   ]
  },
  {
   "cell_type": "code",
   "execution_count": 6,
   "metadata": {},
   "outputs": [
    {
     "name": "stdout",
     "output_type": "stream",
     "text": [
      "Array bidimensional: \n",
      "[[ 0  1  2  3  4]\n",
      " [ 5  6  7  8  9]\n",
      " [10 11 12 13 14]\n",
      " [15 16 17 18 19]]\n"
     ]
    }
   ],
   "source": [
    "listaNumeros = [num for num in range(20)]\n",
    "\n",
    "arrayBidimensional = np.array(listaNumeros).reshape(4,5) ##USANDO A FUNÇÃI Reshape para reorganizar as dimensões de 4 linhas e 5 colunas como foi pedido\n",
    "\n",
    "print(\"Array bidimensional: \")\n",
    "print(arrayBidimensional)\n",
    "\n"
   ]
  },
  {
   "cell_type": "markdown",
   "metadata": {},
   "source": [
    "Construa um array unidimensional com 30 números inteiros escolhidos de forma randômica no intervalo entre 0 e 20. Reformate o array para que se torne uma matriz A com 5 linhas e 6 colunas."
   ]
  },
  {
   "cell_type": "code",
   "execution_count": 28,
   "metadata": {},
   "outputs": [
    {
     "name": "stdout",
     "output_type": "stream",
     "text": [
      "Array Unidimensional\n",
      "[6, 37, 38, 24, 44, 34, 4, 45, 10, 14, 12, 17, 40, 15, 22, 49, 16, 47, 29, 8, 27, 31, 13, 30, 7, 42, 43, 23, 20, 35]\n",
      "\n",
      "\n",
      "Array Unidimensaional\n",
      "[[ 6 37 38 24 44 34]\n",
      " [ 4 45 10 14 12 17]\n",
      " [40 15 22 49 16 47]\n",
      " [29  8 27 31 13 30]\n",
      " [ 7 42 43 23 20 35]]\n"
     ]
    }
   ],
   "source": [
    "\n",
    "numeros = random.sample(range(1,50), 30)\n",
    "\n",
    "print(\"Array Unidimensional\")\n",
    "print(numeros)\n",
    "\n",
    "\n",
    "matrizA = np.array(numeros).reshape(5,6)\n",
    "print(\"\\n\\nArray Unidimensaional\")\n",
    "print(matrizA)\n",
    "\n"
   ]
  },
  {
   "cell_type": "markdown",
   "metadata": {},
   "source": [
    "Construa um array A bidimensional 5x6 com 30 números inteiros escolhidos de forma randômica no intervalo entre 0 e 20.\n",
    "\n",
    "    faça uma cópia do array A criado, chamando a cópia de Ac\n",
    "    Substitua todos os elementos do array A que sejam maiores que 10 pelo valor -1\n",
    "    Substitua todos os elementos do array Ac que sejam maiores que 7 e menores que 15 pelo valor -1\n",
    "    Dica: Gere máscaras booleanas para realizar as modificações nos arrays."
   ]
  },
  {
   "cell_type": "code",
   "execution_count": null,
   "metadata": {},
   "outputs": [],
   "source": []
  },
  {
   "cell_type": "markdown",
   "metadata": {},
   "source": [
    "Construa um array A com 20 linhas e 10 colunas onde os elementos são os números interios de 1 até 200.\n",
    "\n",
    "    Crie uma view de A chamada A_lpares contendo apenas as linhas de A com índice par.\n",
    "    Crie uma view de A chamada A_lpares_cimpares contendo as linhas A com índice par e colunas com índice ímpar."
   ]
  },
  {
   "cell_type": "code",
   "execution_count": null,
   "metadata": {},
   "outputs": [],
   "source": []
  },
  {
   "cell_type": "markdown",
   "metadata": {},
   "source": [
    "Substitua os elememtos do array A do exercício anterior por -1 quando pelo menos um dos índices do elemento é par.\n",
    "\n",
    "Dica: Construa uma máscara booleana"
   ]
  },
  {
   "cell_type": "code",
   "execution_count": null,
   "metadata": {},
   "outputs": [],
   "source": []
  },
  {
   "cell_type": "markdown",
   "metadata": {},
   "source": [
    "Construa uma função chamada ordena_linhas que recebe uma matriz como parâmetro e troque as linhas de posição para que fiquem ordenadas de acordo com a primeira coluna. Por exemplo:\n",
    "\n",
    "A = np.array([[20, 26, 12], \n",
    "              [8, 3, 26], \n",
    "              [3, 10, 4]])\n",
    "print(ordena_linhas(A))\n",
    "deve resultar em\n",
    "\n",
    "[[ 3 10  4]\n",
    " [ 8  3 26]\n",
    " [20 26 12]]"
   ]
  },
  {
   "cell_type": "code",
   "execution_count": null,
   "metadata": {},
   "outputs": [],
   "source": []
  }
 ],
 "metadata": {
  "kernelspec": {
   "display_name": "Python 3",
   "language": "python",
   "name": "python3"
  },
  "language_info": {
   "codemirror_mode": {
    "name": "ipython",
    "version": 3
   },
   "file_extension": ".py",
   "mimetype": "text/x-python",
   "name": "python",
   "nbconvert_exporter": "python",
   "pygments_lexer": "ipython3",
   "version": "3.11.4"
  }
 },
 "nbformat": 4,
 "nbformat_minor": 2
}
