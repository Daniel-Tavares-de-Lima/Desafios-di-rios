{
 "cells": [
  {
   "cell_type": "markdown",
   "metadata": {},
   "source": [
    "# Santander Coders exercises from Class #6 Unit #2\n",
    "Data: 15/02/2024. De: Ada Tech. Language: Portuguese."
   ]
  },
  {
   "cell_type": "code",
   "execution_count": 1,
   "metadata": {},
   "outputs": [],
   "source": [
    "import pandas as pd\n",
    "import numpy as np"
   ]
  },
  {
   "cell_type": "markdown",
   "metadata": {},
   "source": [
    "# Exercicíos\n",
    "\n",
    "Descrição dos Exercícios: Serão 5 exercícios onde o objetivo será conseguir os dados de datasets conhecidos do Kaggle e responder os tópicos propostos para cada um deles."
   ]
  },
  {
   "cell_type": "markdown",
   "metadata": {},
   "source": [
    "Exercício 1: Análise de Dados do Airbnb em Nova York Dataset: Disponível no Kaggle como New York City Airbnb Open Data."
   ]
  },
  {
   "cell_type": "code",
   "execution_count": 2,
   "metadata": {},
   "outputs": [],
   "source": [
    "dfAirbnb = pd.read_csv(\"./Datasets/02-15-AB_NYC_2019.csv\")"
   ]
  },
  {
   "cell_type": "markdown",
   "metadata": {},
   "source": [
    "# Questões:\n",
    "1- Exiba as primeiras 5 linhas do dataset para entender a estrutura dos dados."
   ]
  },
  {
   "cell_type": "code",
   "execution_count": null,
   "metadata": {},
   "outputs": [],
   "source": []
  },
  {
   "cell_type": "markdown",
   "metadata": {},
   "source": [
    "2- Calcule o preço médio de aluguel por bairro (neighbourhood_group)."
   ]
  },
  {
   "cell_type": "code",
   "execution_count": null,
   "metadata": {},
   "outputs": [],
   "source": []
  },
  {
   "cell_type": "markdown",
   "metadata": {},
   "source": [
    "3- Encontre o número de opções de hospedagem disponíveis em cada tipo de quarto (room_type)."
   ]
  },
  {
   "cell_type": "code",
   "execution_count": null,
   "metadata": {},
   "outputs": [],
   "source": []
  },
  {
   "cell_type": "markdown",
   "metadata": {},
   "source": [
    "4- Determine os 10 bairros com a maior quantidade de hospedagens listadas."
   ]
  },
  {
   "cell_type": "markdown",
   "metadata": {},
   "source": []
  },
  {
   "cell_type": "code",
   "execution_count": null,
   "metadata": {},
   "outputs": [],
   "source": []
  },
  {
   "cell_type": "markdown",
   "metadata": {},
   "source": [
    "# Exercício 2: Explorando Dados de Vendas de Imóveis\n",
    "Dataset: Disponível no Kaggle como House Prices: Advanced Regression Techniques."
   ]
  },
  {
   "cell_type": "code",
   "execution_count": 3,
   "metadata": {},
   "outputs": [],
   "source": [
    "df_house_prices_teste = pd.read_csv(\"./Datasets/02-15-test.csv\")\n",
    "df_house_prices_treino = pd.read_csv(\"./Datasets/02-15-train.csv\")\n",
    "df_house_prices = pd.concat([df_house_prices_teste, df_house_prices_treino])"
   ]
  },
  {
   "cell_type": "markdown",
   "metadata": {},
   "source": [
    "# Questões\n",
    "1- Exiba o número total de linhas e colunas no DataFrame."
   ]
  },
  {
   "cell_type": "code",
   "execution_count": null,
   "metadata": {},
   "outputs": [],
   "source": []
  },
  {
   "cell_type": "markdown",
   "metadata": {},
   "source": [
    "2- Encontre o preço médio dos imóveis."
   ]
  },
  {
   "cell_type": "code",
   "execution_count": null,
   "metadata": {},
   "outputs": [],
   "source": []
  },
  {
   "cell_type": "markdown",
   "metadata": {},
   "source": [
    "3- Liste as 5 áreas de lote (LotArea) mais grandes."
   ]
  },
  {
   "cell_type": "code",
   "execution_count": null,
   "metadata": {},
   "outputs": [],
   "source": []
  },
  {
   "cell_type": "markdown",
   "metadata": {},
   "source": [
    "4- Determine quantos imóveis possuem mais de 2 banheiros (FullBath)."
   ]
  },
  {
   "cell_type": "code",
   "execution_count": null,
   "metadata": {},
   "outputs": [],
   "source": []
  },
  {
   "cell_type": "markdown",
   "metadata": {},
   "source": [
    "# Exercício 3: Análise de Dados de Compras Online.\n",
    "Dataset: Disponível no Kaggle como Brazilian E-Commerce Public Dataset by Olist.\n"
   ]
  },
  {
   "cell_type": "code",
   "execution_count": 4,
   "metadata": {},
   "outputs": [],
   "source": [
    "df_olist_pedidos = pd.read_csv(\"Datasets/02-15-olist_orders_dataset.csv\")\n",
    "df_olist_produtos = pd.read_csv(\"Datasets/02-15-olist_products_dataset.csv\")\n",
    "df_olist_produtos_pedidos = pd.read_csv(\"Datasets/02-15-olist_order_items_dataset.csv\")"
   ]
  },
  {
   "cell_type": "markdown",
   "metadata": {},
   "source": [
    "# Questões: \n",
    "1- Determine quantos pedidos foram feitos em cada ano."
   ]
  },
  {
   "cell_type": "code",
   "execution_count": null,
   "metadata": {},
   "outputs": [],
   "source": []
  },
  {
   "cell_type": "markdown",
   "metadata": {},
   "source": [
    "\n",
    "2- Calcule o tempo médio de entrega (diferença entre order_purchase_timestamp e order_delivered_customer_date)."
   ]
  },
  {
   "cell_type": "code",
   "execution_count": null,
   "metadata": {},
   "outputs": [],
   "source": []
  },
  {
   "cell_type": "markdown",
   "metadata": {},
   "source": [
    "\n",
    "3- Identifique o top 5 categorias de produtos mais vendidos."
   ]
  },
  {
   "cell_type": "code",
   "execution_count": null,
   "metadata": {},
   "outputs": [],
   "source": []
  },
  {
   "cell_type": "markdown",
   "metadata": {},
   "source": []
  }
 ],
 "metadata": {
  "kernelspec": {
   "display_name": "Python 3",
   "language": "python",
   "name": "python3"
  },
  "language_info": {
   "codemirror_mode": {
    "name": "ipython",
    "version": 3
   },
   "file_extension": ".py",
   "mimetype": "text/x-python",
   "name": "python",
   "nbconvert_exporter": "python",
   "pygments_lexer": "ipython3",
   "version": "3.11.4"
  }
 },
 "nbformat": 4,
 "nbformat_minor": 2
}
