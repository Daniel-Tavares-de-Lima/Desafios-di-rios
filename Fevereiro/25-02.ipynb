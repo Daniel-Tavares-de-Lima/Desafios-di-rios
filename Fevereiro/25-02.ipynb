{
 "cells": [
  {
   "cell_type": "markdown",
   "metadata": {},
   "source": [
    "# Jogo da Velha\n",
    "Data: 25/02/2024. De: Practice Python. Link(https://www.practicepython.org/exercise/2015/11/16/26-check-tic-tac-toe.html)\n",
    "\n",
    "# Descrição\n",
    "Como você pode ter imaginado, estamos tentando construir um tabuleiro completo de jogo da velha. No entanto, isso é significativamente mais do que meia hora de codificação, então estamos fazendo isso em partes.\n",
    "\n",
    "Hoje, vamos simplesmente focar em verificar se alguém GANHOU um jogo da velha, sem nos preocuparmos com como os movimentos foram feitos.\n",
    "\n",
    "Se um jogo da velha for representado como uma lista de listas, assim:\n",
    "\n",
    "jogo = [[1, 2, 0],\n",
    "[2, 1, 0],\n",
    "[2, 1, 1]]\n",
    "onde 0 significa um quadrado vazio, 1 significa que o jogador 1 colocou seu símbolo nesse espaço e 2 significa que o jogador 2 colocou seu símbolo nesse espaço.\n",
    "\n",
    "Sua tarefa nesta semana: dada uma lista de listas 3 por 3 que representa um tabuleiro de jogo da velha, me diga se alguém ganhou e me diga qual jogador ganhou, se houver. Uma vitória no jogo da velha é 3 em linha - seja em uma linha, uma coluna ou uma diagonal. Não se preocupe com o caso em que DOIS jogadores ganharam - assuma que em cada tabuleiro haverá apenas um vencedor.\n",
    "\n",
    "Aqui estão mais alguns exemplos para trabalhar:\n",
    "\n",
    "vencedor_é_2 = [[2, 2, 0],\n",
    "[2, 1, 0],\n",
    "[2, 1, 1]]\n",
    "\n",
    "vencedor_é_1 = [[1, 2, 0],\n",
    "[2, 1, 0],\n",
    "[2, 1, 1]]\n",
    "\n",
    "vencedor_também_é_1 = [[0, 1, 0],\n",
    "[2, 1, 0],\n",
    "[2, 1, 1]]\n",
    "\n",
    "sem_vencedor = [[1, 2, 0],\n",
    "[2, 1, 0],\n",
    "[2, 1, 2]]\n",
    "\n",
    "também_sem_vencedor = [[1, 2, 0],\n",
    "[2, 1, 0],\n",
    "[2, 1, 0]]\n",
    "\n"
   ]
  },
  {
   "cell_type": "markdown",
   "metadata": {},
   "source": [
    "# Minha solução"
   ]
  },
  {
   "cell_type": "code",
   "execution_count": null,
   "metadata": {},
   "outputs": [],
   "source": []
  }
 ],
 "metadata": {
  "language_info": {
   "name": "python"
  }
 },
 "nbformat": 4,
 "nbformat_minor": 2
}
