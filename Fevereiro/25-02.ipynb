{
 "cells": [
  {
   "cell_type": "markdown",
   "metadata": {},
   "source": [
    "# Jogo da Velha\n",
    "Data: 25/02/2024. De: Practice Python. Link(https://www.practicepython.org/exercise/2015/11/16/26-check-tic-tac-toe.html)\n",
    "\n",
    "# Descrição\n",
    "Como você pode ter imaginado, estamos tentando construir um tabuleiro completo de jogo da velha. No entanto, isso é significativamente mais do que meia hora de codificação, então estamos fazendo isso em partes.\n",
    "\n",
    "Hoje, vamos simplesmente focar em verificar se alguém GANHOU um jogo da velha, sem nos preocuparmos com como os movimentos foram feitos.\n",
    "\n",
    "Se um jogo da velha for representado como uma lista de listas, assim:\n",
    "\n",
    "jogo = [[1, 2, 0],\n",
    "[2, 1, 0],\n",
    "[2, 1, 1]]\n",
    "onde 0 significa um quadrado vazio, 1 significa que o jogador 1 colocou seu símbolo nesse espaço e 2 significa que o jogador 2 colocou seu símbolo nesse espaço.\n",
    "\n",
    "Sua tarefa nesta semana: dada uma lista de listas 3 por 3 que representa um tabuleiro de jogo da velha, me diga se alguém ganhou e me diga qual jogador ganhou, se houver. Uma vitória no jogo da velha é 3 em linha - seja em uma linha, uma coluna ou uma diagonal. Não se preocupe com o caso em que DOIS jogadores ganharam - assuma que em cada tabuleiro haverá apenas um vencedor.\n",
    "\n",
    "Aqui estão mais alguns exemplos para trabalhar:\n",
    "\n",
    "vencedor_é_2 = [[2, 2, 0],\n",
    "[2, 1, 0],\n",
    "[2, 1, 1]]\n",
    "\n",
    "vencedor_é_1 = [[1, 2, 0],\n",
    "[2, 1, 0],\n",
    "[2, 1, 1]]\n",
    "\n",
    "vencedor_também_é_1 = [[0, 1, 0],\n",
    "[2, 1, 0],\n",
    "[2, 1, 1]]\n",
    "\n",
    "sem_vencedor = [[1, 2, 0],\n",
    "[2, 1, 0],\n",
    "[2, 1, 2]]\n",
    "\n",
    "também_sem_vencedor = [[1, 2, 0],\n",
    "[2, 1, 0],\n",
    "[2, 1, 0]]\n",
    "\n"
   ]
  },
  {
   "cell_type": "markdown",
   "metadata": {},
   "source": [
    "# Minha solução"
   ]
  },
  {
   "cell_type": "code",
   "execution_count": 1,
   "metadata": {},
   "outputs": [
    {
     "name": "stdout",
     "output_type": "stream",
     "text": [
      "Tabuleiro 1: O jogador 2 ganhou!\n",
      "Tabuleiro 2: O jogador 1 ganhou!\n",
      "Tabuleiro 3: O jogador 1 ganhou!\n",
      "Tabuleiro 4: O jogador 0 ganhou!\n",
      "Tabuleiro 5: O jogador 0 ganhou!\n"
     ]
    }
   ],
   "source": [
    "def vencedor(tabuleiro):\n",
    "    for i in range(3):\n",
    "        #Verificar linhas\n",
    "        if tabuleiro[i][0] == tabuleiro[i][1] == tabuleiro[i][2] != 0:\n",
    "            return tabuleiro[i][0]\n",
    "        # Verificar colunas\n",
    "        if tabuleiro[0][i] == tabuleiro[1][i] == tabuleiro[2][i] != 0:\n",
    "            return tabuleiro[0][i]\n",
    "        \n",
    "        # Verificar diagonais\n",
    "        if tabuleiro[0][0] == tabuleiro[1][1] == tabuleiro[2][2] != 0:\n",
    "            return tabuleiro[0][0]\n",
    "        if tabuleiro[0][2] == tabuleiro[1][1] == tabuleiro[2][0] != 0:\n",
    "            return tabuleiro[0][2]\n",
    "    \n",
    "    return 0 #Sem vencedor\n",
    "\n",
    "vencedor2 = [[2,2,0],\n",
    "            [2,1,0],\n",
    "            [2,1,1]]\n",
    "\n",
    "vencedor1 = [[1,2,0],\n",
    "             [2,1,0],\n",
    "             [2,1,1]]\n",
    "\n",
    "vencedorTambem1 = [[0,1,0],\n",
    "                   [2,1,0],\n",
    "                   [2,1,1]]\n",
    "\n",
    "semVencedor = [[1,2,0],\n",
    "               [2,1,0],\n",
    "               [2,1,2]]\n",
    "\n",
    "semVecendorTambem = [[1,2,0],\n",
    "                     [2,1,0],\n",
    "                     [2,1,0]]\n",
    "\n",
    "tabuleiros = [vencedor2, vencedor1, vencedorTambem1, semVencedor, semVecendorTambem]\n",
    "\n",
    "for i, tabuleiro in enumerate(tabuleiros,1):\n",
    "    venceu = vencedor(tabuleiro)\n",
    "    if vencedor:\n",
    "        print(f\"Tabuleiro {i}: O jogador {venceu} ganhou!\")\n",
    "    else:\n",
    "        print(f\"Tabuleiro {i}: Não há vencedor\")"
   ]
  },
  {
   "cell_type": "code",
   "execution_count": null,
   "metadata": {},
   "outputs": [],
   "source": []
  }
 ],
 "metadata": {
  "kernelspec": {
   "display_name": "Python 3",
   "language": "python",
   "name": "python3"
  },
  "language_info": {
   "codemirror_mode": {
    "name": "ipython",
    "version": 3
   },
   "file_extension": ".py",
   "mimetype": "text/x-python",
   "name": "python",
   "nbconvert_exporter": "python",
   "pygments_lexer": "ipython3",
   "version": "3.11.4"
  }
 },
 "nbformat": 4,
 "nbformat_minor": 2
}
