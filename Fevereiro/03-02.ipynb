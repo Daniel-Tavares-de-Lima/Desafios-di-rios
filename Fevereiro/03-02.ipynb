{
 "cells": [
  {
   "cell_type": "markdown",
   "metadata": {},
   "source": [
    "## Extração de Intervalos\n",
    "\n",
    "Data: 03/02/2024. De: Codewars. Link(https://www.codewars.com/kata/51ba717bb08c1cd60f00002f/train/python)\n",
    "\n",
    "## Descrição\n",
    "Um formato para expressar uma lista ordenada de inteiros é usar uma lista separada por vírgulas de inteiros individuais ou de um intervalo de inteiros indicado pelo primeiro inteiro separado do último inteiro no intervalo por um traço, '-'. O intervalo inclui todos os inteiros no intervalo, incluindo ambos os extremos. Não é considerado um intervalo a menos que abranja pelo menos 3 números. Por exemplo, \"12,13,15-17\".\n",
    "\n",
    "Complete a solução de modo que ela receba uma lista de inteiros em ordem crescente e retorne uma string formatada corretamente no formato de intervalo.\n",
    "\n",
    "## Exemplo\n",
    "solução([-10, -9, -8, -6, -3, -2, -1, 0, 1, 3, 4, 5, 7, 8, 9, 10, 11, 14, 15, 17, 18, 19, 20])\n",
    "# retorna \"-10--8,-6,-3-1,3-5,7-11,14,15,17-20\""
   ]
  },
  {
   "cell_type": "markdown",
   "metadata": {},
   "source": [
    "## My Solution"
   ]
  },
  {
   "cell_type": "code",
   "execution_count": null,
   "metadata": {},
   "outputs": [],
   "source": [
    "def solucao(args):\n",
    "    pass"
   ]
  },
  {
   "cell_type": "markdown",
   "metadata": {},
   "source": [
    "## Testes Basicos"
   ]
  },
  {
   "cell_type": "code",
   "execution_count": null,
   "metadata": {},
   "outputs": [],
   "source": [
    "print(solucao([-6,-3,-2,-1,0,1,3,4,5,7,8,9,10,11,14,15,17,18,19,20])) # expects '-6,-3-1,3-5,7-11,14,15,17-20'\n",
    "print(solucao([-3,-2,-1,2,10,15,16,18,19,20])) # expects '-3--1,2,10,15,16"
   ]
  }
 ],
 "metadata": {
  "language_info": {
   "name": "python"
  }
 },
 "nbformat": 4,
 "nbformat_minor": 2
}
