{
 "cells": [
  {
   "cell_type": "markdown",
   "metadata": {},
   "source": [
    "## Extração de Intervalos\n",
    "\n",
    "Data: 03/02/2024. De: Codewars. Link(https://www.codewars.com/kata/51ba717bb08c1cd60f00002f/train/python)\n",
    "\n",
    "## Descrição\n",
    "Um formato para expressar uma lista ordenada de inteiros é usar uma lista separada por vírgulas de inteiros individuais ou de um intervalo de inteiros indicado pelo primeiro inteiro separado do último inteiro no intervalo por um traço, '-'. O intervalo inclui todos os inteiros no intervalo, incluindo ambos os extremos. Não é considerado um intervalo a menos que abranja pelo menos 3 números. Por exemplo, \"12,13,15-17\".\n",
    "\n",
    "Complete a solução de modo que ela receba uma lista de inteiros em ordem crescente e retorne uma string formatada corretamente no formato de intervalo.\n",
    "\n",
    "## Exemplo\n",
    "solução([-10, -9, -8, -6, -3, -2, -1, 0, 1, 3, 4, 5, 7, 8, 9, 10, 11, 14, 15, 17, 18, 19, 20])\n",
    "# retorna \"-10--8,-6,-3-1,3-5,7-11,14,15,17-20\""
   ]
  },
  {
   "cell_type": "markdown",
   "metadata": {},
   "source": [
    "## My Solution"
   ]
  },
  {
   "cell_type": "code",
   "execution_count": 1,
   "metadata": {},
   "outputs": [],
   "source": [
    "def formatarIntervalos(lista):\n",
    "    resultado = []\n",
    "    intervaloAtual = [lista[0]]\n",
    "\n",
    "    for i in range(1, len(lista)):\n",
    "        if lista[i] == lista[i - 1] + 1:\n",
    "            intervaloAtual.append(lista[i])\n",
    "\n",
    "        else:\n",
    "            resultado.append(intervaloAtual)\n",
    "            intervaloAtual = [lista[i]]\n",
    "\n",
    "    resultado.append(intervaloAtual)\n",
    "\n",
    "    resultadoFormatado = []\n",
    "    for intervalo in resultado:\n",
    "        if len(intervalo) >= 3:\n",
    "            resultadoFormatado.append(f\"{intervalo[0]}-{intervalo[-1]}\")\n",
    "        else:\n",
    "            resultadoFormatado.extend(map(str, intervalo))\n",
    "\n",
    "    return \",\".join(resultadoFormatado)\n",
    "\n",
    "    "
   ]
  },
  {
   "cell_type": "markdown",
   "metadata": {},
   "source": [
    "## Testes Basicos"
   ]
  },
  {
   "cell_type": "code",
   "execution_count": 2,
   "metadata": {},
   "outputs": [
    {
     "name": "stdout",
     "output_type": "stream",
     "text": [
      "-6,-3-1,3-5,7-11,14,15,17-20\n",
      "-3--1,2,10,15,16,18-20\n"
     ]
    }
   ],
   "source": [
    "print(formatarIntervalos([-6,-3,-2,-1,0,1,3,4,5,7,8,9,10,11,14,15,17,18,19,20])) # expects '-6,-3-1,3-5,7-11,14,15,17-20'\n",
    "print(formatarIntervalos([-3,-2,-1,2,10,15,16,18,19,20])) # expects '-3--1,2,10,15,16"
   ]
  }
 ],
 "metadata": {
  "kernelspec": {
   "display_name": "Python 3",
   "language": "python",
   "name": "python3"
  },
  "language_info": {
   "codemirror_mode": {
    "name": "ipython",
    "version": 3
   },
   "file_extension": ".py",
   "mimetype": "text/x-python",
   "name": "python",
   "nbconvert_exporter": "python",
   "pygments_lexer": "ipython3",
   "version": "3.11.4"
  }
 },
 "nbformat": 4,
 "nbformat_minor": 2
}
