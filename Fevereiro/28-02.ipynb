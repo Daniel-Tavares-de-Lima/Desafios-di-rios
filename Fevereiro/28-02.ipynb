{
 "cells": [
  {
   "cell_type": "markdown",
   "metadata": {},
   "source": [
    "# Jogo da Velha\n",
    "Data: 2/02/2024. De: Prática Python. Link(https://www.practicepython.org/exercise/2016/08/03/29-tic-tac-toe-game.html)\n",
    "# Descrição\n",
    "Em três exercícios anteriores, construímos alguns componentes necessários para criar um jogo da velha em Python:\n",
    "\n",
    "Desenhar o tabuleiro do jogo da velha\n",
    "Verificar se há um vencedor no tabuleiro do jogo\n",
    "Tratar a jogada de um jogador a partir da entrada do usuário\n",
    "O próximo passo é juntar todos esses três componentes para criar um jogo da velha para dois jogadores! Seu desafio neste exercício é usar as funções dos exercícios anteriores todos juntos no mesmo programa para fazer um jogo para dois jogadores que você possa jogar com um amigo. Há muitas escolhas que você terá que fazer ao completar este exercício, então você pode ir tão longe ou tão pouco quanto quiser com ele.\n",
    "\n",
    "Aqui estão algumas coisas para se ter em mente:\n",
    "\n",
    "Você deve acompanhar quem ganhou - se houver um vencedor, mostre uma mensagem de congratulações na tela.\n",
    "Se não houver mais movimentos disponíveis, não peça a próxima jogada do jogador!\n",
    "Como bônus, você pode perguntar aos jogadores se eles querem jogar novamente e manter um registro de quem ganhou mais - Jogador 1 ou Jogador 2.\n"
   ]
  },
  {
   "cell_type": "code",
   "execution_count": 1,
   "metadata": {},
   "outputs": [
    {
     "name": "stdout",
     "output_type": "stream",
     "text": [
      "| 0 | 0 | 0 | \n",
      "| 0 | 0 | 0 | \n",
      "| 0 | 0 | 0 | \n"
     ]
    },
    {
     "ename": "ValueError",
     "evalue": "invalid literal for int() with base 10: ''",
     "output_type": "error",
     "traceback": [
      "\u001b[1;31m---------------------------------------------------------------------------\u001b[0m",
      "\u001b[1;31mValueError\u001b[0m                                Traceback (most recent call last)",
      "Cell \u001b[1;32mIn[1], line 55\u001b[0m\n\u001b[0;32m     52\u001b[0m                 \u001b[38;5;28;01mbreak\u001b[39;00m\n\u001b[0;32m     53\u001b[0m             jogador \u001b[38;5;241m=\u001b[39m \u001b[38;5;241m3\u001b[39m \u001b[38;5;241m-\u001b[39m jogador  \u001b[38;5;66;03m# Alternar entre jogador 1 e jogador 2\u001b[39;00m\n\u001b[1;32m---> 55\u001b[0m \u001b[43mjogar_jogo_da_velha\u001b[49m\u001b[43m(\u001b[49m\u001b[43m)\u001b[49m\n",
      "Cell \u001b[1;32mIn[1], line 40\u001b[0m, in \u001b[0;36mjogar_jogo_da_velha\u001b[1;34m()\u001b[0m\n\u001b[0;32m     38\u001b[0m \u001b[38;5;28;01mwhile\u001b[39;00m \u001b[38;5;28;01mTrue\u001b[39;00m:\n\u001b[0;32m     39\u001b[0m     desenhar_tabuleiro(tabuleiro)\n\u001b[1;32m---> 40\u001b[0m     linha \u001b[38;5;241m=\u001b[39m \u001b[38;5;28;43mint\u001b[39;49m\u001b[43m(\u001b[49m\u001b[38;5;28;43minput\u001b[39;49m\u001b[43m(\u001b[49m\u001b[38;5;124;43mf\u001b[39;49m\u001b[38;5;124;43m\"\u001b[39;49m\u001b[38;5;124;43mJogador \u001b[39;49m\u001b[38;5;132;43;01m{\u001b[39;49;00m\u001b[43mjogador\u001b[49m\u001b[38;5;132;43;01m}\u001b[39;49;00m\u001b[38;5;124;43m, escolha a linha (1-3): \u001b[39;49m\u001b[38;5;124;43m\"\u001b[39;49m\u001b[43m)\u001b[49m\u001b[43m)\u001b[49m \u001b[38;5;241m-\u001b[39m \u001b[38;5;241m1\u001b[39m\n\u001b[0;32m     41\u001b[0m     coluna \u001b[38;5;241m=\u001b[39m \u001b[38;5;28mint\u001b[39m(\u001b[38;5;28minput\u001b[39m(\u001b[38;5;124mf\u001b[39m\u001b[38;5;124m\"\u001b[39m\u001b[38;5;124mJogador \u001b[39m\u001b[38;5;132;01m{\u001b[39;00mjogador\u001b[38;5;132;01m}\u001b[39;00m\u001b[38;5;124m, escolha a coluna (1-3): \u001b[39m\u001b[38;5;124m\"\u001b[39m)) \u001b[38;5;241m-\u001b[39m \u001b[38;5;241m1\u001b[39m\n\u001b[0;32m     43\u001b[0m     \u001b[38;5;28;01mif\u001b[39;00m realizar_jogada(tabuleiro, jogador, linha, coluna):\n",
      "\u001b[1;31mValueError\u001b[0m: invalid literal for int() with base 10: ''"
     ]
    }
   ],
   "source": [
    "def desenhar_tabuleiro(tabuleiro):\n",
    "    for linha in tabuleiro:\n",
    "        print(\"|\", end=\" \")\n",
    "        for celula in linha:\n",
    "            print(celula, \"|\", end=\" \")\n",
    "        print()\n",
    "\n",
    "def verificar_vencedor(tabuleiro):\n",
    "    for linha in tabuleiro:\n",
    "        if linha.count(linha[0]) == len(linha) and linha[0] != 0:\n",
    "            return linha[0]\n",
    "    \n",
    "    for coluna in range(len(tabuleiro)):\n",
    "        if (tabuleiro[0][coluna] == tabuleiro[1][coluna] == tabuleiro[2][coluna]) and (tabuleiro[0][coluna] != 0):\n",
    "            return tabuleiro[0][coluna]\n",
    "    \n",
    "    if (tabuleiro[0][0] == tabuleiro[1][1] == tabuleiro[2][2]) and (tabuleiro[0][0] != 0):\n",
    "        return tabuleiro[0][0]\n",
    "    if (tabuleiro[0][2] == tabuleiro[1][1] == tabuleiro[2][0]) and (tabuleiro[0][2] != 0):\n",
    "        return tabuleiro[0][2]\n",
    "    \n",
    "    return 0\n",
    "\n",
    "def realizar_jogada(tabuleiro, jogador, linha, coluna):\n",
    "    if tabuleiro[linha][coluna] == 0:\n",
    "        tabuleiro[linha][coluna] = jogador\n",
    "        return True\n",
    "    else:\n",
    "        print(\"Essa posição já está ocupada. Tente novamente.\")\n",
    "        return False\n",
    "\n",
    "def jogar_jogo_da_velha():\n",
    "    tabuleiro = [[0, 0, 0],\n",
    "                 [0, 0, 0],\n",
    "                 [0, 0, 0]]\n",
    "    jogador = 1\n",
    "\n",
    "    while True:\n",
    "        desenhar_tabuleiro(tabuleiro)\n",
    "        linha = int(input(f\"Jogador {jogador}, escolha a linha (1-3): \")) - 1\n",
    "        coluna = int(input(f\"Jogador {jogador}, escolha a coluna (1-3): \")) - 1\n",
    "\n",
    "        if realizar_jogada(tabuleiro, jogador, linha, coluna):\n",
    "            vencedor = verificar_vencedor(tabuleiro)\n",
    "            if vencedor != 0:\n",
    "                desenhar_tabuleiro(tabuleiro)\n",
    "                print(f\"Parabéns, Jogador {vencedor}! Você venceu!\")\n",
    "                break\n",
    "            elif all(cell != 0 for row in tabuleiro for cell in row):\n",
    "                desenhar_tabuleiro(tabuleiro)\n",
    "                print(\"Empate!\")\n",
    "                break\n",
    "            jogador = 3 - jogador  # Alternar entre jogador 1 e jogador 2\n",
    "\n",
    "jogar_jogo_da_velha()\n"
   ]
  },
  {
   "cell_type": "code",
   "execution_count": null,
   "metadata": {},
   "outputs": [],
   "source": []
  }
 ],
 "metadata": {
  "kernelspec": {
   "display_name": "Python 3",
   "language": "python",
   "name": "python3"
  },
  "language_info": {
   "codemirror_mode": {
    "name": "ipython",
    "version": 3
   },
   "file_extension": ".py",
   "mimetype": "text/x-python",
   "name": "python",
   "nbconvert_exporter": "python",
   "pygments_lexer": "ipython3",
   "version": "3.11.4"
  }
 },
 "nbformat": 4,
 "nbformat_minor": 2
}
