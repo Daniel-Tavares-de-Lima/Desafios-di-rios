{
 "cells": [
  {
   "cell_type": "markdown",
   "metadata": {},
   "source": [
    "# Jogo da Velha\n",
    "Data: 2/02/2024. De: Prática Python. Link(https://www.practicepython.org/exercise/2016/08/03/29-tic-tac-toe-game.html)\n",
    "# Descrição\n",
    "Em três exercícios anteriores, construímos alguns componentes necessários para criar um jogo da velha em Python:\n",
    "\n",
    "Desenhar o tabuleiro do jogo da velha\n",
    "Verificar se há um vencedor no tabuleiro do jogo\n",
    "Tratar a jogada de um jogador a partir da entrada do usuário\n",
    "O próximo passo é juntar todos esses três componentes para criar um jogo da velha para dois jogadores! Seu desafio neste exercício é usar as funções dos exercícios anteriores todos juntos no mesmo programa para fazer um jogo para dois jogadores que você possa jogar com um amigo. Há muitas escolhas que você terá que fazer ao completar este exercício, então você pode ir tão longe ou tão pouco quanto quiser com ele.\n",
    "\n",
    "Aqui estão algumas coisas para se ter em mente:\n",
    "\n",
    "Você deve acompanhar quem ganhou - se houver um vencedor, mostre uma mensagem de congratulações na tela.\n",
    "Se não houver mais movimentos disponíveis, não peça a próxima jogada do jogador!\n",
    "Como bônus, você pode perguntar aos jogadores se eles querem jogar novamente e manter um registro de quem ganhou mais - Jogador 1 ou Jogador 2.\n"
   ]
  },
  {
   "cell_type": "code",
   "execution_count": null,
   "metadata": {},
   "outputs": [],
   "source": []
  }
 ],
 "metadata": {
  "language_info": {
   "name": "python"
  }
 },
 "nbformat": 4,
 "nbformat_minor": 2
}
