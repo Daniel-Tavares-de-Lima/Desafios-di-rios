{
 "cells": [
  {
   "cell_type": "markdown",
   "metadata": {},
   "source": [
    "## Soma de números de 0 a n\n",
    "Data: 05/02/2024. De: Codewars. Link(https://www.codewars.com/kata/56e9e4f516bcaa8d4f001763/)\n",
    "\n",
    "## Descrição\n",
    "Queremos gerar uma função que calcule a série começando do 0 e indo até o número fornecido. Exemplo:\n",
    "Entrada:\n",
    "6\n",
    "Saída: \"0+1+2+3+4+5+6 = 21\"\n",
    "Entrada:\n",
    "-15\n",
    "Saída: \"-15<0\"\n",
    "Entrada:\n",
    "0\n",
    "Saída: \"0=0\""
   ]
  },
  {
   "cell_type": "markdown",
   "metadata": {},
   "source": [
    "## Minha solução"
   ]
  },
  {
   "cell_type": "code",
   "execution_count": null,
   "metadata": {},
   "outputs": [],
   "source": [
    "def sum(n):\n",
    "    pass"
   ]
  },
  {
   "cell_type": "code",
   "execution_count": null,
   "metadata": {},
   "outputs": [],
   "source": [
    "print(sum(6)) # expect \"0+1+2+3+4+5+6 = 21\"\n",
    "print(sum(7)) # expect \"0+1+2+3+4+5+6+7 = 28\"\n",
    "print(sum(0)) # expect \"0=0\"\n",
    "print(sum(-1)) # expect \"-1<0\"\n",
    "print(sum(-10)) # expect \"-10<0\""
   ]
  }
 ],
 "metadata": {
  "language_info": {
   "name": "python"
  }
 },
 "nbformat": 4,
 "nbformat_minor": 2
}
