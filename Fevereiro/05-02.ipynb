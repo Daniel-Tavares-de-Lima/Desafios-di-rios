{
 "cells": [
  {
   "cell_type": "markdown",
   "metadata": {},
   "source": [
    "## Soma de números de 0 a n\n",
    "Data: 05/02/2024. De: Codewars. Link(https://www.codewars.com/kata/56e9e4f516bcaa8d4f001763/)\n",
    "\n",
    "## Descrição\n",
    "Queremos gerar uma função que calcule a série começando do 0 e indo até o número fornecido. Exemplo:\n",
    "Entrada:\n",
    "6\n",
    "Saída: \"0+1+2+3+4+5+6 = 21\"\n",
    "Entrada:\n",
    "-15\n",
    "Saída: \"-15<0\"\n",
    "Entrada:\n",
    "0\n",
    "Saída: \"0=0\""
   ]
  },
  {
   "cell_type": "markdown",
   "metadata": {},
   "source": [
    "## Minha solução"
   ]
  },
  {
   "cell_type": "code",
   "execution_count": 14,
   "metadata": {},
   "outputs": [],
   "source": [
    "def calcular(n):\n",
    "    if n >= 0:\n",
    "        serie = \"\"\n",
    "        resultado = 0\n",
    "        for i in range(n + 1):\n",
    "            serie += str(i)\n",
    "            resultado += i\n",
    "            if i < n:\n",
    "                serie += \"+\"\n",
    "        return f\"{serie} = {resultado}\"\n",
    "    else:\n",
    "        return f\"{n} < 0\""
   ]
  },
  {
   "cell_type": "code",
   "execution_count": 15,
   "metadata": {},
   "outputs": [
    {
     "name": "stdout",
     "output_type": "stream",
     "text": [
      "0+1+2+3+4+5+6 = 21\n",
      "0+1+2+3+4+5+6+7 = 28\n",
      "0 = 0\n",
      "-1 < 0\n",
      "-10 < 0\n"
     ]
    }
   ],
   "source": [
    "print(calcular(6))  # expect \"0+1+2+3+4+5+6 = 21\"\n",
    "print(calcular(7))  # expect \"0+1+2+3+4+5+6+7 = 28\"\n",
    "print(calcular(0))  # expect \"0=0\"\n",
    "print(calcular(-1))  # expect \"-1 < 0\"\n",
    "print(calcular(-10))  # expect \"-10 < 0\""
   ]
  },
  {
   "cell_type": "markdown",
   "metadata": {},
   "source": [
    "## Scramblies\n",
    "\n",
    "Data: 05/02/2024. De: Codewars. Link(https://www.codewars.com/kata/55c04b4cc56a697bb0000048/train/python)\n",
    "\n",
    "## Descrição:\n",
    "Complete a função scramble(str1, str2) que retorna verdadeiro se uma parte dos caracteres de str1 pode ser rearranjada para coincidir com str2, caso contrário, retorna falso.\n",
    "\n",
    "## Notas\n",
    "°Apenas letras minúsculas serão usadas (a-z). Não serão incluídas pontuações ou dígitos.\n",
    "°O desempenho precisa ser considerado.\n",
    "### Exemplos:\n",
    "scramble('rkqodlw', 'world') ==> True\n",
    "scramble('cedewaraaossoqqyt', 'codewars') ==> True\n",
    "scramble('katas', 'steak') ==> False"
   ]
  },
  {
   "cell_type": "markdown",
   "metadata": {},
   "source": [
    "## Minha solução"
   ]
  },
  {
   "cell_type": "code",
   "execution_count": null,
   "metadata": {},
   "outputs": [],
   "source": [
    "def scramble(s1,s2):\n",
    "    pass"
   ]
  },
  {
   "cell_type": "markdown",
   "metadata": {},
   "source": [
    "## Testes"
   ]
  },
  {
   "cell_type": "code",
   "execution_count": null,
   "metadata": {},
   "outputs": [],
   "source": [
    "print(scramble('rkqodlw', 'world')) # expexts True\n",
    "print(scramble('cedewaraaossoqqyt', 'codewars')) # expexts True\n",
    "print(scramble('katas', 'steak')) # expexts False\n",
    "print(scramble('scriptjava', 'javascript')) # expexts True\n",
    "print(scramble('scriptingjava', 'javascript')) # expexts True"
   ]
  }
 ],
 "metadata": {
  "kernelspec": {
   "display_name": "Python 3",
   "language": "python",
   "name": "python3"
  },
  "language_info": {
   "codemirror_mode": {
    "name": "ipython",
    "version": 3
   },
   "file_extension": ".py",
   "mimetype": "text/x-python",
   "name": "python",
   "nbconvert_exporter": "python",
   "pygments_lexer": "ipython3",
   "version": "3.11.4"
  }
 },
 "nbformat": 4,
 "nbformat_minor": 2
}
