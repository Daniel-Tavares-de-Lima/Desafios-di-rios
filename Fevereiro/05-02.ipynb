{
 "cells": [
  {
   "cell_type": "markdown",
   "metadata": {},
   "source": [
    "## Soma de números de 0 a n\n",
    "Data: 05/02/2024. De: Codewars. Link(https://www.codewars.com/kata/56e9e4f516bcaa8d4f001763/)\n",
    "\n",
    "## Descrição\n",
    "Queremos gerar uma função que calcule a série começando do 0 e indo até o número fornecido. Exemplo:\n",
    "Entrada:\n",
    "6\n",
    "Saída: \"0+1+2+3+4+5+6 = 21\"\n",
    "Entrada:\n",
    "-15\n",
    "Saída: \"-15<0\"\n",
    "Entrada:\n",
    "0\n",
    "Saída: \"0=0\""
   ]
  },
  {
   "cell_type": "markdown",
   "metadata": {},
   "source": [
    "## Minha solução"
   ]
  },
  {
   "cell_type": "code",
   "execution_count": null,
   "metadata": {},
   "outputs": [],
   "source": []
  }
 ],
 "metadata": {
  "language_info": {
   "name": "python"
  }
 },
 "nbformat": 4,
 "nbformat_minor": 2
}
