{
 "cells": [
  {
   "cell_type": "markdown",
   "metadata": {},
   "source": [
    "## Soma de números de 0 a n\n",
    "Data: 05/02/2024. De: Codewars. Link(https://www.codewars.com/kata/56e9e4f516bcaa8d4f001763/)\n",
    "\n",
    "## Descrição\n",
    "Queremos gerar uma função que calcule a série começando do 0 e indo até o número fornecido. Exemplo:\n",
    "Entrada:\n",
    "6\n",
    "Saída: \"0+1+2+3+4+5+6 = 21\"\n",
    "Entrada:\n",
    "-15\n",
    "Saída: \"-15<0\"\n",
    "Entrada:\n",
    "0\n",
    "Saída: \"0=0\""
   ]
  },
  {
   "cell_type": "markdown",
   "metadata": {},
   "source": [
    "## Minha solução"
   ]
  },
  {
   "cell_type": "code",
   "execution_count": null,
   "metadata": {},
   "outputs": [],
   "source": [
    "def sum(n):\n",
    "    pass"
   ]
  },
  {
   "cell_type": "code",
   "execution_count": null,
   "metadata": {},
   "outputs": [],
   "source": [
    "print(sum(6)) # expect \"0+1+2+3+4+5+6 = 21\"\n",
    "print(sum(7)) # expect \"0+1+2+3+4+5+6+7 = 28\"\n",
    "print(sum(0)) # expect \"0=0\"\n",
    "print(sum(-1)) # expect \"-1<0\"\n",
    "print(sum(-10)) # expect \"-10<0\""
   ]
  },
  {
   "cell_type": "markdown",
   "metadata": {},
   "source": [
    "## Scramblies\n",
    "\n",
    "Data: 05/02/2024. De: Codewars. Link(https://www.codewars.com/kata/55c04b4cc56a697bb0000048/train/python)\n",
    "\n",
    "## Descrição:\n",
    "Complete a função scramble(str1, str2) que retorna verdadeiro se uma parte dos caracteres de str1 pode ser rearranjada para coincidir com str2, caso contrário, retorna falso.\n",
    "\n",
    "## Notas\n",
    "°Apenas letras minúsculas serão usadas (a-z). Não serão incluídas pontuações ou dígitos.\n",
    "°O desempenho precisa ser considerado.\n",
    "### Exemplos:\n",
    "scramble('rkqodlw', 'world') ==> True\n",
    "scramble('cedewaraaossoqqyt', 'codewars') ==> True\n",
    "scramble('katas', 'steak') ==> False"
   ]
  },
  {
   "cell_type": "markdown",
   "metadata": {},
   "source": []
  }
 ],
 "metadata": {
  "language_info": {
   "name": "python"
  }
 },
 "nbformat": 4,
 "nbformat_minor": 2
}
