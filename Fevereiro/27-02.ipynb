{
 "cells": [
  {
   "cell_type": "markdown",
   "metadata": {},
   "source": [
    "# Máximo de três\n",
    "Data: 27/02/2024. De Prática Python. Link(https://www.practicepython.org/exercise/2016/03/27/28-max-of-three.html)\n",
    "\n",
    "# Descrição\n",
    "Implemente uma função que receba como entrada três variáveis e retorne a maior das três. Faça isso sem usar a função max() do Python!\n",
    "\n",
    "O objetivo deste exercício é pensar sobre alguns aspectos internos que o Python normalmente cuida para nós. Tudo o que você precisa são algumas variáveis e declarações if!"
   ]
  },
  {
   "cell_type": "code",
   "execution_count": 11,
   "metadata": {},
   "outputs": [
    {
     "data": {
      "text/plain": [
       "10"
      ]
     },
     "execution_count": 11,
     "metadata": {},
     "output_type": "execute_result"
    }
   ],
   "source": [
    "def max(n1,n2,n3):\n",
    "    if n1 >= n2 and n1 >= n3:\n",
    "        return n1\n",
    "    elif n2 >= n1 and n2 >= n3:\n",
    "        return n2\n",
    "    else:\n",
    "        return n3\n",
    "    \n",
    "max(4,5,10)"
   ]
  }
 ],
 "metadata": {
  "kernelspec": {
   "display_name": "Python 3",
   "language": "python",
   "name": "python3"
  },
  "language_info": {
   "codemirror_mode": {
    "name": "ipython",
    "version": 3
   },
   "file_extension": ".py",
   "mimetype": "text/x-python",
   "name": "python",
   "nbconvert_exporter": "python",
   "pygments_lexer": "ipython3",
   "version": "3.11.4"
  }
 },
 "nbformat": 4,
 "nbformat_minor": 2
}
