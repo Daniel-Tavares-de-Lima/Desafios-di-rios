{
 "cells": [
  {
   "cell_type": "markdown",
   "metadata": {},
   "source": [
    "# Máximo de três\n",
    "Data: 27/02/2024. De Prática Python. Link(https://www.practicepython.org/exercise/2016/03/27/28-max-of-three.html)\n",
    "\n",
    "# Descrição\n",
    "Implemente uma função que receba como entrada três variáveis e retorne a maior das três. Faça isso sem usar a função max() do Python!\n",
    "\n",
    "O objetivo deste exercício é pensar sobre alguns aspectos internos que o Python normalmente cuida para nós. Tudo o que você precisa são algumas variáveis e declarações if!"
   ]
  },
  {
   "cell_type": "code",
   "execution_count": null,
   "metadata": {},
   "outputs": [],
   "source": []
  }
 ],
 "metadata": {
  "language_info": {
   "name": "python"
  }
 },
 "nbformat": 4,
 "nbformat_minor": 2
}
