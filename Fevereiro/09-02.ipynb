{
 "cells": [
  {
   "cell_type": "markdown",
   "metadata": {},
   "source": [
    "## Problema da quebra de chocolate \n",
    "\n",
    "Data: 09/02/2024. De: Codewars. Link(https://www.codewars.com/kata/534ea96ebb17181947000ada/train/python)\n",
    "\n",
    "## Descrição \n",
    "Sua tarefa é dividir a barra de chocolate de dimensão dada n x m em pequenos quadrados. Cada quadrado tem tamanho 1x1 e é inquebrável. Implemente uma função que retornará o número mínimo de quebras necessárias.\n",
    "\n",
    "Por exemplo, se você receber uma barra de chocolate de tamanho 2 x 1, você pode dividi-la em quadrados individuais em apenas uma quebra, mas para o tamanho 3 x 1 você deve fazer duas quebras.\n",
    "\n",
    "Se os dados de entrada forem inválidos, você deve retornar 0 (como nenhum quebra é necessária se não tivermos nenhum chocolate para dividir). A entrada sempre será um número inteiro não negativo."
   ]
  },
  {
   "cell_type": "markdown",
   "metadata": {},
   "source": [
    "## Minha solução"
   ]
  },
  {
   "cell_type": "code",
   "execution_count": null,
   "metadata": {},
   "outputs": [],
   "source": [
    "def break_chocolate(n,m):\n",
    "    pass"
   ]
  },
  {
   "cell_type": "code",
   "execution_count": 1,
   "metadata": {},
   "outputs": [
    {
     "ename": "NameError",
     "evalue": "name 'break_chocolate' is not defined",
     "output_type": "error",
     "traceback": [
      "\u001b[1;31m---------------------------------------------------------------------------\u001b[0m",
      "\u001b[1;31mNameError\u001b[0m                                 Traceback (most recent call last)",
      "Cell \u001b[1;32mIn[1], line 1\u001b[0m\n\u001b[1;32m----> 1\u001b[0m \u001b[38;5;28mprint\u001b[39m(\u001b[43mbreak_chocolate\u001b[49m(\u001b[38;5;241m5\u001b[39m, \u001b[38;5;241m5\u001b[39m)) \u001b[38;5;66;03m# expects 24\u001b[39;00m\n\u001b[0;32m      2\u001b[0m \u001b[38;5;28mprint\u001b[39m(break_chocolate(\u001b[38;5;241m7\u001b[39m, \u001b[38;5;241m4\u001b[39m)) \u001b[38;5;66;03m# expects 27\u001b[39;00m\n\u001b[0;32m      3\u001b[0m \u001b[38;5;28mprint\u001b[39m(break_chocolate(\u001b[38;5;241m1\u001b[39m, \u001b[38;5;241m1\u001b[39m)) \u001b[38;5;66;03m# expects 0\u001b[39;00m\n",
      "\u001b[1;31mNameError\u001b[0m: name 'break_chocolate' is not defined"
     ]
    }
   ],
   "source": [
    "print(break_chocolate(5, 5)) # expects 24\n",
    "print(break_chocolate(7, 4)) # expects 27\n",
    "print(break_chocolate(1, 1)) # expects 0\n",
    "print(break_chocolate(0, 0)) # expects 0\n",
    "print(break_chocolate(6, 1)) # expects 5"
   ]
  }
 ],
 "metadata": {
  "kernelspec": {
   "display_name": "Python 3",
   "language": "python",
   "name": "python3"
  },
  "language_info": {
   "codemirror_mode": {
    "name": "ipython",
    "version": 3
   },
   "file_extension": ".py",
   "mimetype": "text/x-python",
   "name": "python",
   "nbconvert_exporter": "python",
   "pygments_lexer": "ipython3",
   "version": "3.11.4"
  }
 },
 "nbformat": 4,
 "nbformat_minor": 2
}
