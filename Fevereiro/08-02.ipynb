{
 "cells": [
  {
   "cell_type": "markdown",
   "metadata": {},
   "source": [
    "## Santander Coders exercises from Class #3 Unit #2\n",
    "\n",
    "Data: 08/02/2024. From: Ada Tech. Language Portuguese\n",
    "\n",
    "# Lista 1 -  NumPy\n",
    "Exercícios\n",
    "Para a resolução dos exercícios abaixo, utilize todas as ferramentas e métodos do NumPy aprendidos em aula e existe algumas outras métodos que podem ser úteis na documentação NumPy Documentation. Durante a correção, não será considerado exercícios que não utilizar a ferramenta (muitos deles da pra responder apenas com Python, mas não é esse o intuito da lista).\n",
    "\n",
    "Funcionamento dos Exercícios: todos os exercícios são do estilo onde será preciso criar uma função para resolver a proposta do enunciado. Será avaliado apenas a função, mas sugiro que crie casos de testes para avaliar se a função está operando corretamente.\n",
    "\n",
    "Avaliação e Entrega: São 5 exercícios que valem 10 pontos, e a entrega vai ser na forma de um notebook através da tarefa criada no LMS.\n",
    "\n",
    "Data Limite para Entrega: Próxima aula 19/02\n",
    "\n",
    "1) Restaurantes Mais Próximos\n",
    "Perto da casa de João existem vários restaurantes que entregam comida e João deseja fazer um pedido, mas ele tem um compromisso marcado e não pode esperar muito tempo. Então João quer saber qual é o restaurante mais próximo da residencial dele utilizando da distância Euclidiana, cuja a fórmula é dado pela equação a seguir:\n",
    "\n",
    "<math xmlns=\"http://www.w3.org/1998/Math/MathML\" display=\"block\">\n",
    "  <mi>d</mi>\n",
    "  <mo stretchy=\"false\">(</mo>\n",
    "  <mi>A</mi>\n",
    "  <mo>,</mo>\n",
    "  <mi>B</mi>\n",
    "  <mo stretchy=\"false\">)</mo>\n",
    "  <mo>=</mo>\n",
    "  <msqrt>\n",
    "    <mo stretchy=\"false\">(</mo>\n",
    "    <msub>\n",
    "      <mi>x</mi>\n",
    "      <mrow data-mjx-texclass=\"ORD\">\n",
    "        <mi>A</mi>\n",
    "        <mo>,</mo>\n",
    "        <mn>1</mn>\n",
    "      </mrow>\n",
    "    </msub>\n",
    "    <mo>&#x2212;</mo>\n",
    "    <msub>\n",
    "      <mi>x</mi>\n",
    "      <mrow data-mjx-texclass=\"ORD\">\n",
    "        <mi>B</mi>\n",
    "        <mo>,</mo>\n",
    "        <mn>1</mn>\n",
    "      </mrow>\n",
    "    </msub>\n",
    "    <msup>\n",
    "      <mo stretchy=\"false\">)</mo>\n",
    "      <mrow data-mjx-texclass=\"ORD\">\n",
    "        <mn>2</mn>\n",
    "      </mrow>\n",
    "    </msup>\n",
    "    <mo>+</mo>\n",
    "    <mo stretchy=\"false\">(</mo>\n",
    "    <msub>\n",
    "      <mi>x</mi>\n",
    "      <mrow data-mjx-texclass=\"ORD\">\n",
    "        <mi>A</mi>\n",
    "        <mo>,</mo>\n",
    "        <mn>2</mn>\n",
    "      </mrow>\n",
    "    </msub>\n",
    "    <mo>&#x2212;</mo>\n",
    "    <msub>\n",
    "      <mi>x</mi>\n",
    "      <mrow data-mjx-texclass=\"ORD\">\n",
    "        <mi>B</mi>\n",
    "        <mo>,</mo>\n",
    "        <mn>2</mn>\n",
    "      </mrow>\n",
    "    </msub>\n",
    "    <msup>\n",
    "      <mo stretchy=\"false\">)</mo>\n",
    "      <mrow data-mjx-texclass=\"ORD\">\n",
    "        <mn>2</mn>\n",
    "      </mrow>\n",
    "    </msup>\n",
    "    <mo>+</mo>\n",
    "    <mo>.</mo>\n",
    "    <mo>.</mo>\n",
    "    <mo>.</mo>\n",
    "    <mo>+</mo>\n",
    "    <mo stretchy=\"false\">(</mo>\n",
    "    <msub>\n",
    "      <mi>x</mi>\n",
    "      <mrow data-mjx-texclass=\"ORD\">\n",
    "        <mi>A</mi>\n",
    "        <mo>,</mo>\n",
    "        <mi>n</mi>\n",
    "      </mrow>\n",
    "    </msub>\n",
    "    <mo>&#x2212;</mo>\n",
    "    <msub>\n",
    "      <mi>x</mi>\n",
    "      <mrow data-mjx-texclass=\"ORD\">\n",
    "        <mi>B</mi>\n",
    "        <mo>,</mo>\n",
    "        <mi>n</mi>\n",
    "      </mrow>\n",
    "    </msub>\n",
    "    <msup>\n",
    "      <mo stretchy=\"false\">)</mo>\n",
    "      <mrow data-mjx-texclass=\"ORD\">\n",
    "        <mn>2</mn>\n",
    "      </mrow>\n",
    "    </msup>\n",
    "  </msqrt>\n",
    "</math>\n",
    "\n",
    "Desenvolva uma função chamada restaurante_mais_proximo que irá receber como parâmetros respectivamente uma lista de coordenadas da casa do João e uma lista com 4 listas com as coordenadas dos restaurantes a verificar e o retorno da função deve ser o número referente ao restaurante mais próximo. Importante ressaltar que o número do restaurante começa pelo 1 e que em caso de empate, deve-se indicar o primeiro restaurante a apresentar a menor distância.\n"
   ]
  },
  {
   "cell_type": "markdown",
   "metadata": {},
   "source": [
    "## Minha solução"
   ]
  },
  {
   "cell_type": "code",
   "execution_count": 1,
   "metadata": {},
   "outputs": [],
   "source": [
    "import numpy as np"
   ]
  },
  {
   "cell_type": "code",
   "execution_count": 2,
   "metadata": {},
   "outputs": [],
   "source": [
    "def restaurantes_mais_proximos(casa, restaurantes):\n",
    "    pass"
   ]
  },
  {
   "cell_type": "code",
   "execution_count": 3,
   "metadata": {},
   "outputs": [],
   "source": [
    "# Exemplo 1\n",
    "restaurantes_1 = [[1, 3, 5], [2, 4, 0], [3, 3, 3], [1, 6, 6]]\n",
    "maria = [0, 1, 2]\n",
    "# Resultado = 1\n",
    "\n",
    "# Exemplo 2\n",
    "restaurantes_2 = [[0.86617615, 0.60111501, 0.70807258, 0.02058449, 0.96990985, 0.83244264, 0.21233911],\n",
    "                [0.18182497, 0.18340451, 0.30424224, 0.52475643, 0.43194502, 0.29122914, 0.61185289],\n",
    "                [0.13949386, 0.29214465, 0.36636184, 0.45606998, 0.78517596, 0.19967378, 0.51423444],\n",
    "                [0.59241457, 0.04645041, 0.60754485, 0.17052412, 0.06505159, 0.94888554, 0.96563203]]\n",
    "joao = [[0.37454012, 0.95071431, 0.73199394, 0.59865848, 0.15601864, 0.15599452, 0.05808361]]\n",
    "# Resultado = 2"
   ]
  },
  {
   "cell_type": "code",
   "execution_count": null,
   "metadata": {},
   "outputs": [],
   "source": [
    "print(\"Restaurante mais próxima da casa de Maria:\", restaurantes_mais_proximos(maria, restaurantes_1))\n",
    "print(\"Restaurante mais próxima da casa de João:\", restaurantes_mais_proximos(joao, restaurantes_2))"
   ]
  },
  {
   "cell_type": "markdown",
   "metadata": {},
   "source": [
    "## Odd or even\n",
    "Data: 08/02/2024. De: Practice Python. Link(https://www.practicepython.org/exercise/2014/02/05/02-odd-or-even.html)\n",
    "\n",
    "## Descrição\n",
    "Peça ao usuário um número. Dependendo se o número é par ou ímpar, imprima uma mensagem apropriada para o usuário. Dica: como um número par / ímpar reage de maneira diferente quando dividido por 2?\n",
    "## Extras\n",
    "Se o número for múltiplo de 4, imprima uma mensagem diferente.\n",
    "Peça ao usuário dois números: um número para verificar (chame-o de num) e um número para dividir por (check). Se o check dividir igualmente num, informe isso ao usuário. Se não, imprima uma mensagem apropriada diferente.\n"
   ]
  },
  {
   "cell_type": "markdown",
   "metadata": {},
   "source": [
    "## Minha solução"
   ]
  },
  {
   "cell_type": "code",
   "execution_count": null,
   "metadata": {},
   "outputs": [],
   "source": []
  }
 ],
 "metadata": {
  "kernelspec": {
   "display_name": "Python 3",
   "language": "python",
   "name": "python3"
  },
  "language_info": {
   "codemirror_mode": {
    "name": "ipython",
    "version": 3
   },
   "file_extension": ".py",
   "mimetype": "text/x-python",
   "name": "python",
   "nbconvert_exporter": "python",
   "pygments_lexer": "ipython3",
   "version": "3.11.4"
  }
 },
 "nbformat": 4,
 "nbformat_minor": 2
}
