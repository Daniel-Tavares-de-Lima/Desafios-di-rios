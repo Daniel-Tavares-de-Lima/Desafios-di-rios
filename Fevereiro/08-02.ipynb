{
 "cells": [
  {
   "cell_type": "markdown",
   "metadata": {},
   "source": [
    "## Character input\n",
    "\n",
    "Data: 08/02/2024. De: Practice Python. Link(https://www.practicepython.org/exercise/2014/01/29/01-character-input.html)\n",
    "\n",
    "## Descrição\n",
    "Crie um programa que peça ao usuário para inserir seu nome e sua idade. Imprima uma mensagem endereçada a eles que informe o ano em que eles completarão 100 anos. Observação: para este exercício, espera-se que você escreva explicitamente o ano (e, portanto, fique desatualizado no próximo ano).\n",
    "## Extras\n",
    "Adicione ao programa anterior pedindo ao usuário outro número e imprimindo tantas cópias da mensagem anterior. (Dica: a ordem das operações existe em Python)\n",
    "Imprima tantas cópias da mensagem anterior em linhas separadas. (Dica: a string \"\\n é o mesmo que pressionar o botão ENTER)\n"
   ]
  },
  {
   "cell_type": "markdown",
   "metadata": {},
   "source": [
    "## Minha solução"
   ]
  },
  {
   "cell_type": "code",
   "execution_count": null,
   "metadata": {},
   "outputs": [],
   "source": []
  },
  {
   "cell_type": "markdown",
   "metadata": {},
   "source": [
    "## Odd or even\n",
    "Data: 08/02/2024. De: Practice Python. Link(https://www.practicepython.org/exercise/2014/02/05/02-odd-or-even.html)\n",
    "\n",
    "## Descrição\n",
    "Peça ao usuário um número. Dependendo se o número é par ou ímpar, imprima uma mensagem apropriada para o usuário. Dica: como um número par / ímpar reage de maneira diferente quando dividido por 2?\n",
    "## Extras\n",
    "Se o número for múltiplo de 4, imprima uma mensagem diferente.\n",
    "Peça ao usuário dois números: um número para verificar (chame-o de num) e um número para dividir por (check). Se o check dividir igualmente num, informe isso ao usuário. Se não, imprima uma mensagem apropriada diferente.\n"
   ]
  },
  {
   "cell_type": "markdown",
   "metadata": {},
   "source": [
    "## Minha solução"
   ]
  },
  {
   "cell_type": "code",
   "execution_count": null,
   "metadata": {},
   "outputs": [],
   "source": []
  }
 ],
 "metadata": {
  "language_info": {
   "name": "python"
  }
 },
 "nbformat": 4,
 "nbformat_minor": 2
}
