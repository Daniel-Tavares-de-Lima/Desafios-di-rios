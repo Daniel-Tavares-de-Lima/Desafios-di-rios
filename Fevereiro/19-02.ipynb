{
 "cells": [
  {
   "cell_type": "markdown",
   "metadata": {},
   "source": [
    "# Escrever em um arquivo\n",
    "Data: 19/02/2024. De: Practice Python. Link(https://www.practicepython.org/exercise/2014/11/30/21-write-to-a-file.html)\n",
    "\n",
    "# Descrição\n",
    "Pegue o código do exercício How To Decode A Website e, em vez de imprimir os resultados na tela, escreva os resultados em um arquivo txt. No seu código, apenas invente um nome para o arquivo que você está salvando.\n",
    "# Extras\n",
    "Peça ao usuário para especificar o nome do arquivo de saída que será salvo."
   ]
  },
  {
   "cell_type": "markdown",
   "metadata": {},
   "source": [
    "# Minha solução"
   ]
  },
  {
   "cell_type": "code",
   "execution_count": 1,
   "metadata": {},
   "outputs": [],
   "source": [
    "import requests\n",
    "from requests import HTTPError\n",
    "from bs4 import BeautifulSoup\n",
    "import json"
   ]
  },
  {
   "cell_type": "code",
   "execution_count": 3,
   "metadata": {},
   "outputs": [
    {
     "name": "stdout",
     "output_type": "stream",
     "text": [
      "Os resultados foram salvos em 'Banana.txt'.\n"
     ]
    }
   ],
   "source": [
    "url = \"https://www.vanityfair.com/style/society/2014/06/monica-lewinsky-humiliation-culture\"\n",
    "\n",
    "try:\n",
    "    response = requests.get(url)\n",
    "    response.raise_for_status()\n",
    "except HTTPError as http_error:\n",
    "    print(f\"A HTTP error happened. {http_error}\")\n",
    "\n",
    "content = response.content\n",
    "soup = BeautifulSoup(content, \"html.parser\")\n",
    "\n",
    "# Solicitar ao usuário o nome do arquivo de saída\n",
    "nome_arquivo = input(\"Digite o nome do arquivo de saída (inclua .txt): \")\n",
    "\n",
    "# Escrever os resultados em um arquivo de texto\n",
    "with open(nome_arquivo, \"w\", encoding=\"utf-8\") as arquivo:\n",
    "    for d in soup.find(\"script\", attrs={\"type\": \"application/ld+json\"}):\n",
    "        arquivo.write(json.loads(d)[\"articleBody\"])\n",
    "\n",
    "print(f\"Os resultados foram salvos em '{nome_arquivo}'.\")"
   ]
  },
  {
   "cell_type": "code",
   "execution_count": null,
   "metadata": {},
   "outputs": [],
   "source": []
  }
 ],
 "metadata": {
  "kernelspec": {
   "display_name": "Python 3",
   "language": "python",
   "name": "python3"
  },
  "language_info": {
   "codemirror_mode": {
    "name": "ipython",
    "version": 3
   },
   "file_extension": ".py",
   "mimetype": "text/x-python",
   "name": "python",
   "nbconvert_exporter": "python",
   "pygments_lexer": "ipython3",
   "version": "3.11.4"
  }
 },
 "nbformat": 4,
 "nbformat_minor": 2
}
