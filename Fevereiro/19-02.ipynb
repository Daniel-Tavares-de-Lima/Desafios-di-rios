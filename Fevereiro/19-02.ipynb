{
 "cells": [
  {
   "cell_type": "markdown",
   "metadata": {},
   "source": [
    "# Escrever em um arquivo\n",
    "Data: 19/02/2024. De: Practice Python. Link(https://www.practicepython.org/exercise/2014/11/30/21-write-to-a-file.html)\n",
    "\n",
    "# Descrição\n",
    "Pegue o código do exercício How To Decode A Website e, em vez de imprimir os resultados na tela, escreva os resultados em um arquivo txt. No seu código, apenas invente um nome para o arquivo que você está salvando.\n",
    "# Extras\n",
    "Peça ao usuário para especificar o nome do arquivo de saída que será salvo."
   ]
  },
  {
   "cell_type": "markdown",
   "metadata": {},
   "source": [
    "# Minha solução"
   ]
  },
  {
   "cell_type": "code",
   "execution_count": null,
   "metadata": {},
   "outputs": [],
   "source": []
  }
 ],
 "metadata": {
  "language_info": {
   "name": "python"
  }
 },
 "nbformat": 4,
 "nbformat_minor": 2
}
