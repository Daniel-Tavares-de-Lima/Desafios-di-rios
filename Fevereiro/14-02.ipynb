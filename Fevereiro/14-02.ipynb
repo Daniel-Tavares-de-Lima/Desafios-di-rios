{
 "cells": [
  {
   "cell_type": "markdown",
   "metadata": {},
   "source": [
    "# Vacas e Touros\n",
    "Data: 14/02/2024. De: Practice Python. Link(https://www.practicepython.org/exercise/2014/07/05/18-cows-and-bulls.html)\n",
    "\n",
    "## Descrição\n",
    "Crie um programa que jogará o jogo \"vacas e touros\" com o usuário. O jogo funciona da seguinte maneira:\n",
    "\n",
    "Gere aleatoriamente um número de 4 dígitos. Peça ao usuário para adivinhar um número de 4 dígitos. Para cada dígito que o usuário adivinhar corretamente no lugar correto, eles têm uma \"vaca\". Para cada dígito que o usuário adivinhar corretamente no lugar errado, é um \"touro\". Cada vez que o usuário faz uma suposição, informe a eles quantas \"vacas\" e \"touros\" eles têm. Uma vez que o usuário adivinhe o número correto, o jogo acaba. Mantenha o controle do número de suposições que o usuário faz ao longo do jogo e informe o usuário no final.\n",
    "\n",
    "Suponha que o número gerado pelo computador seja 1038. Uma interação de exemplo poderia ser assim:\n",
    "\n",
    "Bem-vindo ao Jogo das Vacas e Touros!\n",
    "Digite um número:\n",
    "\n",
    "1234\n",
    "2 vacas, 0 touros\n",
    "1256\n",
    "1 vaca, 1 touro\n",
    "...\n",
    "Até que o usuário adivinhe o número."
   ]
  },
  {
   "cell_type": "markdown",
   "metadata": {},
   "source": [
    "# Minha solução"
   ]
  },
  {
   "cell_type": "code",
   "execution_count": null,
   "metadata": {},
   "outputs": [],
   "source": []
  }
 ],
 "metadata": {
  "language_info": {
   "name": "python"
  }
 },
 "nbformat": 4,
 "nbformat_minor": 2
}
