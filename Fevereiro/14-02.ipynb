{
 "cells": [
  {
   "cell_type": "markdown",
   "metadata": {},
   "source": [
    "# Vacas e Touros\n",
    "Data: 14/02/2024. De: Practice Python. Link(https://www.practicepython.org/exercise/2014/07/05/18-cows-and-bulls.html)\n",
    "\n",
    "## Descrição\n",
    "Crie um programa que jogará o jogo \"vacas e touros\" com o usuário. O jogo funciona da seguinte maneira:\n",
    "\n",
    "Gere aleatoriamente um número de 4 dígitos. Peça ao usuário para adivinhar um número de 4 dígitos. Para cada dígito que o usuário adivinhar corretamente no lugar correto, eles têm uma \"vaca\". Para cada dígito que o usuário adivinhar corretamente no lugar errado, é um \"touro\". Cada vez que o usuário faz uma suposição, informe a eles quantas \"vacas\" e \"touros\" eles têm. Uma vez que o usuário adivinhe o número correto, o jogo acaba. Mantenha o controle do número de suposições que o usuário faz ao longo do jogo e informe o usuário no final.\n",
    "\n",
    "Suponha que o número gerado pelo computador seja 1038. Uma interação de exemplo poderia ser assim:\n",
    "\n",
    "Bem-vindo ao Jogo das Vacas e Touros!\n",
    "Digite um número:\n",
    "\n",
    "1234\n",
    "2 vacas, 0 touros\n",
    "1256\n",
    "1 vaca, 1 touro\n",
    "...\n",
    "Até que o usuário adivinhe o número."
   ]
  },
  {
   "cell_type": "markdown",
   "metadata": {},
   "source": [
    "# Minha solução"
   ]
  },
  {
   "cell_type": "code",
   "execution_count": 4,
   "metadata": {},
   "outputs": [
    {
     "name": "stdout",
     "output_type": "stream",
     "text": [
      "[]\n",
      "Bem vindo ao Jogo das Vacas e Touros!\n",
      "1 vacas, 1 touros\n",
      "1 vacas, 1 touros\n",
      "1 vacas, 1 touros\n",
      "1 vacas, 1 touros\n",
      "0 vacas, 1 touros\n",
      "0 vacas, 0 touros\n",
      "Saindo...\n"
     ]
    }
   ],
   "source": [
    "import random\n",
    "\n",
    "numeros = []\n",
    "index = 0\n",
    "\n",
    "def gerarNumeros():\n",
    "    return \"\".join(random.sample(\"0123456789\", 4))\n",
    "    \n",
    "    \n",
    "\n",
    "print(numeros)\n",
    "\n",
    "\n",
    "def vacasTouros(numeroSecreto, num):\n",
    "    vacas = 0\n",
    "    touros = 0\n",
    "    for i in range(len(numeroSecreto)):\n",
    "        if numeroSecreto[i] == num[i]:\n",
    "            vacas += 1\n",
    "        elif num[i] in numeroSecreto:\n",
    "            touros += 1\n",
    "    return vacas, touros\n",
    "\n",
    "print(\"Bem vindo ao Jogo das Vacas e Touros!\")\n",
    "numerosSecretos = gerarNumeros()\n",
    "tentativas = 0\n",
    "\n",
    "while True:\n",
    "    pergunta = input(\"Digite um numero de 4 digitos: \")\n",
    "\n",
    "    if pergunta.lower() == \"sair\":\n",
    "        print(\"Saindo...\")\n",
    "        break\n",
    "\n",
    "    if len(pergunta) != 4 or not pergunta.isdigit():\n",
    "        print(\"Digite um numero de 4 digitos.\")\n",
    "        continue\n",
    "\n",
    "    vacas, touros = vacasTouros(numerosSecretos, pergunta)\n",
    "    tentativas += 1\n",
    "\n",
    "    print(f\"{vacas} vacas, {touros} touros\")\n",
    "\n",
    "    if vacas == 4:\n",
    "        print(f\"Parabéns! Voce acertou o número {numerosSecretos} em {tentativas} tentativas.\")\n",
    "        break\n",
    "\n",
    "\n",
    "\n",
    "\n",
    "    "
   ]
  },
  {
   "cell_type": "code",
   "execution_count": null,
   "metadata": {},
   "outputs": [],
   "source": []
  }
 ],
 "metadata": {
  "kernelspec": {
   "display_name": "Python 3",
   "language": "python",
   "name": "python3"
  },
  "language_info": {
   "codemirror_mode": {
    "name": "ipython",
    "version": 3
   },
   "file_extension": ".py",
   "mimetype": "text/x-python",
   "name": "python",
   "nbconvert_exporter": "python",
   "pygments_lexer": "ipython3",
   "version": "3.11.4"
  }
 },
 "nbformat": 4,
 "nbformat_minor": 2
}
