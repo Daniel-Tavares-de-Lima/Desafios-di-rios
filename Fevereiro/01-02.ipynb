{
 "cells": [
  {
   "cell_type": "markdown",
   "metadata": {},
   "source": [
    "## Lista de Strings\n",
    "\n",
    "Data: 01/02/2024. De: Practice Python. Link(https://www.practicepython.org/exercise/2014/03/12/06-string-lists.html)\n",
    "\n",
    "Descrição: \n",
    "\n",
    "Peça ao usuário uma string e imprima se essa string é um palíndromo ou não. "
   ]
  },
  {
   "cell_type": "markdown",
   "metadata": {},
   "source": [
    "## Minha solução"
   ]
  },
  {
   "cell_type": "code",
   "execution_count": null,
   "metadata": {},
   "outputs": [],
   "source": []
  },
  {
   "cell_type": "markdown",
   "metadata": {},
   "source": [
    "## Lista de números pares\n",
    "\n",
    "Data: 01/02/2024. De: Practice Python. Link(https://www.practicepython.org/exercise/2014/03/19/07-list-comprehensions.html)\n",
    "\n",
    "## Descrição\n",
    "\n",
    "Vamos dizer que eu te forneça uma lista armazenada em uma variável: a = [1, 4, 9, 16, 25, 36, 49, 64, 81, 100]. Escreva uma linha de Python que pegue esta lista a e crie uma nova lista contendo apenas os elementos pares desta lista.\n"
   ]
  },
  {
   "cell_type": "markdown",
   "metadata": {},
   "source": [
    "## Minha solução"
   ]
  },
  {
   "cell_type": "code",
   "execution_count": null,
   "metadata": {},
   "outputs": [],
   "source": []
  }
 ],
 "metadata": {
  "language_info": {
   "name": "python"
  }
 },
 "nbformat": 4,
 "nbformat_minor": 2
}
