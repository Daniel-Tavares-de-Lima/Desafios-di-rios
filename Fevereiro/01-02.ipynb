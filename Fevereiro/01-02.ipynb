{
 "cells": [
  {
   "cell_type": "markdown",
   "metadata": {},
   "source": [
    "## Lista de Strings\n",
    "\n",
    "Data: 01/02/2024. De: Practice Python. Link(https://www.practicepython.org/exercise/2014/03/12/06-string-lists.html)\n",
    "\n",
    "Descrição: \n",
    "\n",
    "Peça ao usuário uma string e imprima se essa string é um palíndromo ou não. "
   ]
  },
  {
   "cell_type": "markdown",
   "metadata": {},
   "source": [
    "## Minha solução"
   ]
  },
  {
   "cell_type": "code",
   "execution_count": null,
   "metadata": {},
   "outputs": [],
   "source": []
  },
  {
   "cell_type": "markdown",
   "metadata": {},
   "source": [
    "## Lista de números pares\n",
    "\n",
    "Data: 01/02/2024. De: Practice Python. Link(https://www.practicepython.org/exercise/2014/03/19/07-list-comprehensions.html)\n",
    "\n",
    "## Descrição\n",
    "\n",
    "Vamos dizer que eu te forneça uma lista armazenada em uma variável: a = [1, 4, 9, 16, 25, 36, 49, 64, 81, 100]. Escreva uma linha de Python que pegue esta lista a e crie uma nova lista contendo apenas os elementos pares desta lista.\n"
   ]
  },
  {
   "cell_type": "markdown",
   "metadata": {},
   "source": [
    "## Minha solução"
   ]
  },
  {
   "cell_type": "code",
   "execution_count": null,
   "metadata": {},
   "outputs": [],
   "source": []
  },
  {
   "cell_type": "markdown",
   "metadata": {},
   "source": [
    "## Compreensões de sobreposição de listas\n",
    "\n",
    "Data: 01/02/2024. De: Practice Python. Link(https://www.practicepython.org/exercise/2014/04/10/10-list-overlap-comprehensions.html)\n",
    "\n",
    "## Descrição\n",
    "O exercício desta semana será revisitar um exercício antigo (veja o Exercício 5), mas exigirá a solução de uma maneira diferente.\n",
    "\n",
    "Pegue duas listas, como por exemplo estas duas:\n",
    "\n",
    "a = [1, 1, 2, 3, 5, 8, 13, 21, 34, 55, 89]\n",
    "b = [1, 2, 3, 4, 5, 6, 7, 8, 9, 10, 11, 12, 13]\n",
    "e escreva um programa que retorne uma lista que contenha apenas os elementos que são comuns entre as listas (sem duplicatas). Certifique-se de que seu programa funcione com duas listas de tamanhos diferentes. Escreva isso usando pelo menos uma compreensão de lista.\n",
    "\n",
    "Extra\n",
    "\n",
    "Gere aleatoriamente duas listas para testar isso.\n"
   ]
  },
  {
   "cell_type": "markdown",
   "metadata": {},
   "source": [
    "## Minha solução"
   ]
  },
  {
   "cell_type": "code",
   "execution_count": null,
   "metadata": {},
   "outputs": [],
   "source": []
  }
 ],
 "metadata": {
  "language_info": {
   "name": "python"
  }
 },
 "nbformat": 4,
 "nbformat_minor": 2
}
