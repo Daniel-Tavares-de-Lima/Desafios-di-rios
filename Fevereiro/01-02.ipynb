{
 "cells": [
  {
   "cell_type": "markdown",
   "metadata": {},
   "source": [
    "## Lista de Strings\n",
    "\n",
    "Data: 01/02/2024. De: Practice Python. Link(https://www.practicepython.org/exercise/2014/03/12/06-string-lists.html)\n",
    "\n",
    "Descrição: \n",
    "\n",
    "Peça ao usuário uma string e imprima se essa string é um palíndromo ou não. "
   ]
  },
  {
   "cell_type": "markdown",
   "metadata": {},
   "source": [
    "## Minha solução"
   ]
  },
  {
   "cell_type": "code",
   "execution_count": 3,
   "metadata": {},
   "outputs": [
    {
     "name": "stdout",
     "output_type": "stream",
     "text": [
      "A palavra é um palíndromo\n"
     ]
    }
   ],
   "source": [
    "def palindromo(str):\n",
    "\n",
    "    ##Limpeza dos dados, remove os espaços e coloca tudo em minúsculo\n",
    "    limpStr = \"\".join(str.split()).lower()\n",
    "\n",
    "    return limpStr == limpStr[::-1]\n",
    "\n",
    "palavra = input(\"Digite uma palavra: \")\n",
    "\n",
    "if palindromo(palavra):\n",
    "    print(\"A palavra é um palíndromo\")\n",
    "\n",
    "else:\n",
    "    print(\"A palavra não é um palíndromo\")"
   ]
  },
  {
   "cell_type": "markdown",
   "metadata": {},
   "source": [
    "## Lista de números pares\n",
    "\n",
    "Data: 01/02/2024. De: Practice Python. Link(https://www.practicepython.org/exercise/2014/03/19/07-list-comprehensions.html)\n",
    "\n",
    "## Descrição\n",
    "\n",
    "Vamos dizer que eu te forneça uma lista armazenada em uma variável: a = [1, 4, 9, 16, 25, 36, 49, 64, 81, 100]. Escreva uma linha de Python que pegue esta lista a e crie uma nova lista contendo apenas os elementos pares desta lista.\n"
   ]
  },
  {
   "cell_type": "markdown",
   "metadata": {},
   "source": [
    "## Minha solução"
   ]
  },
  {
   "cell_type": "code",
   "execution_count": 7,
   "metadata": {},
   "outputs": [
    {
     "name": "stdout",
     "output_type": "stream",
     "text": [
      "[0, 2, 4, 6, 8, 10, 12, 14, 16, 18, 20, 22, 24, 26, 28, 30, 32, 34, 36, 38, 40, 42, 44, 46, 48, 50, 52, 54, 56, 58, 60, 62, 64, 66, 68, 70, 72, 74, 76, 78, 80, 82, 84, 86, 88, 90, 92, 94, 96, 98, 100]\n"
     ]
    }
   ],
   "source": [
    "a = list(range(101))\n",
    "\n",
    "numerosPares = [num for num in a if num % 2 == 0]\n",
    "\n",
    "print(numerosPares)"
   ]
  },
  {
   "cell_type": "markdown",
   "metadata": {},
   "source": [
    "## Compreensões de sobreposição de listas\n",
    "\n",
    "Data: 01/02/2024. De: Practice Python. Link(https://www.practicepython.org/exercise/2014/04/10/10-list-overlap-comprehensions.html)\n",
    "\n",
    "## Descrição\n",
    "O exercício desta semana será revisitar um exercício antigo (veja o Exercício 5), mas exigirá a solução de uma maneira diferente.\n",
    "\n",
    "Pegue duas listas, como por exemplo estas duas:\n",
    "\n",
    "a = [1, 1, 2, 3, 5, 8, 13, 21, 34, 55, 89]\n",
    "b = [1, 2, 3, 4, 5, 6, 7, 8, 9, 10, 11, 12, 13]\n",
    "e escreva um programa que retorne uma lista que contenha apenas os elementos que são comuns entre as listas (sem duplicatas). Certifique-se de que seu programa funcione com duas listas de tamanhos diferentes. Escreva isso usando pelo menos uma compreensão de lista.\n",
    "\n",
    "Extra\n",
    "\n",
    "Gere aleatoriamente duas listas para testar isso.\n"
   ]
  },
  {
   "cell_type": "markdown",
   "metadata": {},
   "source": [
    "## Minha solução"
   ]
  },
  {
   "cell_type": "code",
   "execution_count": null,
   "metadata": {},
   "outputs": [],
   "source": []
  }
 ],
 "metadata": {
  "kernelspec": {
   "display_name": "Python 3",
   "language": "python",
   "name": "python3"
  },
  "language_info": {
   "codemirror_mode": {
    "name": "ipython",
    "version": 3
   },
   "file_extension": ".py",
   "mimetype": "text/x-python",
   "name": "python",
   "nbconvert_exporter": "python",
   "pygments_lexer": "ipython3",
   "version": "3.11.4"
  }
 },
 "nbformat": 4,
 "nbformat_minor": 2
}
