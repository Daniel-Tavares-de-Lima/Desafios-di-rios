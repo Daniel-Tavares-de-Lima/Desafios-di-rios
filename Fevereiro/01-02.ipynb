{
 "cells": [
  {
   "cell_type": "markdown",
   "metadata": {},
   "source": [
    "## Lista de Strings\n",
    "\n",
    "Data: 01/02/2024. De: Practice Python. Link(https://www.practicepython.org/exercise/2014/03/12/06-string-lists.html)\n",
    "\n",
    "Descrição: \n",
    "\n",
    "Peça ao usuário uma string e imprima se essa string é um palíndromo ou não. "
   ]
  },
  {
   "cell_type": "markdown",
   "metadata": {},
   "source": [
    "## Minha solução"
   ]
  },
  {
   "cell_type": "code",
   "execution_count": null,
   "metadata": {},
   "outputs": [],
   "source": []
  }
 ],
 "metadata": {
  "language_info": {
   "name": "python"
  }
 },
 "nbformat": 4,
 "nbformat_minor": 2
}
