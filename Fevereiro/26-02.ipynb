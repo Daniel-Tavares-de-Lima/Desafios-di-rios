{
 "cells": [
  {
   "cell_type": "markdown",
   "metadata": {},
   "source": [
    "# Empate no jogo da velha\n",
    "Data: 26/02/2024. De: Practice Python. Link(https://www.practicepython.org/exercise/2015/11/26/27-tic-tac-toe-draw.html)\n",
    "# Descrição\n",
    "Em um exercício anterior, exploramos a ideia de usar uma lista de listas como uma \"estrutura de dados\" para armazenar informações sobre um jogo da velha. Em um jogo da velha, o \"servidor do jogo\" precisa saber onde estão os Xs e Os no tabuleiro, para saber se o jogador 1 ou o jogador 2 (ou quem quer que seja X e O) ganhou.\n",
    "\n",
    "Também houve um exercício sobre desenhar o tabuleiro real do jogo da velha usando caracteres de texto.\n",
    "\n",
    "O próximo passo lógico é lidar com a manipulação da entrada do usuário. Quando um jogador (digamos, o jogador 1, que é X) quer colocar um X na tela, ele não pode simplesmente clicar em um terminal. Então vamos aproximar esse clique simplesmente pedindo ao usuário uma coordenada de onde eles querem colocar sua peça.\n",
    "\n",
    "Como lembrete, nosso jogo da velha é realmente uma lista de listas. O jogo começa com um tabuleiro vazio como este:\n",
    "\n",
    "jogo = [[0, 0, 0],\n",
    "[0, 0, 0],\n",
    "[0, 0, 0]]\n",
    "O computador pergunta ao Jogador 1 (X) qual é o movimento deles (no formato linha, coluna), e digamos que eles digitam 1,3. Então o jogo imprimiria\n",
    "\n",
    "jogo = [[0, 0, \"X\"],\n",
    "[0, 0, 0],\n",
    "[0, 0, 0]]\n",
    "E pediria ao Jogador 2 seu movimento, imprimindo um O naquele lugar.\n",
    "\n",
    "Coisas a observar\n",
    "\n",
    "Para este exercício, suponha que o jogador 1 (o primeiro jogador a se mover) sempre será X e o jogador 2 (o segundo jogador) sempre será O. Observe como no exemplo que dei, eu dei coordenadas de onde eu quero começar a me mover a partir de (1, 1) em vez de (0, 0). Para pessoas que não programam, começar a contar em 0 é um conceito estranho, então é melhor para a experiência do usuário se as contagens de linha e coluna começarem em 1. Isso não é obrigatório, mas de qualquer maneira que você escolha implementar isso, deve ser explicado ao jogador.\n",
    "\n",
    "Peça ao usuário para inserir coordenadas no formato \"linha, coluna\" - um número, depois uma vírgula, depois um número. Então você pode usar suas habilidades em Python para descobrir em qual linha e coluna eles querem que sua peça esteja.\n",
    "\n",
    "Não se preocupe em verificar se alguém ganhou o jogo, mas se um jogador tentar colocar uma peça em uma posição do jogo onde já houver outra peça, não permita que a peça vá para lá.\n",
    "\n",
    "Bônus\n",
    "\n",
    "Para o exercício \"padrão\", não se preocupe em \"terminar\" o jogo - não é necessário acompanhar quantos quadrados estão preenchidos. Em uma versão bônus, acompanhe quantos quadrados estão preenchidos e pare automaticamente de pedir movimentos quando não houver mais movimentos válidos.\n"
   ]
  },
  {
   "cell_type": "markdown",
   "metadata": {},
   "source": [
    "# Minha solução"
   ]
  },
  {
   "cell_type": "code",
   "execution_count": null,
   "metadata": {},
   "outputs": [],
   "source": []
  }
 ],
 "metadata": {
  "language_info": {
   "name": "python"
  }
 },
 "nbformat": 4,
 "nbformat_minor": 2
}
