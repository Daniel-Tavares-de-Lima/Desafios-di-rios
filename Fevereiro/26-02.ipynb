{
 "cells": [
  {
   "cell_type": "markdown",
   "metadata": {},
   "source": [
    "# Empate no jogo da velha\n",
    "Data: 26/02/2024. De: Practice Python. Link(https://www.practicepython.org/exercise/2015/11/26/27-tic-tac-toe-draw.html)\n",
    "# Descrição\n",
    "Em um exercício anterior, exploramos a ideia de usar uma lista de listas como uma \"estrutura de dados\" para armazenar informações sobre um jogo da velha. Em um jogo da velha, o \"servidor do jogo\" precisa saber onde estão os Xs e Os no tabuleiro, para saber se o jogador 1 ou o jogador 2 (ou quem quer que seja X e O) ganhou.\n",
    "\n",
    "Também houve um exercício sobre desenhar o tabuleiro real do jogo da velha usando caracteres de texto.\n",
    "\n",
    "O próximo passo lógico é lidar com a manipulação da entrada do usuário. Quando um jogador (digamos, o jogador 1, que é X) quer colocar um X na tela, ele não pode simplesmente clicar em um terminal. Então vamos aproximar esse clique simplesmente pedindo ao usuário uma coordenada de onde eles querem colocar sua peça.\n",
    "\n",
    "Como lembrete, nosso jogo da velha é realmente uma lista de listas. O jogo começa com um tabuleiro vazio como este:\n",
    "\n",
    "jogo = [[0, 0, 0],\n",
    "[0, 0, 0],\n",
    "[0, 0, 0]]\n",
    "O computador pergunta ao Jogador 1 (X) qual é o movimento deles (no formato linha, coluna), e digamos que eles digitam 1,3. Então o jogo imprimiria\n",
    "\n",
    "jogo = [[0, 0, \"X\"],\n",
    "[0, 0, 0],\n",
    "[0, 0, 0]]\n",
    "E pediria ao Jogador 2 seu movimento, imprimindo um O naquele lugar.\n",
    "\n",
    "Coisas a observar\n",
    "\n",
    "Para este exercício, suponha que o jogador 1 (o primeiro jogador a se mover) sempre será X e o jogador 2 (o segundo jogador) sempre será O. Observe como no exemplo que dei, eu dei coordenadas de onde eu quero começar a me mover a partir de (1, 1) em vez de (0, 0). Para pessoas que não programam, começar a contar em 0 é um conceito estranho, então é melhor para a experiência do usuário se as contagens de linha e coluna começarem em 1. Isso não é obrigatório, mas de qualquer maneira que você escolha implementar isso, deve ser explicado ao jogador.\n",
    "\n",
    "Peça ao usuário para inserir coordenadas no formato \"linha, coluna\" - um número, depois uma vírgula, depois um número. Então você pode usar suas habilidades em Python para descobrir em qual linha e coluna eles querem que sua peça esteja.\n",
    "\n",
    "Não se preocupe em verificar se alguém ganhou o jogo, mas se um jogador tentar colocar uma peça em uma posição do jogo onde já houver outra peça, não permita que a peça vá para lá.\n",
    "\n",
    "Bônus\n",
    "\n",
    "Para o exercício \"padrão\", não se preocupe em \"terminar\" o jogo - não é necessário acompanhar quantos quadrados estão preenchidos. Em uma versão bônus, acompanhe quantos quadrados estão preenchidos e pare automaticamente de pedir movimentos quando não houver mais movimentos válidos.\n"
   ]
  },
  {
   "cell_type": "markdown",
   "metadata": {},
   "source": [
    "# Minha solução"
   ]
  },
  {
   "cell_type": "code",
   "execution_count": 1,
   "metadata": {},
   "outputs": [
    {
     "name": "stdout",
     "output_type": "stream",
     "text": [
      "0 | 0 | 0\n",
      "---------\n",
      "0 | 0 | 0\n",
      "---------\n",
      "0 | 0 | 0\n",
      "---------\n",
      "Entrada inválida. Por favor, insira dois números separados por uma vírgula.\n",
      "0 | X | 0\n",
      "---------\n",
      "0 | 0 | 0\n",
      "---------\n",
      "0 | 0 | 0\n",
      "---------\n",
      "0 | X | O\n",
      "---------\n",
      "0 | 0 | 0\n",
      "---------\n",
      "0 | 0 | 0\n",
      "---------\n",
      "Posição já ocupada. Tente novamente.\n"
     ]
    }
   ],
   "source": [
    "def desenhar_tabuleiro(jogo):\n",
    "    for linha in jogo:\n",
    "        print(\" | \".join(map(str, linha)))\n",
    "        print(\"-\" * 9)\n",
    "\n",
    "def validar_jogada(jogo, linha, coluna):\n",
    "    if jogo[linha - 1][coluna - 1] == 0:\n",
    "        return True\n",
    "    else:\n",
    "        return False\n",
    "\n",
    "def realizar_jogada(jogo, jogador, linha, coluna):\n",
    "    jogo[linha - 1][coluna - 1] = jogador\n",
    "\n",
    "def main():\n",
    "    jogo = [[0, 0, 0],\n",
    "            [0, 0, 0],\n",
    "            [0, 0, 0]]\n",
    "\n",
    "    jogadores = {1: \"X\", 2: \"O\"}\n",
    "    jogador_atual = 1\n",
    "\n",
    "    desenhar_tabuleiro(jogo)\n",
    "\n",
    "    for _ in range(9):\n",
    "        while True:\n",
    "            try:\n",
    "                linha, coluna = map(int, input(f\"Jogador {jogador_atual}, insira a linha e coluna da sua jogada (formato linha, coluna): \").split(\",\"))\n",
    "                if 1 <= linha <= 3 and 1 <= coluna <= 3:\n",
    "                    if validar_jogada(jogo, linha, coluna):\n",
    "                        realizar_jogada(jogo, jogadores[jogador_atual], linha, coluna)\n",
    "                        break\n",
    "                    else:\n",
    "                        print(\"Posição já ocupada. Tente novamente.\")\n",
    "                else:\n",
    "                    print(\"Coordenadas inválidas. Tente novamente.\")\n",
    "            except ValueError:\n",
    "                print(\"Entrada inválida. Por favor, insira dois números separados por uma vírgula.\")\n",
    "\n",
    "        desenhar_tabuleiro(jogo)\n",
    "\n",
    "        # Alternar para o próximo jogador\n",
    "        jogador_atual = 2 if jogador_atual == 1 else 1\n",
    "\n",
    "if __name__ == \"__main__\":\n",
    "    main()"
   ]
  },
  {
   "cell_type": "code",
   "execution_count": null,
   "metadata": {},
   "outputs": [],
   "source": []
  }
 ],
 "metadata": {
  "kernelspec": {
   "display_name": "Python 3",
   "language": "python",
   "name": "python3"
  },
  "language_info": {
   "codemirror_mode": {
    "name": "ipython",
    "version": 3
   },
   "file_extension": ".py",
   "mimetype": "text/x-python",
   "name": "python",
   "nbconvert_exporter": "python",
   "pygments_lexer": "ipython3",
   "version": "3.11.4"
  }
 },
 "nbformat": 4,
 "nbformat_minor": 2
}
