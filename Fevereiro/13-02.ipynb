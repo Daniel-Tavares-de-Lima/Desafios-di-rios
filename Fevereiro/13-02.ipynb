{
 "cells": [
  {
   "cell_type": "markdown",
   "metadata": {},
   "source": [
    "# Decode a web page\n",
    "Data 13/02/2024. De: Practice Python. Link(https://www.practicepython.org/exercise/2014/06/06/17-decode-a-web-page.html)\n",
    "\n",
    "# Descrição\n",
    "Nota: este é um exercício de 4-chili, não porque introduz um conceito (embora introduza uma nova biblioteca), mas porque este exercício é mais como um projeto.\n",
    "\n",
    "Use os pacotes Python BeautifulSoup e requests para imprimir uma lista de todos os títulos dos artigos na página inicial do New York Times(https://www.nytimes.com).\n"
   ]
  },
  {
   "cell_type": "code",
   "execution_count": 1,
   "metadata": {},
   "outputs": [],
   "source": [
    "from pprint import pprint\n",
    "import requests\n",
    "from bs4 import BeautifulSoup\n"
   ]
  },
  {
   "cell_type": "code",
   "execution_count": 2,
   "metadata": {},
   "outputs": [
    {
     "name": "stdout",
     "output_type": "stream",
     "text": [
      "['A 30-Second Kennedy Ad Collides With a Decades-Long Family Legacy',\n",
      " 'A Shipwreck Is Found in Lake Superior. Its Captain’s Behavior Remains a '\n",
      " 'Mystery.',\n",
      " 'A Tunnel Offers Clues to How Hamas Uses Gaza’s Hospitals',\n",
      " 'A ‘Democracy Party’ Like No Other: One of the World’s Biggest Elections',\n",
      " 'Biden’s Age Is a Campaign Problem, Not a Governing One',\n",
      " 'Bob Edwards, Longtime Host of NPR’s ‘Morning Edition,’ Dies at 76',\n",
      " 'Connections',\n",
      " 'Connections Companion',\n",
      " 'Deadliest Cholera Outbreak in Past Decade Hits Southern Africa',\n",
      " 'Donald Trump and Nikki Haley are getting increasingly personal in their '\n",
      " 'attacks on each other.',\n",
      " 'Feb. 13: A Holiday I Prefer Not to Celebrate',\n",
      " 'Here are the Republican senators who broke with their party to back Ukraine '\n",
      " 'aid.',\n",
      " 'Houston Megachurch Shooter Had AR-15 and Brought Her 7-Year-Old Son',\n",
      " 'How John Travolta Became the Star of Carnival',\n",
      " 'Intimate Clashes Reveal a Hierarchy’s Dynamics',\n",
      " 'Its Forces Depleted, Myanmar Junta Says It Will Enforce a Military Draft',\n",
      " 'I’m a Neuroscientist. We’re Thinking About Biden’s Memory and Age in the '\n",
      " 'Wrong Way.',\n",
      " 'Jon Stewart’s return was the highlight of Monday’s late night shows.',\n",
      " 'Letter Boxed',\n",
      " 'Light, Pretty Knits for Spring',\n",
      " 'Mediators in Cairo, Including C.I.A. Chief, Renew Push for Gaza Cease-Fire',\n",
      " 'No Deposits This Year at Love Bank, a Museum Hit by Fire',\n",
      " 'Only Biden and M.B.S. Can Redirect the Israeli-Palestinian Conflict',\n",
      " 'Paramount Lays Off Hundreds of Workers',\n",
      " 'Powerful Winter Storm Begins Moving Through New York',\n",
      " 'Report Says 17 Percent of Gamers Identify as L.G.B.T.Q.',\n",
      " 'Senate Passes Bill for Ukraine Aid, but Fate Is Uncertain in a Hostile House',\n",
      " 'Spelling Bee',\n",
      " 'Student Housing Has a New Mantra: Bigger Is Better',\n",
      " 'The Crossword',\n",
      " 'The Deep Joy of Squirreling It All Away',\n",
      " 'The Morning',\n",
      " 'The Politics of Betrayal Are at Work in Michigan',\n",
      " 'This Is Not the Way Team Biden Drew It Up',\n",
      " 'Tiger Woods Introduces His New Brand: Sun Day Red',\n",
      " 'To Deepen Love, Consider Duty',\n",
      " 'Trump Can’t Meet the Supreme Court’s Legal Test',\n",
      " 'Trump Is Losing It',\n",
      " 'Truth-Telling in the New York House Election',\n",
      " 'Twyla Tharp: ‘You Dig Down, You Settle In, You Don’t Stop’',\n",
      " 'U.S. Gas Producers Are Racing to Sell to Asia. And Mexico Is Key.',\n",
      " 'U.S. Inflation More Stubborn Than Expected',\n",
      " 'We Keep Domestic Violence Shelters Secret. Who Is That Really Helping?',\n",
      " 'What Do We Owe Black Americans?',\n",
      " 'What a Split in Consumer Confidence Means for Biden',\n",
      " 'When Flowers Just Won’t Do',\n",
      " 'Who speaks for President Biden? It depends on whom you ask.',\n",
      " 'Why I Am Now Deeply Worried for America',\n",
      " 'Why This Group of Undecided Independent Voters Is Leaning Toward Trump',\n",
      " 'Will Voters in San Francisco Go for a Different Kind of Mayor?',\n",
      " 'Winter storm hits New York, and Donald Trump makes a last-ditch bid for '\n",
      " 'immunity.',\n",
      " 'Wordle',\n",
      " '‘Now Where Was I?’ Jon Stewart Is Back in His Old ‘Daily Show’ Seat']\n"
     ]
    }
   ],
   "source": [
    "try:\n",
    "    response = requests.get(\"https://www.nytimes.com/\")\n",
    "    response.raise_for_status()\n",
    "except requests.HTTPError as http_error:\n",
    "    print(f\"An http error occurred. {http_error}\")\n",
    "except Exception as e:\n",
    "    print(f\"Another error occurred. {e}\")\n",
    "else:\n",
    "    conteudo = response.content\n",
    "    soup = BeautifulSoup(conteudo, \"html.parser\")\n",
    "    sections = soup.select(\"section.story-wrapper\")\n",
    "\n",
    "    article_titles = set()\n",
    "    \n",
    "    for section in sections:\n",
    "        if section.select(\"p.indicate-hover\"):\n",
    "            title = section.select(\"p.indicate-hover\")[0].text\n",
    "            article_titles.add(title)\n",
    "\n",
    "    pprint(sorted(article_titles))\n"
   ]
  },
  {
   "cell_type": "code",
   "execution_count": null,
   "metadata": {},
   "outputs": [],
   "source": []
  }
 ],
 "metadata": {
  "kernelspec": {
   "display_name": "Python 3",
   "language": "python",
   "name": "python3"
  },
  "language_info": {
   "codemirror_mode": {
    "name": "ipython",
    "version": 3
   },
   "file_extension": ".py",
   "mimetype": "text/x-python",
   "name": "python",
   "nbconvert_exporter": "python",
   "pygments_lexer": "ipython3",
   "version": "3.11.4"
  }
 },
 "nbformat": 4,
 "nbformat_minor": 2
}
