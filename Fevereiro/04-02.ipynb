{
 "cells": [
  {
   "cell_type": "markdown",
   "metadata": {},
   "source": [
    "## Funções de Verificação de Primalidade\n",
    "\n",
    "Data: 04/02/2024. De: Practice Python. Link(https://www.practicepython.org/exercise/2014/04/16/11-check-primality-functions.html)\n",
    "\n",
    "## Descrição\n",
    "Peça ao usuário um número e determine se o número é primo ou não. (Para aqueles que esqueceram, um número primo é um número que não tem divisores.)\n"
   ]
  },
  {
   "cell_type": "markdown",
   "metadata": {},
   "source": [
    "## Minha solução"
   ]
  },
  {
   "cell_type": "code",
   "execution_count": null,
   "metadata": {},
   "outputs": [],
   "source": []
  }
 ],
 "metadata": {
  "language_info": {
   "name": "python"
  }
 },
 "nbformat": 4,
 "nbformat_minor": 2
}
