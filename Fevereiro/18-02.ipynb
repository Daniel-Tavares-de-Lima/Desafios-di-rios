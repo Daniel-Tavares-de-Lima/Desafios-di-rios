{
 "cells": [
  {
   "cell_type": "markdown",
   "metadata": {},
   "source": [
    "# Converter string para Camel Case\n",
    "Data: 18/02/2024. De: Codewars. Link(https://www.codewars.com/kata/517abf86da9663f1d2000003/train/python)\n",
    "\n",
    "# Descrição\n",
    "Complete o método/função para que converta palavras delimitadas por traço/sublinhado em camel case. A primeira palavra na saída deve ser capitalizada apenas se a palavra original foi capitalizada (conhecido como Upper Camel Case, também frequentemente referido como Pascal case). As próximas palavras devem ser sempre capitalizadas.\n",
    "# Exemplo\n",
    "\"the-stealth-warrior\" é convertido para \"theStealthWarrior\"\n",
    "\n",
    "\"The_Stealth_Warrior\" é convertido para \"TheStealthWarrior\"\n",
    "\n",
    "\"The_Stealth-Warrior\" é convertido para \"TheStealthWarrior\""
   ]
  },
  {
   "cell_type": "markdown",
   "metadata": {},
   "source": [
    "# Minha solução"
   ]
  },
  {
   "cell_type": "code",
   "execution_count": 16,
   "metadata": {},
   "outputs": [],
   "source": [
    "def to_camel_case(texto):\n",
    "    if not texto:\n",
    "        return \"\"\n",
    "    \n",
    "    #Para dividir o texto em palavras usando traços ou underline\n",
    "    palavras = texto.replace(\"-\", \"_\").split(\"_\")\n",
    "\n",
    "    # Se a primeira palavra não começar com letra maiúscula coloque tudo em lower()\n",
    "    if palavras[0][0].isupper():\n",
    "        resultado = palavras[0]\n",
    "    else:\n",
    "        resultado = palavras[0].lower()\n",
    "    \n",
    "    for i in palavras[1:]:\n",
    "        resultado += i.capitalize()\n",
    "    \n",
    "\n",
    "    return resultado\n",
    "\n",
    "# palavra = \"banana\"\n",
    "\n",
    "# palavra1 = palavra.capitalize()\n",
    "\n",
    "# print(palavra1)"
   ]
  },
  {
   "cell_type": "code",
   "execution_count": 17,
   "metadata": {},
   "outputs": [
    {
     "name": "stdout",
     "output_type": "stream",
     "text": [
      "\n",
      "theStealthWarrior\n",
      "TheStealthWarrior\n",
      "ABC\n"
     ]
    }
   ],
   "source": [
    "print(to_camel_case(\"\")) # expexts \"\"\n",
    "print(to_camel_case(\"the_stealth_warrior\")) # expexts \"theStealthWarrior\"\n",
    "print(to_camel_case(\"The-Stealth-Warrior\")) # expexts \"TheStealthWarrior\"\n",
    "print(to_camel_case(\"A-B-C\")) # expexts \"ABC\""
   ]
  },
  {
   "cell_type": "code",
   "execution_count": null,
   "metadata": {},
   "outputs": [],
   "source": []
  }
 ],
 "metadata": {
  "kernelspec": {
   "display_name": "Python 3",
   "language": "python",
   "name": "python3"
  },
  "language_info": {
   "codemirror_mode": {
    "name": "ipython",
    "version": 3
   },
   "file_extension": ".py",
   "mimetype": "text/x-python",
   "name": "python",
   "nbconvert_exporter": "python",
   "pygments_lexer": "ipython3",
   "version": "3.11.4"
  }
 },
 "nbformat": 4,
 "nbformat_minor": 2
}
