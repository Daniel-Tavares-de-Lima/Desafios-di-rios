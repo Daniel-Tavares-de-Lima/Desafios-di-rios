{
 "cells": [
  {
   "cell_type": "markdown",
   "metadata": {},
   "source": [
    "# Converter string para Camel Case\n",
    "Data: 18/02/2024. De: Codewars. Link(https://www.codewars.com/kata/517abf86da9663f1d2000003/train/python)\n",
    "\n",
    "# Descrição\n",
    "Complete o método/função para que converta palavras delimitadas por traço/sublinhado em camel case. A primeira palavra na saída deve ser capitalizada apenas se a palavra original foi capitalizada (conhecido como Upper Camel Case, também frequentemente referido como Pascal case). As próximas palavras devem ser sempre capitalizadas.\n",
    "# Exemplo\n",
    "\"the-stealth-warrior\" é convertido para \"theStealthWarrior\"\n",
    "\n",
    "\"The_Stealth_Warrior\" é convertido para \"TheStealthWarrior\"\n",
    "\n",
    "\"The_Stealth-Warrior\" é convertido para \"TheStealthWarrior\""
   ]
  },
  {
   "cell_type": "markdown",
   "metadata": {},
   "source": [
    "# Minha solução"
   ]
  },
  {
   "cell_type": "code",
   "execution_count": null,
   "metadata": {},
   "outputs": [],
   "source": []
  }
 ],
 "metadata": {
  "language_info": {
   "name": "python"
  }
 },
 "nbformat": 4,
 "nbformat_minor": 2
}
