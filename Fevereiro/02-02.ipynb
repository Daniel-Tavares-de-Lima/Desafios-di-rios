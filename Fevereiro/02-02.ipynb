{
 "cells": [
  {
   "cell_type": "markdown",
   "metadata": {},
   "source": [
    "## Pedra Papel e Tesoura\n",
    "\n",
    "Data: 02/02/2024. De: Practice Python. Link(https://www.practicepython.org/exercise/2014/03/26/08-rock-paper-scissors.html)\n",
    "\n",
    "## Descrição\n",
    "Faça dois jogadores jogar Pedra Papel e Tesoura\n",
    "Lembre-se das regras:\n",
    "\n",
    "Pedra vence tesoura\n",
    "Tesoura vence papel\n",
    "Papel vence pedra"
   ]
  },
  {
   "cell_type": "markdown",
   "metadata": {},
   "source": [
    "## Minha solução"
   ]
  },
  {
   "cell_type": "code",
   "execution_count": 2,
   "metadata": {},
   "outputs": [
    {
     "name": "stdout",
     "output_type": "stream",
     "text": [
      "Jogador 1 escolheu:  Pedra\n",
      "Jogador 2 escolheu:  Papel\n",
      "Jogador 2 ganhou! Papel vence Pedra\n"
     ]
    }
   ],
   "source": [
    "def game(jogador1, jogador2):\n",
    "    if jogador1 == jogador2:\n",
    "        return \"Empate! Ambos escolheram\" + jogador1\n",
    "    \n",
    "    if(jogador1 == \"Pedra\" and jogador2 == \"Tesoura\") or (jogador1 == \"Tesoura\" and jogador2 == \"Papel\") or (jogador1 == \"Papel\" and jogador2 == \"Pedra\"):\n",
    "        return \"Jogador 1 ganhou! \" + jogador1 + \" vence \" + jogador2\n",
    "    else:\n",
    "        return \"Jogador 2 ganhou! \" + jogador2 + \" vence \" + jogador1\n",
    "    \n",
    "\n",
    "jogador1 = input(\"Jogador 1, escolha Pedra, Papel ou Tesoura: \").capitalize()\n",
    "jogador2 = input(\"Jogador 2, escolha Pedra, Papel ou Tesoura: \").capitalize()\n",
    "    \n",
    "jogadas = [\"Pedra\", \"Papel\", \"Tesoura\"]\n",
    "\n",
    "if jogador1 not in jogadas or jogador2 not in jogadas:\n",
    "    print(\"Escolhas inválidas. Certifique-se de escolher entre Pedra, Papel ou Tesoura\")\n",
    "else:\n",
    "    ##Resultado do jogo\n",
    "    resultado = game(jogador1, jogador2)\n",
    "\n",
    "    print(\"Jogador 1 escolheu: \", jogador1)    \n",
    "    print(\"Jogador 2 escolheu: \", jogador2)  \n",
    "    print(resultado)  "
   ]
  },
  {
   "cell_type": "markdown",
   "metadata": {},
   "source": [
    "## Jogo de Adivinhação 1\n",
    "Data: 02/02/2024. De: Practice Python. Link(https://www.practicepython.org/exercise/2014/04/02/09-guessing-game-one.html)\n",
    "\n",
    "## Descrição\n",
    "Gere um número aleatório entre 1 e 9 (incluindo 1 e 9). Peça ao usuário para adivinhar o número e, em seguida, informe se eles adivinharam muito baixo, muito alto ou exatamente certo.\n",
    "\n",
    "Extras\n",
    "\n",
    "Mantenha o jogo em andamento até que o usuário digite \"exit\".\n",
    "Acompanhe quantas tentativas o usuário fez e, quando o jogo terminar, imprima esse número.\n"
   ]
  },
  {
   "cell_type": "markdown",
   "metadata": {},
   "source": [
    "## Minha solução"
   ]
  },
  {
   "cell_type": "code",
   "execution_count": null,
   "metadata": {},
   "outputs": [],
   "source": []
  }
 ],
 "metadata": {
  "kernelspec": {
   "display_name": "Python 3",
   "language": "python",
   "name": "python3"
  },
  "language_info": {
   "codemirror_mode": {
    "name": "ipython",
    "version": 3
   },
   "file_extension": ".py",
   "mimetype": "text/x-python",
   "name": "python",
   "nbconvert_exporter": "python",
   "pygments_lexer": "ipython3",
   "version": "3.11.4"
  }
 },
 "nbformat": 4,
 "nbformat_minor": 2
}
