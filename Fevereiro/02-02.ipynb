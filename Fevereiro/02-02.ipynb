{
 "cells": [
  {
   "cell_type": "markdown",
   "metadata": {},
   "source": [
    "## Pedra Papel e Tesoura\n",
    "\n",
    "Data: 02/02/2024. De: Practice Python. Link para o exercício.\n",
    "\n",
    "## Descrição\n",
    "\n",
    "Lembre-se das regras:\n",
    "\n",
    "Pedra vence tesoura\n",
    "Tesoura vence papel\n",
    "Papel vence pedra"
   ]
  },
  {
   "cell_type": "markdown",
   "metadata": {},
   "source": [
    "## Minha solução"
   ]
  },
  {
   "cell_type": "code",
   "execution_count": null,
   "metadata": {},
   "outputs": [],
   "source": []
  }
 ],
 "metadata": {
  "language_info": {
   "name": "python"
  }
 },
 "nbformat": 4,
 "nbformat_minor": 2
}
