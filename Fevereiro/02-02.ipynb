{
 "cells": [
  {
   "cell_type": "markdown",
   "metadata": {},
   "source": [
    "## Pedra Papel e Tesoura\n",
    "\n",
    "Data: 02/02/2024. De: Practice Python. Link(https://www.practicepython.org/exercise/2014/03/26/08-rock-paper-scissors.html)\n",
    "\n",
    "## Descrição\n",
    "Faça dois jogadores jogar Pedra Papel e Tesoura\n",
    "Lembre-se das regras:\n",
    "\n",
    "Pedra vence tesoura\n",
    "Tesoura vence papel\n",
    "Papel vence pedra"
   ]
  },
  {
   "cell_type": "markdown",
   "metadata": {},
   "source": [
    "## Minha solução"
   ]
  },
  {
   "cell_type": "code",
   "execution_count": 3,
   "metadata": {},
   "outputs": [
    {
     "name": "stdout",
     "output_type": "stream",
     "text": [
      "Jogador 1 escolheu:  pedra\n",
      "Jogador 2 escolheu:  papel\n",
      "Jogador 2 ganhou! papel vence pedra\n"
     ]
    }
   ],
   "source": [
    "def game(jogador1, jogador2):\n",
    "    if jogador1 == jogador2:\n",
    "        return \"Empate! Ambos escolheram\" + jogador1\n",
    "    \n",
    "    if(jogador1 == \"pedra\" and jogador2 == \"tesoura\") or (jogador1 == \"tesoura\" and jogador2 == \"papel\") or (jogador1 == \"papel\" and jogador2 == \"pedra\"):\n",
    "        return \"Jogador 1 ganhou! \" + jogador1 + \" vence \" + jogador2\n",
    "    else:\n",
    "        return \"Jogador 2 ganhou! \" + jogador2 + \" vence \" + jogador1\n",
    "    \n",
    "\n",
    "jogador1 = input(\"Jogador 1, escolha Pedra, Papel ou Tesoura: \").lower()\n",
    "jogador2 = input(\"Jogador 2, escolha Pedra, Papel ou Tesoura: \").lower()\n",
    "    \n",
    "jogadas = [\"pedra\", \"papel\", \"tesoura\"]\n",
    "\n",
    "if jogador1 not in jogadas or jogador2 not in jogadas:\n",
    "    print(\"Escolhas inválidas. Certifique-se de escolher entre Pedra, Papel ou Tesoura\")\n",
    "else:\n",
    "    ##Resultado do jogo\n",
    "    resultado = game(jogador1, jogador2)\n",
    "\n",
    "    print(\"Jogador 1 escolheu: \", jogador1)    \n",
    "    print(\"Jogador 2 escolheu: \", jogador2)  \n",
    "    print(resultado)  "
   ]
  },
  {
   "cell_type": "markdown",
   "metadata": {},
   "source": [
    "## Jogo de Adivinhação 1\n",
    "Data: 02/02/2024. De: Practice Python. Link(https://www.practicepython.org/exercise/2014/04/02/09-guessing-game-one.html)\n",
    "\n",
    "## Descrição\n",
    "Gere um número aleatório entre 1 e 9 (incluindo 1 e 9). Peça ao usuário para adivinhar o número e, em seguida, informe se eles adivinharam muito baixo, muito alto ou exatamente certo.\n",
    "\n",
    "Extras\n",
    "\n",
    "Mantenha o jogo em andamento até que o usuário digite \"exit\".\n",
    "Acompanhe quantas tentativas o usuário fez e, quando o jogo terminar, imprima esse número.\n"
   ]
  },
  {
   "cell_type": "markdown",
   "metadata": {},
   "source": [
    "## Minha solução"
   ]
  },
  {
   "cell_type": "code",
   "execution_count": 5,
   "metadata": {},
   "outputs": [
    {
     "name": "stdout",
     "output_type": "stream",
     "text": [
      "Muito baixo. Tente novamente.\n",
      "Parabéns! Você adivinhou o número em 2 tentativas.\n",
      "O número secreto era:  6\n"
     ]
    }
   ],
   "source": [
    "import random\n",
    "\n",
    "def adivinhacao():\n",
    "    numero = random.randint(1,9)\n",
    "    tentativas = 0\n",
    "\n",
    "    while True:\n",
    "        tentar = input(\"Adivinhe o número (ou digie 'exit' para sair): \")\n",
    "\n",
    "        if tentar.lower() == \"exit\":\n",
    "            break\n",
    "\n",
    "        try:\n",
    "            tentar = int(tentar)\n",
    "        except ValueError:\n",
    "            print(\"Por favor, insira um número válido.\")\n",
    "            continue\n",
    "\n",
    "        tentativas += 1\n",
    "\n",
    "        if tentar == numero:\n",
    "            print(f\"Parabéns! Você adivinhou o número em {tentativas} tentativas.\")   \n",
    "            break\n",
    "        elif tentar < numero:\n",
    "            print(\"Muito baixo. Tente novamente.\")\n",
    "        else:\n",
    "            print(\"Muito alto. Tente novamente.\")\n",
    "\n",
    "    print(\"O número secreto era: \", numero)\n",
    "\n",
    "adivinhacao() "
   ]
  },
  {
   "cell_type": "code",
   "execution_count": null,
   "metadata": {},
   "outputs": [],
   "source": []
  }
 ],
 "metadata": {
  "kernelspec": {
   "display_name": "Python 3",
   "language": "python",
   "name": "python3"
  },
  "language_info": {
   "codemirror_mode": {
    "name": "ipython",
    "version": 3
   },
   "file_extension": ".py",
   "mimetype": "text/x-python",
   "name": "python",
   "nbconvert_exporter": "python",
   "pygments_lexer": "ipython3",
   "version": "3.11.4"
  }
 },
 "nbformat": 4,
 "nbformat_minor": 2
}
