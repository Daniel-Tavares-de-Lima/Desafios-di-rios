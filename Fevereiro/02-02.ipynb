{
 "cells": [
  {
   "cell_type": "markdown",
   "metadata": {},
   "source": [
    "## Pedra Papel e Tesoura\n",
    "\n",
    "Data: 02/02/2024. De: Practice Python. Link(https://www.practicepython.org/exercise/2014/03/26/08-rock-paper-scissors.html)\n",
    "\n",
    "## Descrição\n",
    "\n",
    "Lembre-se das regras:\n",
    "\n",
    "Pedra vence tesoura\n",
    "Tesoura vence papel\n",
    "Papel vence pedra"
   ]
  },
  {
   "cell_type": "markdown",
   "metadata": {},
   "source": [
    "## Minha solução"
   ]
  },
  {
   "cell_type": "code",
   "execution_count": null,
   "metadata": {},
   "outputs": [],
   "source": []
  },
  {
   "cell_type": "markdown",
   "metadata": {},
   "source": [
    "## Jogo de Adivinhação 1\n",
    "Data: 02/02/2024. De: Practice Python. Link(https://www.practicepython.org/exercise/2014/04/02/09-guessing-game-one.html)\n",
    "\n",
    "## Descrição\n",
    "Gere um número aleatório entre 1 e 9 (incluindo 1 e 9). Peça ao usuário para adivinhar o número e, em seguida, informe se eles adivinharam muito baixo, muito alto ou exatamente certo.\n",
    "\n",
    "Extras\n",
    "\n",
    "Mantenha o jogo em andamento até que o usuário digite \"exit\".\n",
    "Acompanhe quantas tentativas o usuário fez e, quando o jogo terminar, imprima esse número.\n"
   ]
  },
  {
   "cell_type": "markdown",
   "metadata": {},
   "source": [
    "## Minha solução"
   ]
  },
  {
   "cell_type": "code",
   "execution_count": null,
   "metadata": {},
   "outputs": [],
   "source": []
  }
 ],
 "metadata": {
  "language_info": {
   "name": "python"
  }
 },
 "nbformat": 4,
 "nbformat_minor": 2
}
