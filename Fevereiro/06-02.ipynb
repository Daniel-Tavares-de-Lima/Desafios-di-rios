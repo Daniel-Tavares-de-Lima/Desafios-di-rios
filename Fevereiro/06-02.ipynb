{
 "cells": [
  {
   "cell_type": "markdown",
   "metadata": {},
   "source": [
    "## Lista Encerrada\n",
    "Data: 02/06/2024. De: Practice Python. Link(https://www.practicepython.org/exercise/2014/04/25/12-list-ends.html)\n",
    "\n",
    "## Descrição\n",
    "Escreva um programa que receba uma lista de números (por exemplo, a = [5, 10, 15, 20, 25]) e crie uma nova lista apenas com os primeiros e últimos elementos da lista dada. Para praticar, escreva este código dentro de uma função."
   ]
  },
  {
   "cell_type": "markdown",
   "metadata": {},
   "source": [
    "## Minha solução"
   ]
  },
  {
   "cell_type": "code",
   "execution_count": null,
   "metadata": {},
   "outputs": [],
   "source": []
  }
 ],
 "metadata": {
  "language_info": {
   "name": "python"
  }
 },
 "nbformat": 4,
 "nbformat_minor": 2
}
