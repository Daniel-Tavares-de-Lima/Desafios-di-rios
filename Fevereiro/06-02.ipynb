{
 "cells": [
  {
   "cell_type": "markdown",
   "metadata": {},
   "source": [
    "## Lista Encerrada\n",
    "Data: 02/06/2024. De: Practice Python. Link(https://www.practicepython.org/exercise/2014/04/25/12-list-ends.html)\n",
    "\n",
    "## Descrição\n",
    "Escreva um programa que receba uma lista de números (por exemplo, a = [5, 10, 15, 20, 25]) e crie uma nova lista apenas com os primeiros e últimos elementos da lista dada. Para praticar, escreva este código dentro de uma função."
   ]
  },
  {
   "cell_type": "markdown",
   "metadata": {},
   "source": [
    "## Minha solução"
   ]
  },
  {
   "cell_type": "code",
   "execution_count": 1,
   "metadata": {},
   "outputs": [
    {
     "name": "stdout",
     "output_type": "stream",
     "text": [
      "Lista original:  [5, 10, 15, 20, 25]\n",
      "Primeiro e último elemento da lista:  [5, 25]\n"
     ]
    }
   ],
   "source": [
    "def num(lista):\n",
    "    if len(lista) < 2:\n",
    "        print(\"A lista precisa ter pelo menos dois elementos.\")\n",
    "        return None\n",
    "    \n",
    "    primeiro_ultimo = [lista[0], lista[-1]]\n",
    "    return primeiro_ultimo\n",
    "\n",
    "# Exemplo de lista\n",
    "a = [5,10,15,20,25]\n",
    "\n",
    "resultado = num(a)\n",
    "if resultado:\n",
    "    print(\"Lista original: \", a)\n",
    "    print(\"Primeiro e último elemento da lista: \", resultado)"
   ]
  },
  {
   "cell_type": "markdown",
   "metadata": {},
   "source": [
    "## Fibonacci\n",
    "Data: 06/02/2024. De: Practice Python. Link(https://www.practicepython.org/exercise/2014/04/30/13-fibonacci.html)\n",
    "\n",
    "## Descrição\n",
    "Escreva um programa que pergunte ao usuário quantos números da sequência de Fibonacci ele deseja gerar e, em seguida, os gere. Aproveite esta oportunidade para pensar em como você pode usar funções. Certifique-se de pedir ao usuário que insira a quantidade de números na sequência a ser gerada. (Dica: A sequência de Fibonacci é uma sequência de números onde o próximo número na sequência é a soma dos dois números anteriores na sequência. A sequência se parece com isso: 1, 1, 2, 3, 5, 8, 13, ...)\n"
   ]
  },
  {
   "cell_type": "markdown",
   "metadata": {},
   "source": [
    "## Minha solução"
   ]
  },
  {
   "cell_type": "code",
   "execution_count": 3,
   "metadata": {},
   "outputs": [
    {
     "name": "stdout",
     "output_type": "stream",
     "text": [
      "Sequência de Fibonacci com 50 números:\n",
      "[1, 1, 2, 3, 5, 8, 13, 21, 34, 55, 89, 144, 233, 377, 610, 987, 1597, 2584, 4181, 6765, 10946, 17711, 28657, 46368, 75025, 121393, 196418, 317811, 514229, 832040, 1346269, 2178309, 3524578, 5702887, 9227465, 14930352, 24157817, 39088169, 63245986, 102334155, 165580141, 267914296, 433494437, 701408733, 1134903170, 1836311903, 2971215073, 4807526976, 7778742049, 12586269025]\n"
     ]
    }
   ],
   "source": [
    "def fibonacci(n):\n",
    "    sequenciaFibonacci = [1,1]\n",
    "    for i in range(2,n):\n",
    "        proximoNumero = sequenciaFibonacci[-1] + sequenciaFibonacci[-2]\n",
    "        sequenciaFibonacci.append(proximoNumero)\n",
    "\n",
    "    return sequenciaFibonacci\n",
    "\n",
    "def main():\n",
    "    quantidade = int(input(\"Quantos números da sequência de Fibonacci você deseja gerar?\"))\n",
    "    if quantidade <= 0:\n",
    "        print(\"Por favor, insira um número positivo maior que zero.\")\n",
    "        return\n",
    "    \n",
    "    sequencia = fibonacci(quantidade)\n",
    "    print(\"Sequência de Fibonacci com\", quantidade, \"números:\")\n",
    "    print(sequencia)\n",
    "\n",
    "if __name__ == \"__main__\":\n",
    "    main()"
   ]
  },
  {
   "cell_type": "markdown",
   "metadata": {},
   "source": [
    "## List remove duplicates\n",
    "Data: 02/06/2024. De: Practice Python: Link(https://www.practicepython.org/exercise/2014/05/15/14-list-remove-duplicates.html)\n",
    "\n",
    "## Descrição\n",
    "Escreva um programa (função!) que receba uma lista e retorne uma nova lista que contenha todos os elementos da primeira lista, excluindo todas as duplicatas.\n",
    "## Extras:\n",
    "Escreva duas funções diferentes para fazer isso - uma usando um loop e construindo uma lista, e outra usando conjuntos. Volte e faça o Exercício 5 usando conjuntos e escreva a solução para isso em uma função diferente."
   ]
  },
  {
   "cell_type": "markdown",
   "metadata": {},
   "source": [
    "## Minha solução"
   ]
  },
  {
   "cell_type": "code",
   "execution_count": 4,
   "metadata": {},
   "outputs": [
    {
     "name": "stdout",
     "output_type": "stream",
     "text": [
      "Lista original [1, 2, 3, 4, 3, 2, 1]\n",
      "Lista sem duplacada (com loop): [1, 2, 3, 4]\n"
     ]
    }
   ],
   "source": [
    "## Usando um loop e construindo uma nova lista:\n",
    "def removerDuplaComLoop(lista):\n",
    "    novaLista = []\n",
    "    for elemento in lista:\n",
    "        if elemento not in novaLista:\n",
    "            novaLista.append(elemento)\n",
    "    return novaLista\n",
    "\n",
    "## Exemplo de uso da função\n",
    "lista = [1,2,3,4,3,2,1]\n",
    "novaLista = removerDuplaComLoop(lista)\n",
    "print(\"Lista original\", lista)\n",
    "print(\"Lista sem duplacada (com loop):\", novaLista)"
   ]
  },
  {
   "cell_type": "code",
   "execution_count": null,
   "metadata": {},
   "outputs": [],
   "source": []
  }
 ],
 "metadata": {
  "kernelspec": {
   "display_name": "Python 3",
   "language": "python",
   "name": "python3"
  },
  "language_info": {
   "codemirror_mode": {
    "name": "ipython",
    "version": 3
   },
   "file_extension": ".py",
   "mimetype": "text/x-python",
   "name": "python",
   "nbconvert_exporter": "python",
   "pygments_lexer": "ipython3",
   "version": "3.11.4"
  }
 },
 "nbformat": 4,
 "nbformat_minor": 2
}
