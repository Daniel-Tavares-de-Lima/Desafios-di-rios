{
 "cells": [
  {
   "cell_type": "markdown",
   "metadata": {},
   "source": [
    "## Lista Encerrada\n",
    "Data: 02/06/2024. De: Practice Python. Link(https://www.practicepython.org/exercise/2014/04/25/12-list-ends.html)\n",
    "\n",
    "## Descrição\n",
    "Escreva um programa que receba uma lista de números (por exemplo, a = [5, 10, 15, 20, 25]) e crie uma nova lista apenas com os primeiros e últimos elementos da lista dada. Para praticar, escreva este código dentro de uma função."
   ]
  },
  {
   "cell_type": "markdown",
   "metadata": {},
   "source": [
    "## Minha solução"
   ]
  },
  {
   "cell_type": "code",
   "execution_count": null,
   "metadata": {},
   "outputs": [],
   "source": []
  },
  {
   "cell_type": "markdown",
   "metadata": {},
   "source": [
    "## Fibonacci\n",
    "Data: 06/02/2024. De: Practice Python. Link(https://www.practicepython.org/exercise/2014/04/30/13-fibonacci.html)\n",
    "\n",
    "## Descrição\n",
    "Escreva um programa que pergunte ao usuário quantos números da sequência de Fibonacci ele deseja gerar e, em seguida, os gere. Aproveite esta oportunidade para pensar em como você pode usar funções. Certifique-se de pedir ao usuário que insira a quantidade de números na sequência a ser gerada. (Dica: A sequência de Fibonacci é uma sequência de números onde o próximo número na sequência é a soma dos dois números anteriores na sequência. A sequência se parece com isso: 1, 1, 2, 3, 5, 8, 13, ...)\n"
   ]
  },
  {
   "cell_type": "markdown",
   "metadata": {},
   "source": [
    "## Minha solução"
   ]
  },
  {
   "cell_type": "code",
   "execution_count": null,
   "metadata": {},
   "outputs": [],
   "source": []
  }
 ],
 "metadata": {
  "language_info": {
   "name": "python"
  }
 },
 "nbformat": 4,
 "nbformat_minor": 2
}
