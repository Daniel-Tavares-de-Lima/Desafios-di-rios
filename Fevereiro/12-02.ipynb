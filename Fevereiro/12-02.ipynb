{
 "cells": [
  {
   "cell_type": "markdown",
   "metadata": {},
   "source": [
    "# Quais estão dentro?\n",
    "Data: 12/02/2024. De: Codewars. Link(https://www.codewars.com/kata/550554fd08b86f84fe000a58/train/python)\n",
    "\n",
    "# Descrição\n",
    "Dadas duas matrizes de strings a1 e a2, retorne uma matriz ordenada r em ordem lexicográfica das strings de a1 que são substrings das strings de a2.\n",
    "\n",
    "# Exemplo 1: \n",
    "a1 = [\"arp\", \"live\", \"strong\"]\n",
    "a2 = [\"lively\", \"alive\", \"harp\", \"sharp\", \"armstrong\"]\n",
    "retorna [\"arp\", \"live\", \"strong\"]\n",
    "\n",
    "#Exemplo 2:\n",
    "a1 = [\"tarp\", \"mice\", \"bull\"]\n",
    "a2 = [\"lively\", \"alive\", \"harp\", \"sharp\", \"armstrong\"]\n",
    "retorna []"
   ]
  },
  {
   "cell_type": "markdown",
   "metadata": {},
   "source": [
    "# Minha solução"
   ]
  },
  {
   "cell_type": "code",
   "execution_count": 1,
   "metadata": {},
   "outputs": [],
   "source": [
    "def in_array(array1,array2):\n",
    "    resultado = []\n",
    "    for string1 in array1:\n",
    "        for string2 in array2:\n",
    "            if string1 in string2 and string1 not in resultado:\n",
    "                resultado.append(string1)\n",
    "                break\n",
    "    resultado.sort()\n",
    "    return resultado"
   ]
  },
  {
   "cell_type": "code",
   "execution_count": 2,
   "metadata": {},
   "outputs": [
    {
     "name": "stdout",
     "output_type": "stream",
     "text": [
      "['arp', 'live', 'strong']\n",
      "['arp']\n"
     ]
    }
   ],
   "source": [
    "## Testes\n",
    "print(in_array([\"live\", \"arp\", \"strong\"], [\"lively\", \"alive\", \"harp\", \"sharp\", \"armstrong\"])) # expects ['arp', 'live', 'strong']\n",
    "print(in_array([\"arp\", \"mice\", \"bull\"], [\"lively\", \"alive\", \"harp\", \"sharp\", \"armstrong\"])) # expects ['arp']"
   ]
  },
  {
   "cell_type": "code",
   "execution_count": null,
   "metadata": {},
   "outputs": [],
   "source": []
  }
 ],
 "metadata": {
  "kernelspec": {
   "display_name": "Python 3",
   "language": "python",
   "name": "python3"
  },
  "language_info": {
   "codemirror_mode": {
    "name": "ipython",
    "version": 3
   },
   "file_extension": ".py",
   "mimetype": "text/x-python",
   "name": "python",
   "nbconvert_exporter": "python",
   "pygments_lexer": "ipython3",
   "version": "3.11.4"
  }
 },
 "nbformat": 4,
 "nbformat_minor": 2
}
