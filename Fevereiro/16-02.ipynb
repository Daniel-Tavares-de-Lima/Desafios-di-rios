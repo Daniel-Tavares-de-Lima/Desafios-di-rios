{
 "cells": [
  {
   "cell_type": "markdown",
   "metadata": {},
   "source": [
    "# Decode a web page 2\n",
    "Data: 16/02/2024. De: Practice Python.Link(https://www.practicepython.org/exercise/2014/07/05/18-cows-and-bulls.html)\n",
    "\n",
    "# Descrição\n",
    "Usando as bibliotecas Python requests e BeautifulSoup, imprima na tela o texto completo do artigo neste site: http://www.vanityfair.com/society/2014/06/monica-lewinsky-humiliation-culture.\n",
    "\n",
    "O artigo é longo, então está dividido entre 4 páginas. Sua tarefa é imprimir o texto na tela para que você possa ler o artigo completo sem precisar clicar em nenhum botão.\n",
    "\n",
    "Isso apenas imprimirá o texto completo do artigo na tela. Não será fácil de ler, então no próximo exercício aprenderemos como escrever esse texto em um arquivo .txt.\n"
   ]
  },
  {
   "cell_type": "markdown",
   "metadata": {},
   "source": [
    "# Minha solução"
   ]
  },
  {
   "cell_type": "code",
   "execution_count": null,
   "metadata": {},
   "outputs": [],
   "source": []
  }
 ],
 "metadata": {
  "language_info": {
   "name": "python"
  }
 },
 "nbformat": 4,
 "nbformat_minor": 2
}
