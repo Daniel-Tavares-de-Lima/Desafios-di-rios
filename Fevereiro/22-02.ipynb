{
 "cells": [
  {
   "cell_type": "markdown",
   "metadata": {},
   "source": [
    "# Sobreposição de Arquivos\n",
    "Data: 22/02/2024. De: Practice Python. Link(https://www.practicepython.org/exercise/2014/12/14/23-file-overlap.html)\n",
    "\n",
    "# Descrição\n",
    "Dado dois arquivos .txt que contêm listas de números, encontre os números que estão se sobrepondo. Um arquivo .txt contém uma lista de todos os números primos abaixo de 1000, e o outro arquivo .txt contém uma lista de números felizes até 1000.\n"
   ]
  },
  {
   "cell_type": "markdown",
   "metadata": {},
   "source": [
    "# Minha solução"
   ]
  },
  {
   "cell_type": "code",
   "execution_count": 2,
   "metadata": {},
   "outputs": [
    {
     "name": "stdout",
     "output_type": "stream",
     "text": [
      "Numbers that are overlapping: [7, 13, 19, 23, 31, 79, 97, 103, 109, 139, 167, 193, 239, 263, 293, 313, 331, 367, 379, 383, 397, 409, 487, 563, 617, 653, 673, 683, 709, 739, 761, 863, 881, 907, 937]\n"
     ]
    }
   ],
   "source": [
    "import requests\n",
    "\n",
    "response = requests.get(\"https://www.practicepython.org/assets/primenumbers.txt\")\n",
    "prime_numbers_list = {int(number) for number in response.text.split(\"\\n\")}\n",
    "\n",
    "# Obtém a lista de números felizes do segundo arquivo .txt\n",
    "response = requests.get(\"https://www.practicepython.org/assets/happynumbers.txt\")\n",
    "happy_numbers_list = {int(number) for number in response.text.split(\"\\n\")}\n",
    "\n",
    "# Encontra os números que estão presentes em ambos os conjuntos\n",
    "overlapping_numbers = sorted(prime_numbers_list & happy_numbers_list)\n",
    "\n",
    "print(\"Numbers that are overlapping:\", overlapping_numbers)"
   ]
  },
  {
   "cell_type": "code",
   "execution_count": null,
   "metadata": {},
   "outputs": [],
   "source": []
  }
 ],
 "metadata": {
  "kernelspec": {
   "display_name": "Python 3",
   "language": "python",
   "name": "python3"
  },
  "language_info": {
   "codemirror_mode": {
    "name": "ipython",
    "version": 3
   },
   "file_extension": ".py",
   "mimetype": "text/x-python",
   "name": "python",
   "nbconvert_exporter": "python",
   "pygments_lexer": "ipython3",
   "version": "3.11.4"
  }
 },
 "nbformat": 4,
 "nbformat_minor": 2
}
