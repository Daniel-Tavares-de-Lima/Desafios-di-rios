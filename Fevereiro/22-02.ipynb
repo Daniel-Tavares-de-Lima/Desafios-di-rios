{
 "cells": [
  {
   "cell_type": "markdown",
   "metadata": {},
   "source": [
    "# Sobreposição de Arquivos\n",
    "Data: 22/02/2024. De: Practice Python. Link(https://www.practicepython.org/exercise/2014/12/14/23-file-overlap.html)\n",
    "\n",
    "# Descrição\n",
    "Dado dois arquivos .txt que contêm listas de números, encontre os números que estão se sobrepondo. Um arquivo .txt contém uma lista de todos os números primos abaixo de 1000, e o outro arquivo .txt contém uma lista de números felizes até 1000.\n"
   ]
  },
  {
   "cell_type": "markdown",
   "metadata": {},
   "source": [
    "# Minha solução"
   ]
  },
  {
   "cell_type": "code",
   "execution_count": null,
   "metadata": {},
   "outputs": [],
   "source": []
  }
 ],
 "metadata": {
  "language_info": {
   "name": "python"
  }
 },
 "nbformat": 4,
 "nbformat_minor": 2
}
