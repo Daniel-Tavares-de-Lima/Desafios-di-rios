{
 "cells": [
  {
   "cell_type": "markdown",
   "metadata": {},
   "source": [
    "# Santander Coders exercises from Class #4 Unit #2\n",
    "\n",
    "Data: 11/02/2024. De: Ada Tech.Language:Portuguese.\n",
    "\n",
    "# Exercícios\n"
   ]
  },
  {
   "cell_type": "markdown",
   "metadata": {},
   "source": [
    "1- Crie uma série de pandas que tenha os números inteiros de 0 a 100. Feito isso, imprima a média e o desvio padrão."
   ]
  },
  {
   "cell_type": "code",
   "execution_count": 4,
   "metadata": {},
   "outputs": [],
   "source": [
    "import pandas as pd\n",
    "\n"
   ]
  },
  {
   "cell_type": "code",
   "execution_count": 5,
   "metadata": {},
   "outputs": [
    {
     "name": "stdout",
     "output_type": "stream",
     "text": [
      "Média:  50.0\n",
      "Desvio Padrão:  29.300170647967224\n"
     ]
    }
   ],
   "source": [
    "serie = pd.Series(range(101))\n",
    "\n",
    "#Média\n",
    "media = serie.mean()\n",
    "#Desvio Padrão\n",
    "desvio_padrao = serie.std()\n",
    "\n",
    "print(\"Média: \", media)\n",
    "print(\"Desvio Padrão: \", desvio_padrao)\n",
    "\n",
    "##Salvar a serie em um arquivo CSV\n",
    "serie.to_csv(\"numeros.csv\", index=False)"
   ]
  },
  {
   "cell_type": "markdown",
   "metadata": {},
   "source": [
    "\n",
    "2- Baixe e carregue em um pd.DataFrame o arquivo \"IBOV.csv\", que contém as cotações diárias do índice Ibovespa nos três primeiros trimestres de 2020."
   ]
  },
  {
   "cell_type": "code",
   "execution_count": 8,
   "metadata": {},
   "outputs": [
    {
     "name": "stdout",
     "output_type": "stream",
     "text": [
      "         Date      Open      High       Low     Close  Adj Close     Volume\n",
      "0  2020-01-02  115652.0  118573.0  115649.0  118573.0   118573.0  5162700.0\n",
      "1  2020-01-03  118564.0  118792.0  117341.0  117707.0   117707.0  6834500.0\n",
      "2  2020-01-06  117707.0  117707.0  116269.0  116878.0   116878.0  6570000.0\n",
      "3  2020-01-07  116872.0  117076.0  115965.0  116662.0   116662.0  4854100.0\n",
      "4  2020-01-08  116667.0  117335.0  115693.0  116247.0   116247.0  5910500.0\n"
     ]
    }
   ],
   "source": [
    "\n",
    "df_ibov = pd.read_csv(\"02-11-IBOV.csv\")\n",
    "print(df_ibov.head())"
   ]
  },
  {
   "cell_type": "markdown",
   "metadata": {},
   "source": [
    "3) Imprima as três primeiras linhas do DataFrame carregado e depois as três últimas."
   ]
  },
  {
   "cell_type": "code",
   "execution_count": 10,
   "metadata": {},
   "outputs": [
    {
     "name": "stdout",
     "output_type": "stream",
     "text": [
      "3 primeiras linhas:\n",
      "         Date      Open      High       Low     Close  Adj Close     Volume\n",
      "0  2020-01-02  115652.0  118573.0  115649.0  118573.0   118573.0  5162700.0\n",
      "1  2020-01-03  118564.0  118792.0  117341.0  117707.0   117707.0  6834500.0\n",
      "2  2020-01-06  117707.0  117707.0  116269.0  116878.0   116878.0  6570000.0\n",
      "\n",
      "\n",
      "3 ultimas linhas:\n",
      "           Date     Open     High      Low    Close  Adj Close      Volume\n",
      "184  2020-09-25  97011.0  97012.0  95632.0  96999.0    96999.0   7351100.0\n",
      "185  2020-09-28  97005.0  98314.0  94371.0  94666.0    94666.0  10508900.0\n",
      "186  2020-09-29  94665.0  95505.0  93408.0  93580.0    93580.0   8737200.0\n"
     ]
    }
   ],
   "source": [
    "print(\"3 primeiras linhas:\")\n",
    "print(df_ibov.head(3))\n",
    "\n",
    "print(\"\\n\\n3 ultimas linhas:\")\n",
    "print(df_ibov.tail(3))"
   ]
  },
  {
   "cell_type": "markdown",
   "metadata": {},
   "source": [
    "4) Imprima o maior e o menor valor de fechamento do índice no período analisado."
   ]
  },
  {
   "cell_type": "code",
   "execution_count": 12,
   "metadata": {},
   "outputs": [
    {
     "name": "stdout",
     "output_type": "stream",
     "text": [
      "Maior valor de fechamento: 119528.0\n",
      "Menor valor de fechamento: 63570.0\n"
     ]
    }
   ],
   "source": [
    "#Maior\n",
    "maior = df_ibov[\"Close\"].max()\n",
    "print(\"Maior valor de fechamento:\", maior)\n",
    "\n",
    "#Menor\n",
    "menor = df_ibov['Close'].min()\n",
    "print(\"Menor valor de fechamento:\", menor)"
   ]
  },
  {
   "cell_type": "markdown",
   "metadata": {},
   "source": [
    "\n",
    "5) Qual é o dia associado à 50ª linha do DataFrame?"
   ]
  },
  {
   "cell_type": "code",
   "execution_count": 15,
   "metadata": {},
   "outputs": [
    {
     "name": "stdout",
     "output_type": "stream",
     "text": [
      "Dia associado à 50 linha do DataFrame: 2020-03-13\n"
     ]
    }
   ],
   "source": [
    "dia50 = df_ibov.loc[49, \"Date\"]\n",
    "\n",
    "print(\"Dia associado à 50 linha do DataFrame:\", dia50)"
   ]
  },
  {
   "cell_type": "markdown",
   "metadata": {},
   "source": [
    "\n",
    "6) Compare a média do valor de fechamento do índice entre o primeiro e o segundo trimestre do ano estudado. Em qual dos períodos verifica-se maior média?"
   ]
  },
  {
   "cell_type": "code",
   "execution_count": null,
   "metadata": {},
   "outputs": [],
   "source": []
  },
  {
   "cell_type": "markdown",
   "metadata": {},
   "source": [
    "7) Acrescente uma coluna ao DataFrame chamada 'amplitude', contendo a variação máxima diária, isto é, valor máximo - valor mínimo. Imprima a linha onde se teve a maior variação do índice e depois salve o DataFrame modificado no arquivo \"BVSP_mod.csv\"."
   ]
  },
  {
   "cell_type": "code",
   "execution_count": null,
   "metadata": {},
   "outputs": [],
   "source": []
  }
 ],
 "metadata": {
  "kernelspec": {
   "display_name": "Python 3",
   "language": "python",
   "name": "python3"
  },
  "language_info": {
   "codemirror_mode": {
    "name": "ipython",
    "version": 3
   },
   "file_extension": ".py",
   "mimetype": "text/x-python",
   "name": "python",
   "nbconvert_exporter": "python",
   "pygments_lexer": "ipython3",
   "version": "3.11.4"
  }
 },
 "nbformat": 4,
 "nbformat_minor": 2
}
