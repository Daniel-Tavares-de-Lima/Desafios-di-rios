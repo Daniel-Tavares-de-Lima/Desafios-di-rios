{
 "cells": [
  {
   "cell_type": "markdown",
   "metadata": {},
   "source": [
    "# Jogo de Adivinhação \n",
    "Data: 24/02/2024. De: Practice Python. Link(https://www.practicepython.org/exercise/2015/11/01/25-guessing-game-two.html)\n",
    "\n",
    "# Descrição\n",
    "Em um exercício anterior, escrevemos um programa que \"sabe\" um número e pede a um usuário que o adivinhe.\n",
    "\n",
    "Desta vez, faremos exatamente o oposto. Você, o usuário, terá em mente um número entre 0 e 100. O programa adivinhará um número, e você, o usuário, dirá se é muito alto, muito baixo ou o seu número.\n",
    "\n",
    "No final dessa troca, seu programa deve imprimir quantas tentativas foram necessárias para acertar o seu número.\n",
    "\n",
    "Como o autor deste programa, você terá que escolher como seu programa adivinhará estrategicamente. Uma estratégia ingênua pode ser simplesmente começar a adivinhar em 1 e continuar (2, 3, 4, etc.) até acertar o número. Mas essa não é uma estratégia de adivinhação ideal. Uma estratégia alternativa pode ser adivinhar 50 (no meio do intervalo) e, em seguida, aumentar / diminuir 1 conforme necessário. Depois de escrever o programa, tente encontrar a estratégia ideal! (Falaremos sobre qual é a ideal na próxima semana com a solução.)"
   ]
  },
  {
   "cell_type": "code",
   "execution_count": 3,
   "metadata": {},
   "outputs": [
    {
     "name": "stdout",
     "output_type": "stream",
     "text": [
      "Pense em um número entre 0 e 100\n",
      "Minha primeira: 50\n",
      "Minha primeira: 75\n",
      "Minha primeira: 62\n",
      "Minha primeira: 68\n",
      "Minha primeira: 71\n",
      "Minha primeira: 69\n",
      "Minha primeira: 70\n",
      "Acertei! Seu número é 70.\n",
      "Levei 6 tentativas para adivinhar o seu número.\n"
     ]
    }
   ],
   "source": [
    "def adivinha():\n",
    "    print(\"Pense em um número entre 0 e 100\")\n",
    "    input(\"Pressione Enter quando estiver pronto.\")\n",
    "\n",
    "    menor = 0\n",
    "    maior = 100\n",
    "    tentativas = 0\n",
    "\n",
    "    while True:\n",
    "        tenta = (menor + maior) // 2\n",
    "        print(f\"Minha primeira: {tenta}\")\n",
    "        resposta = input(\"Está muito alto (h), muito baixo(l) ou correto (c)? \").lower()\n",
    "\n",
    "        if resposta == \"c\":\n",
    "            print(f\"Acertei! Seu número é {tenta}.\")\n",
    "            break\n",
    "        elif resposta == \"h\":\n",
    "            maior = tenta - 1\n",
    "        elif resposta == \"l\":\n",
    "            menor = tenta + 1\n",
    "        else:\n",
    "            print(\"Por favor, responda apenas com 'h', 'l' ou 'c'. \")\n",
    "\n",
    "        tentativas += 1\n",
    "\n",
    "    print(f\"Levei {tentativas} tentativas para adivinhar o seu número.\")\n",
    "    \n",
    "adivinha()\n",
    " "
   ]
  },
  {
   "cell_type": "code",
   "execution_count": null,
   "metadata": {},
   "outputs": [],
   "source": []
  }
 ],
 "metadata": {
  "kernelspec": {
   "display_name": "Python 3",
   "language": "python",
   "name": "python3"
  },
  "language_info": {
   "codemirror_mode": {
    "name": "ipython",
    "version": 3
   },
   "file_extension": ".py",
   "mimetype": "text/x-python",
   "name": "python",
   "nbconvert_exporter": "python",
   "pygments_lexer": "ipython3",
   "version": "3.11.4"
  }
 },
 "nbformat": 4,
 "nbformat_minor": 2
}
