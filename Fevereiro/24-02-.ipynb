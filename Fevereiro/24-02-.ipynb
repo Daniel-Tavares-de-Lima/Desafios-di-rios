{
 "cells": [
  {
   "cell_type": "markdown",
   "metadata": {},
   "source": [
    "# Jogo de Adivinhação \n",
    "Data: 24/02/2024. De: Practice Python. Link(https://www.practicepython.org/exercise/2015/11/01/25-guessing-game-two.html)\n",
    "\n",
    "# Descrição\n",
    "Em um exercício anterior, escrevemos um programa que \"sabe\" um número e pede a um usuário que o adivinhe.\n",
    "\n",
    "Desta vez, faremos exatamente o oposto. Você, o usuário, terá em mente um número entre 0 e 100. O programa adivinhará um número, e você, o usuário, dirá se é muito alto, muito baixo ou o seu número.\n",
    "\n",
    "No final dessa troca, seu programa deve imprimir quantas tentativas foram necessárias para acertar o seu número.\n",
    "\n",
    "Como o autor deste programa, você terá que escolher como seu programa adivinhará estrategicamente. Uma estratégia ingênua pode ser simplesmente começar a adivinhar em 1 e continuar (2, 3, 4, etc.) até acertar o número. Mas essa não é uma estratégia de adivinhação ideal. Uma estratégia alternativa pode ser adivinhar 50 (no meio do intervalo) e, em seguida, aumentar / diminuir 1 conforme necessário. Depois de escrever o programa, tente encontrar a estratégia ideal! (Falaremos sobre qual é a ideal na próxima semana com a solução.)"
   ]
  },
  {
   "cell_type": "code",
   "execution_count": null,
   "metadata": {},
   "outputs": [],
   "source": []
  }
 ],
 "metadata": {
  "language_info": {
   "name": "python"
  }
 },
 "nbformat": 4,
 "nbformat_minor": 2
}
