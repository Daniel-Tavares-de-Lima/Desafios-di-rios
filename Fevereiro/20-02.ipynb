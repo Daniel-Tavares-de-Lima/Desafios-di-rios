{
 "cells": [
  {
   "cell_type": "markdown",
   "metadata": {},
   "source": [
    "# Decodificador de números romanos\n",
    "Data: 20/02/2024. De: Codewars. Link(https://www.codewars.com/kata/51b6249c4612257ac0000005/train/python)\n",
    "\n",
    "# Descrição \n",
    "Crie uma função que receba um numeral romano como argumento e retorne seu valor como um número decimal inteiro. Você não precisa validar a forma do numeral romano.\n",
    "\n",
    "Os numerais romanos modernos são escritos expressando cada dígito decimal do número a ser codificado separadamente, começando pelo dígito mais à esquerda e pulando quaisquer 0s. Assim, 1990 é representado por \"MCMXC\" (1000 = M, 900 = CM, 90 = XC) e 2008 é representado por \"MMVIII\" (2000 = MM, 8 = VIII). O numeral romano para 1666, \"MDCLXVI\", usa cada letra em ordem decrescente.\n",
    "\n",
    "Exemplo\n",
    "\n",
    "\"MM\" -> 2000\n",
    "\"MDCLXVI\" -> 1666\n",
    "\"M\" -> 1000\n",
    "\"CD\" -> 400\n",
    "\"XC\" -> 90\n",
    "\"XL\" -> 40\n",
    "\"I\" -> 1\n",
    "Ajuda\n",
    "\n",
    "Símbolo Valor\n",
    "I 1\n",
    "V 5\n",
    "X 10\n",
    "L 50\n",
    "C 100\n",
    "D 500\n",
    "M 1,000"
   ]
  },
  {
   "cell_type": "markdown",
   "metadata": {},
   "source": [
    "# Minha solução"
   ]
  },
  {
   "cell_type": "code",
   "execution_count": null,
   "metadata": {},
   "outputs": [],
   "source": [
    "def solution(roman : str) -> int:\n",
    "    \"\"\"complete a solução para transformar números romanos para números inteiros\"\"\"\n",
    "    pass\n",
    "\n"
   ]
  },
  {
   "cell_type": "code",
   "execution_count": null,
   "metadata": {},
   "outputs": [],
   "source": [
    "print(solution('MMMCMXCIX')) # expects 3999\n",
    "print(solution('MMMDCCCLXXXVIII')) # expects 3888\n",
    "print(solution('MM')) # expects 2000\n",
    "print(solution('MDCLXVI')) # expects 1666\n",
    "print(solution('M' )) # expects 1000\n",
    "print(solution('CD')) # expects 400\n",
    "print(solution('XC')) # expects 90\n",
    "print(solution('XL')) # expects 40\n",
    "print(solution('I' )) # expects 1"
   ]
  }
 ],
 "metadata": {
  "language_info": {
   "name": "python"
  }
 },
 "nbformat": 4,
 "nbformat_minor": 2
}
