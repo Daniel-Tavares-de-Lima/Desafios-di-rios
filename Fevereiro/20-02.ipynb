{
 "cells": [
  {
   "cell_type": "markdown",
   "metadata": {},
   "source": [
    "# Decodificador de números romanos\n",
    "Data: 20/02/2024. De: Codewars. Link(https://www.codewars.com/kata/51b6249c4612257ac0000005/train/python)\n",
    "\n",
    "# Descrição \n",
    "Crie uma função que receba um numeral romano como argumento e retorne seu valor como um número decimal inteiro. Você não precisa validar a forma do numeral romano.\n",
    "\n",
    "Os numerais romanos modernos são escritos expressando cada dígito decimal do número a ser codificado separadamente, começando pelo dígito mais à esquerda e pulando quaisquer 0s. Assim, 1990 é representado por \"MCMXC\" (1000 = M, 900 = CM, 90 = XC) e 2008 é representado por \"MMVIII\" (2000 = MM, 8 = VIII). O numeral romano para 1666, \"MDCLXVI\", usa cada letra em ordem decrescente.\n",
    "\n",
    "Exemplo\n",
    "\n",
    "\"MM\" -> 2000\n",
    "\"MDCLXVI\" -> 1666\n",
    "\"M\" -> 1000\n",
    "\"CD\" -> 400\n",
    "\"XC\" -> 90\n",
    "\"XL\" -> 40\n",
    "\"I\" -> 1\n",
    "Ajuda\n",
    "\n",
    "Símbolo Valor\n",
    "I 1\n",
    "V 5\n",
    "X 10\n",
    "L 50\n",
    "C 100\n",
    "D 500\n",
    "M 1,000"
   ]
  },
  {
   "cell_type": "markdown",
   "metadata": {},
   "source": [
    "# Minha solução"
   ]
  },
  {
   "cell_type": "code",
   "execution_count": 1,
   "metadata": {},
   "outputs": [],
   "source": [
    "def solution(roman : str) -> int:\n",
    "    #Converte números romanos para números inteiros\n",
    "    # Dicionário com os valores dos algarismos romanos\n",
    "    valores = {'I': 1, 'V': 5, 'X': 10, 'L': 50, 'C': 100, 'D': 500, 'M': 1000}\n",
    "    resultado = 0\n",
    "   \n",
    "    # Itera sobre os caracteres da string romana\n",
    "    for i in range(len(roman)):\n",
    "        # Se o próximo caractere for maior que o atual, subtrai o valor atual\n",
    "        if i < len(roman) - 1 and valores[roman[i]] < valores[roman[i + 1]]:\n",
    "            resultado -= valores[roman[i]]\n",
    "        else:\n",
    "            resultado += valores[roman[i]]\n",
    "    \n",
    "    return resultado\n"
   ]
  },
  {
   "cell_type": "code",
   "execution_count": 2,
   "metadata": {},
   "outputs": [
    {
     "name": "stdout",
     "output_type": "stream",
     "text": [
      "3999\n",
      "3888\n",
      "2000\n",
      "1666\n",
      "1000\n",
      "400\n",
      "90\n",
      "40\n",
      "1\n"
     ]
    }
   ],
   "source": [
    "print(solution('MMMCMXCIX')) # expects 3999\n",
    "print(solution('MMMDCCCLXXXVIII')) # expects 3888\n",
    "print(solution('MM')) # expects 2000\n",
    "print(solution('MDCLXVI')) # expects 1666\n",
    "print(solution('M' )) # expects 1000\n",
    "print(solution('CD')) # expects 400\n",
    "print(solution('XC')) # expects 90\n",
    "print(solution('XL')) # expects 40\n",
    "print(solution('I' )) # expects 1"
   ]
  },
  {
   "cell_type": "code",
   "execution_count": null,
   "metadata": {},
   "outputs": [],
   "source": []
  }
 ],
 "metadata": {
  "kernelspec": {
   "display_name": "Python 3",
   "language": "python",
   "name": "python3"
  },
  "language_info": {
   "codemirror_mode": {
    "name": "ipython",
    "version": 3
   },
   "file_extension": ".py",
   "mimetype": "text/x-python",
   "name": "python",
   "nbconvert_exporter": "python",
   "pygments_lexer": "ipython3",
   "version": "3.11.4"
  }
 },
 "nbformat": 4,
 "nbformat_minor": 2
}
