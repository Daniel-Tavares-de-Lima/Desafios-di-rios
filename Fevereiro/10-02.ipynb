{
 "cells": [
  {
   "cell_type": "markdown",
   "metadata": {},
   "source": [
    "## Inverter a ordem das palavras\n",
    "Data 10/02/2024. De: Practice Python. Link(https://www.practicepython.org/exercise/2014/05/21/15-reverse-word-order.html)\n",
    "\n",
    "## Descrição\n",
    "Escreva um programa (usando funções!) que pede ao usuário por uma longa string contendo múltiplas palavras. Imprima de volta para o usuário a mesma string, exceto com as palavras em ordem inversa. Por exemplo, se eu digitar a string:\n",
    "\n",
    "Meu nome é Michele\n",
    "Então eu veria a string:\n",
    "\n",
    "Michele é nome Meu\n",
    "mostrada de volta para mim.\n",
    "\n",
    "Minha solução"
   ]
  },
  {
   "cell_type": "markdown",
   "metadata": {},
   "source": [
    "## Minha solução"
   ]
  },
  {
   "cell_type": "code",
   "execution_count": 1,
   "metadata": {},
   "outputs": [
    {
     "name": "stdout",
     "output_type": "stream",
     "text": [
      "String com palavras em ordem inversa: amigo meu foda Simplesmente\n"
     ]
    }
   ],
   "source": [
    "def inverterOrdem(frase):\n",
    "    palavras = frase.split()\n",
    "    palavrasInvertida = palavras[::-1]\n",
    "    return ' '.join(palavrasInvertida)\n",
    "\n",
    "frase = input(\"Digite uma frase: \")\n",
    "novaFrase = inverterOrdem(frase)\n",
    "print(\"String com palavras em ordem inversa:\", novaFrase)"
   ]
  },
  {
   "cell_type": "markdown",
   "metadata": {},
   "source": [
    "## Gerador de Senhas\n",
    "\n",
    "Data: 10/02/2024. De: Practice Python. Link(https://www.practicepython.org/exercise/2014/05/28/16-password-generator.html)\n",
    "\n",
    "## Descrição\n",
    "Nota: este é um exercício de 4 pimentas, não porque introduz um conceito, mas porque este exercício é mais como um projeto. Sinta-se à vontade para pular este e voltar quando estiver mais preparado!\n",
    "\n",
    "Escreva um gerador de senhas em Python. Seja criativo com a forma como você gera senhas - senhas fortes têm uma mistura de letras minúsculas, letras maiúsculas, números e símbolos. As senhas devem ser aleatórias, gerando uma nova senha toda vez que o usuário solicitar uma nova senha. Inclua seu código de tempo de execução em um método principal.\n",
    "\n",
    "## Extra\n",
    "\n",
    "Pergunte ao usuário o quão forte eles querem que sua senha seja. Para senhas fracas, escolha uma ou duas palavras de uma lista."
   ]
  },
  {
   "cell_type": "markdown",
   "metadata": {},
   "source": [
    "## Minha solução"
   ]
  },
  {
   "cell_type": "code",
   "execution_count": null,
   "metadata": {},
   "outputs": [],
   "source": []
  }
 ],
 "metadata": {
  "kernelspec": {
   "display_name": "Python 3",
   "language": "python",
   "name": "python3"
  },
  "language_info": {
   "codemirror_mode": {
    "name": "ipython",
    "version": 3
   },
   "file_extension": ".py",
   "mimetype": "text/x-python",
   "name": "python",
   "nbconvert_exporter": "python",
   "pygments_lexer": "ipython3",
   "version": "3.11.4"
  }
 },
 "nbformat": 4,
 "nbformat_minor": 2
}
