{
 "cells": [
  {
   "cell_type": "markdown",
   "metadata": {},
   "source": [
    "## Inverter a ordem das palavras\n",
    "Data 10/02/2024. De: Practice Python. Link(https://www.practicepython.org/exercise/2014/05/21/15-reverse-word-order.html)\n",
    "\n",
    "## Descrição\n",
    "Escreva um programa (usando funções!) que pede ao usuário por uma longa string contendo múltiplas palavras. Imprima de volta para o usuário a mesma string, exceto com as palavras em ordem inversa. Por exemplo, se eu digitar a string:\n",
    "\n",
    "Meu nome é Michele\n",
    "Então eu veria a string:\n",
    "\n",
    "Michele é nome Meu\n",
    "mostrada de volta para mim.\n",
    "\n",
    "Minha solução"
   ]
  },
  {
   "cell_type": "markdown",
   "metadata": {},
   "source": [
    "## Minha solução"
   ]
  },
  {
   "cell_type": "code",
   "execution_count": null,
   "metadata": {},
   "outputs": [],
   "source": []
  }
 ],
 "metadata": {
  "language_info": {
   "name": "python"
  }
 },
 "nbformat": 4,
 "nbformat_minor": 2
}
