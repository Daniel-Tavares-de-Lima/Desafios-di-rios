{
 "cells": [
  {
   "cell_type": "markdown",
   "metadata": {},
   "source": [
    "# Busca de Elemento\n",
    "Data: 17/02/2024. De Practice Python. Link(https://www.practicepython.org/exercise/2014/11/11/20-element-search.html)\n",
    "\n",
    "# Descrição\n",
    "Escreva uma função que receba uma lista ordenada de números (uma lista onde os elementos estão em ordem do menor para o maior) e outro número. A função decide se o número dado está dentro da lista e retorna (então imprime) um booleano apropriado.\n",
    "\n",
    "# Extra\n",
    "Use a busca binária\n"
   ]
  },
  {
   "cell_type": "code",
   "execution_count": null,
   "metadata": {},
   "outputs": [],
   "source": []
  }
 ],
 "metadata": {
  "language_info": {
   "name": "python"
  }
 },
 "nbformat": 4,
 "nbformat_minor": 2
}
