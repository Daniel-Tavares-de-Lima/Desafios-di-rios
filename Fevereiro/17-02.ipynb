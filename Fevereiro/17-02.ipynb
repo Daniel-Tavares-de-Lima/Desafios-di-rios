{
 "cells": [
  {
   "cell_type": "markdown",
   "metadata": {},
   "source": [
    "# Busca de Elemento\n",
    "Data: 17/02/2024. De Practice Python. Link(https://www.practicepython.org/exercise/2014/11/11/20-element-search.html)\n",
    "\n",
    "# Descrição\n",
    "Escreva uma função que receba uma lista ordenada de números (uma lista onde os elementos estão em ordem do menor para o maior) e outro número. A função decide se o número dado está dentro da lista e retorna (então imprime) um booleano apropriado.\n",
    "\n",
    "# Extra\n",
    "Use a busca binária\n"
   ]
  },
  {
   "cell_type": "code",
   "execution_count": 2,
   "metadata": {},
   "outputs": [
    {
     "name": "stdout",
     "output_type": "stream",
     "text": [
      "O número 5 está presente na lista.\n"
     ]
    }
   ],
   "source": [
    "def buscaBinaria(lista, numero):\n",
    "    inicio = 0\n",
    "    fim = len(lista) - 1\n",
    "\n",
    "    while inicio <= fim:\n",
    "        meio = (inicio + fim) // 2\n",
    "\n",
    "        if lista[meio] == numero:\n",
    "            return True\n",
    "        elif lista[meio] > numero:\n",
    "            fim = meio - 1\n",
    "        else:\n",
    "            inicio = meio + 1\n",
    "\n",
    "    return False\n",
    "\n",
    "listaOrdenada = [1,3,5,7,11,13,17,19,23]\n",
    "numero = 5\n",
    "\n",
    "if buscaBinaria(listaOrdenada,numero):\n",
    "    print(f\"O número {numero} está presente na lista.\")\n",
    "else:\n",
    "    print(f\"O número {numero} não está presente na lista.\")"
   ]
  },
  {
   "cell_type": "code",
   "execution_count": null,
   "metadata": {},
   "outputs": [],
   "source": []
  }
 ],
 "metadata": {
  "kernelspec": {
   "display_name": "Python 3",
   "language": "python",
   "name": "python3"
  },
  "language_info": {
   "codemirror_mode": {
    "name": "ipython",
    "version": 3
   },
   "file_extension": ".py",
   "mimetype": "text/x-python",
   "name": "python",
   "nbconvert_exporter": "python",
   "pygments_lexer": "ipython3",
   "version": "3.11.4"
  }
 },
 "nbformat": 4,
 "nbformat_minor": 2
}
