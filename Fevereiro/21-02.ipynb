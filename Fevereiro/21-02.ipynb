{
 "cells": [
  {
   "cell_type": "markdown",
   "metadata": {},
   "source": [
    "# Ler de um arquivo\n",
    "Data: 21/02/2024. De: Practice Python. Link(https://www.practicepython.org/exercise/2014/12/06/22-read-from-file.html)\n",
    "\n",
    "# Descrição\n",
    "Dado um arquivo .txt que contém uma lista de diversos nomes, conte quantos de cada nome existem no arquivo e imprima os resultados na tela.\n",
    "# Extra \n",
    "Em vez de usar o arquivo .txt acima, pegue este arquivo .txt e conte quantos de cada \"categoria\" de cada imagem existem. Este arquivo de texto é na verdade uma lista de arquivos correspondentes ao banco de dados de reconhecimento de cena da base de dados do SUN, e lista a hierarquia de diretórios de arquivo para as imagens. Depois de dar uma olhada nas primeiras linhas do arquivo, ficará claro qual parte representa a categoria da cena."
   ]
  },
  {
   "cell_type": "markdown",
   "metadata": {},
   "source": [
    "# Minha solução"
   ]
  },
  {
   "cell_type": "code",
   "execution_count": null,
   "metadata": {},
   "outputs": [],
   "source": []
  }
 ],
 "metadata": {
  "language_info": {
   "name": "python"
  }
 },
 "nbformat": 4,
 "nbformat_minor": 2
}
