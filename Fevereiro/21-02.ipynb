{
 "cells": [
  {
   "cell_type": "markdown",
   "metadata": {},
   "source": [
    "# Ler de um arquivo\n",
    "Data: 21/02/2024. De: Practice Python. Link(https://www.practicepython.org/exercise/2014/12/06/22-read-from-file.html)\n",
    "\n",
    "# Descrição\n",
    "Dado um arquivo .txt que contém uma lista de diversos nomes, conte quantos de cada nome existem no arquivo e imprima os resultados na tela.\n",
    "# Extra \n",
    "Em vez de usar o arquivo .txt acima, pegue este arquivo .txt e conte quantos de cada \"categoria\" de cada imagem existem. Este arquivo de texto é na verdade uma lista de arquivos correspondentes ao banco de dados de reconhecimento de cena da base de dados do SUN, e lista a hierarquia de diretórios de arquivo para as imagens. Depois de dar uma olhada nas primeiras linhas do arquivo, ficará claro qual parte representa a categoria da cena."
   ]
  },
  {
   "cell_type": "markdown",
   "metadata": {},
   "source": [
    "# Minha solução"
   ]
  },
  {
   "cell_type": "code",
   "execution_count": 3,
   "metadata": {},
   "outputs": [
    {
     "ename": "FileNotFoundError",
     "evalue": "[Errno 2] No such file or directory: './Datasets/arquivo.txt'",
     "output_type": "error",
     "traceback": [
      "\u001b[1;31m---------------------------------------------------------------------------\u001b[0m",
      "\u001b[1;31mFileNotFoundError\u001b[0m                         Traceback (most recent call last)",
      "Cell \u001b[1;32mIn[3], line 25\u001b[0m\n\u001b[0;32m     22\u001b[0m nomes \u001b[38;5;241m=\u001b[39m \u001b[38;5;124m\"\u001b[39m\u001b[38;5;124m./Datasets/arquivo.txt\u001b[39m\u001b[38;5;124m\"\u001b[39m\n\u001b[0;32m     24\u001b[0m \u001b[38;5;66;03m# Conta as categorias no arquivo e imprime os resultados\u001b[39;00m\n\u001b[1;32m---> 25\u001b[0m \u001b[43mcontar_categorias_arquivo\u001b[49m\u001b[43m(\u001b[49m\u001b[43mnomes\u001b[49m\u001b[43m)\u001b[49m\n",
      "Cell \u001b[1;32mIn[3], line 6\u001b[0m, in \u001b[0;36mcontar_categorias_arquivo\u001b[1;34m(nome_arquivo)\u001b[0m\n\u001b[0;32m      3\u001b[0m contagem_categorias \u001b[38;5;241m=\u001b[39m {}\n\u001b[0;32m      5\u001b[0m \u001b[38;5;66;03m# Abre o arquivo e itera sobre as linhas\u001b[39;00m\n\u001b[1;32m----> 6\u001b[0m \u001b[38;5;28;01mwith\u001b[39;00m \u001b[38;5;28;43mopen\u001b[39;49m\u001b[43m(\u001b[49m\u001b[43mnome_arquivo\u001b[49m\u001b[43m,\u001b[49m\u001b[43m \u001b[49m\u001b[38;5;124;43m'\u001b[39;49m\u001b[38;5;124;43mr\u001b[39;49m\u001b[38;5;124;43m'\u001b[39;49m\u001b[43m)\u001b[49m \u001b[38;5;28;01mas\u001b[39;00m arquivo:\n\u001b[0;32m      7\u001b[0m     \u001b[38;5;28;01mfor\u001b[39;00m linha \u001b[38;5;129;01min\u001b[39;00m arquivo:\n\u001b[0;32m      8\u001b[0m         \u001b[38;5;66;03m# Remove espaços em branco extras e divide a linha em partes usando '/'\u001b[39;00m\n\u001b[0;32m      9\u001b[0m         partes \u001b[38;5;241m=\u001b[39m linha\u001b[38;5;241m.\u001b[39mstrip()\u001b[38;5;241m.\u001b[39msplit(\u001b[38;5;124m'\u001b[39m\u001b[38;5;124m/\u001b[39m\u001b[38;5;124m'\u001b[39m)\n",
      "File \u001b[1;32mc:\\Users\\toyst\\AppData\\Local\\Programs\\Python\\Python311\\Lib\\site-packages\\IPython\\core\\interactiveshell.py:310\u001b[0m, in \u001b[0;36m_modified_open\u001b[1;34m(file, *args, **kwargs)\u001b[0m\n\u001b[0;32m    303\u001b[0m \u001b[38;5;28;01mif\u001b[39;00m file \u001b[38;5;129;01min\u001b[39;00m {\u001b[38;5;241m0\u001b[39m, \u001b[38;5;241m1\u001b[39m, \u001b[38;5;241m2\u001b[39m}:\n\u001b[0;32m    304\u001b[0m     \u001b[38;5;28;01mraise\u001b[39;00m \u001b[38;5;167;01mValueError\u001b[39;00m(\n\u001b[0;32m    305\u001b[0m         \u001b[38;5;124mf\u001b[39m\u001b[38;5;124m\"\u001b[39m\u001b[38;5;124mIPython won\u001b[39m\u001b[38;5;124m'\u001b[39m\u001b[38;5;124mt let you open fd=\u001b[39m\u001b[38;5;132;01m{\u001b[39;00mfile\u001b[38;5;132;01m}\u001b[39;00m\u001b[38;5;124m by default \u001b[39m\u001b[38;5;124m\"\u001b[39m\n\u001b[0;32m    306\u001b[0m         \u001b[38;5;124m\"\u001b[39m\u001b[38;5;124mas it is likely to crash IPython. If you know what you are doing, \u001b[39m\u001b[38;5;124m\"\u001b[39m\n\u001b[0;32m    307\u001b[0m         \u001b[38;5;124m\"\u001b[39m\u001b[38;5;124myou can use builtins\u001b[39m\u001b[38;5;124m'\u001b[39m\u001b[38;5;124m open.\u001b[39m\u001b[38;5;124m\"\u001b[39m\n\u001b[0;32m    308\u001b[0m     )\n\u001b[1;32m--> 310\u001b[0m \u001b[38;5;28;01mreturn\u001b[39;00m \u001b[43mio_open\u001b[49m\u001b[43m(\u001b[49m\u001b[43mfile\u001b[49m\u001b[43m,\u001b[49m\u001b[43m \u001b[49m\u001b[38;5;241;43m*\u001b[39;49m\u001b[43margs\u001b[49m\u001b[43m,\u001b[49m\u001b[43m \u001b[49m\u001b[38;5;241;43m*\u001b[39;49m\u001b[38;5;241;43m*\u001b[39;49m\u001b[43mkwargs\u001b[49m\u001b[43m)\u001b[49m\n",
      "\u001b[1;31mFileNotFoundError\u001b[0m: [Errno 2] No such file or directory: './Datasets/arquivo.txt'"
     ]
    }
   ],
   "source": [
    "def contar_categorias_arquivo(nome_arquivo):\n",
    "    # Dicionário para armazenar a contagem de cada categoria\n",
    "    contagem_categorias = {}\n",
    "\n",
    "    # Abre o arquivo e itera sobre as linhas\n",
    "    with open(nome_arquivo, 'r') as arquivo:\n",
    "        for linha in arquivo:\n",
    "            # Remove espaços em branco extras e divide a linha em partes usando '/'\n",
    "            partes = linha.strip().split('/')\n",
    "\n",
    "            # A categoria é a última parte da linha\n",
    "            categoria = partes[-1]\n",
    "\n",
    "            # Incrementa a contagem para a categoria atual\n",
    "            contagem_categorias[categoria] = contagem_categorias.get(categoria, 0) + 1\n",
    "\n",
    "    # Imprime os resultados\n",
    "    for categoria, contagem in contagem_categorias.items():\n",
    "        print(f\"{categoria}: {contagem}\")\n",
    "\n",
    "# Nome do arquivo\n",
    "nomes = \"./Datasets/arquivo.txt\"\n",
    "\n",
    "# Conta as categorias no arquivo e imprime os resultados\n",
    "contar_categorias_arquivo(nomes)\n"
   ]
  },
  {
   "cell_type": "code",
   "execution_count": null,
   "metadata": {},
   "outputs": [],
   "source": []
  }
 ],
 "metadata": {
  "kernelspec": {
   "display_name": "Python 3",
   "language": "python",
   "name": "python3"
  },
  "language_info": {
   "codemirror_mode": {
    "name": "ipython",
    "version": 3
   },
   "file_extension": ".py",
   "mimetype": "text/x-python",
   "name": "python",
   "nbconvert_exporter": "python",
   "pygments_lexer": "ipython3",
   "version": "3.11.4"
  }
 },
 "nbformat": 4,
 "nbformat_minor": 2
}
