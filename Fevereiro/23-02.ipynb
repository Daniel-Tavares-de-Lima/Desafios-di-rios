{
 "cells": [
  {
   "cell_type": "markdown",
   "metadata": {},
   "source": [
    "# Desenhe um tabuleiro de jogo\n",
    "Data: 23/02/2024. De: Practice Python. Link(https://www.practicepython.org/exercise/2014/12/27/24-draw-a-game-board.html)\n",
    "\n",
    "# Descrição\n",
    "Hora de alguns gráficos fictícios! Digamos que queremos desenhar tabuleiros de jogo que se pareçam com este:\n",
    "\n",
    "--- --- --- \n",
    "|   |   |   | \n",
    " --- --- ---  \n",
    "|   |   |   | \n",
    " --- --- ---  \n",
    "|   |   |   | \n",
    " --- --- --- \n",
    "\n",
    "Este é um tabuleiro 3x3 (como no jogo da velha). Obviamente, eles vêm em muitos outros tamanhos (8x8 para xadrez, 19x19 para Go, e muitos mais).\n",
    "\n",
    "Pergunte ao usuário qual tamanho de tabuleiro de jogo eles querem desenhar, e desenhe-o para eles na tela usando a declaração de impressão do Python. "
   ]
  },
  {
   "cell_type": "markdown",
   "metadata": {},
   "source": [
    "# Minha solução"
   ]
  },
  {
   "cell_type": "code",
   "execution_count": null,
   "metadata": {},
   "outputs": [],
   "source": []
  }
 ],
 "metadata": {
  "language_info": {
   "name": "python"
  }
 },
 "nbformat": 4,
 "nbformat_minor": 2
}
