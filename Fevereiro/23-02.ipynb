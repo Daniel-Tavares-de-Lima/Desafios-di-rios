{
 "cells": [
  {
   "cell_type": "markdown",
   "metadata": {},
   "source": [
    "# Desenhe um tabuleiro de jogo\n",
    "Data: 23/02/2024. De: Practice Python. Link(https://www.practicepython.org/exercise/2014/12/27/24-draw-a-game-board.html)\n",
    "\n",
    "# Descrição\n",
    "Hora de alguns gráficos fictícios! Digamos que queremos desenhar tabuleiros de jogo que se pareçam com este:\n",
    "\n",
    "--- --- --- \n",
    "|   |   |   | \n",
    " --- --- ---  \n",
    "|   |   |   | \n",
    " --- --- ---  \n",
    "|   |   |   | \n",
    " --- --- --- \n",
    "\n",
    "Este é um tabuleiro 3x3 (como no jogo da velha). Obviamente, eles vêm em muitos outros tamanhos (8x8 para xadrez, 19x19 para Go, e muitos mais).\n",
    "\n",
    "Pergunte ao usuário qual tamanho de tabuleiro de jogo eles querem desenhar, e desenhe-o para eles na tela usando a declaração de impressão do Python. "
   ]
  },
  {
   "cell_type": "markdown",
   "metadata": {},
   "source": [
    "# Minha solução"
   ]
  },
  {
   "cell_type": "code",
   "execution_count": 6,
   "metadata": {},
   "outputs": [
    {
     "name": "stdout",
     "output_type": "stream",
     "text": [
      " ---- ----\n",
      "|   |   |   \n",
      " ---- ----\n",
      "|   |   |   \n",
      " ---- ----\n"
     ]
    }
   ],
   "source": [
    "def tabuleiro(tamanho):\n",
    "    for i in range(tamanho):\n",
    "        #Desenha uma linha horizontal\n",
    "        print(\" ----\" * tamanho)\n",
    "\n",
    "        #Desenha uma linha vertical com espaços\n",
    "        print(\"|   \" * (tamanho + 1))\n",
    "\n",
    "    print(\" ----\" * tamanho)\n",
    "\n",
    "tamanho = int(input(\"Digite o tamanho do tabuleiro de jogo(exemplo, 3 para um tabuleio 3x3)\"))\n",
    "tabuleiro(tamanho)"
   ]
  },
  {
   "cell_type": "code",
   "execution_count": null,
   "metadata": {},
   "outputs": [],
   "source": []
  }
 ],
 "metadata": {
  "kernelspec": {
   "display_name": "Python 3",
   "language": "python",
   "name": "python3"
  },
  "language_info": {
   "codemirror_mode": {
    "name": "ipython",
    "version": 3
   },
   "file_extension": ".py",
   "mimetype": "text/x-python",
   "name": "python",
   "nbconvert_exporter": "python",
   "pygments_lexer": "ipython3",
   "version": "3.11.4"
  }
 },
 "nbformat": 4,
 "nbformat_minor": 2
}
