{
 "cells": [
  {
   "cell_type": "markdown",
   "metadata": {},
   "source": [
    "# Escolha a palavra\n",
    "Data: 29/02/2024. De: Practice Python: Link(https://www.practicepython.org/exercise/2016/09/24/30-pick-word.html)\n",
    "\n",
    "# Descrição\n",
    "Neste exercício, a tarefa é escrever uma função que escolhe uma palavra aleatória de uma lista de palavras do dicionário SOWPODS. Baixe este arquivo e salve-o no mesmo diretório que seu código Python. Este arquivo é a compilação de Peter Norvig do dicionário de palavras usado em torneios profissionais de Scrabble. Cada linha no arquivo contém uma única palavra.\n",
    "\n",
    "Dica: use a biblioteca random do Python para escolher uma palavra aleatória."
   ]
  },
  {
   "cell_type": "code",
   "execution_count": 2,
   "metadata": {},
   "outputs": [],
   "source": [
    "\n",
    "from random import randint\n",
    "import requests\n",
    "\n",
    "response = requests.get(\"http://norvig.com/ngrams/sowpods.txt\")\n",
    "words = response.text.split(\"\\n\")"
   ]
  },
  {
   "cell_type": "code",
   "execution_count": null,
   "metadata": {},
   "outputs": [],
   "source": []
  }
 ],
 "metadata": {
  "kernelspec": {
   "display_name": "Python 3",
   "language": "python",
   "name": "python3"
  },
  "language_info": {
   "codemirror_mode": {
    "name": "ipython",
    "version": 3
   },
   "file_extension": ".py",
   "mimetype": "text/x-python",
   "name": "python",
   "nbconvert_exporter": "python",
   "pygments_lexer": "ipython3",
   "version": "3.11.4"
  }
 },
 "nbformat": 4,
 "nbformat_minor": 2
}
