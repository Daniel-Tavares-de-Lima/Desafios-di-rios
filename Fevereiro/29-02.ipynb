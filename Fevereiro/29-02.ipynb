{
 "cells": [
  {
   "cell_type": "markdown",
   "metadata": {},
   "source": [
    "# Escolha a palavra\n",
    "Data: 29/02/2024. De: Practice Python: Link(https://www.practicepython.org/exercise/2016/09/24/30-pick-word.html)\n",
    "\n",
    "# Descrição\n",
    "Neste exercício, a tarefa é escrever uma função que escolhe uma palavra aleatória de uma lista de palavras do dicionário SOWPODS. Baixe este arquivo e salve-o no mesmo diretório que seu código Python. Este arquivo é a compilação de Peter Norvig do dicionário de palavras usado em torneios profissionais de Scrabble. Cada linha no arquivo contém uma única palavra.\n",
    "\n",
    "Dica: use a biblioteca random do Python para escolher uma palavra aleatória."
   ]
  },
  {
   "cell_type": "code",
   "execution_count": null,
   "metadata": {},
   "outputs": [],
   "source": []
  }
 ],
 "metadata": {
  "language_info": {
   "name": "python"
  }
 },
 "nbformat": 4,
 "nbformat_minor": 2
}
